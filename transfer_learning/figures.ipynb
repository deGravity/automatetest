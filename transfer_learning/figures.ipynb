{
 "cells": [
  {
   "cell_type": "markdown",
   "metadata": {},
   "source": [
    "## Reconstruction Gallery"
   ]
  },
  {
   "cell_type": "code",
   "execution_count": null,
   "metadata": {},
   "outputs": [],
   "source": [
    "# TODO - move any reasonable-to-precomput torch files to disk, put unreasonable ones in gitignore\n",
    "#      - add params for gallery size, flag for force recompute, and cache loading for prerenders\n",
    "\n",
    "import torch\n",
    "import numpy as np\n",
    "from rendering import find_best_angle_from_part, render_part, render_mesh\n",
    "from tqdm.notebook import tqdm\n",
    "from render_shape import preds_to_mesh\n",
    "from zipfile import ZipFile\n",
    "import json\n",
    "from pspy import Part\n",
    "from train_latent_space import BRepFaceAutoencoder\n",
    "from matplotlib import pyplot as plt\n",
    "import os\n",
    "\n",
    "data_root = '/media/ben/Data/cad'\n",
    "f360seg_index_path =  data_root + '/fusion360seg.json'\n",
    "f360seg_zip_path = data_root + '/fusion360seg.zip'\n",
    "model_checkpoint_path = data_root + '/BRepFaceAutoencoder_64_1024_4.ckpt'\n",
    "computed_f360seg_codes_path = data_root + '/fusion360seg_coded.pt'\n",
    "render_losses_path = 'f360_render_test_losses.pt'\n",
    "figure_out_path = 'renderings.png'\n",
    "\n",
    "rows = 6\n",
    "cols = 4\n",
    "size = 5\n",
    "\n",
    "grid_density = 100\n",
    "\n",
    "force_rendering = False\n",
    "\n",
    "\n",
    "\n",
    "\n",
    "\n",
    "testing_losses = torch.load(render_losses_path)\n",
    "avg_losses = np.array([x[0].item() for x in testing_losses])\n",
    "part_sizes = np.array([x[1] for x in testing_losses])\n",
    "total_losses = avg_losses * part_sizes\n",
    "avg_sorted = sorted(enumerate(zip(avg_losses, part_sizes, total_losses)),key=lambda x: x[1][0])\n",
    "total_sorted = sorted(enumerate(zip(avg_losses, part_sizes, total_losses)),key=lambda x: x[1][2])\n",
    "total_filtered = [x for x in total_sorted if x[1][1] > 20]\n",
    "\n",
    "\n",
    "recompute_renderings = True\n",
    "if os.path.exists('render_results.pt') and not force_rendering:\n",
    "    render_results = torch.load('render_results.pt')\n",
    "    renders = render_results['renders']\n",
    "    gts = render_results['gts']\n",
    "    if len(renders) >= rows*cols:\n",
    "        recompute_renderings = False\n",
    "\n",
    "if recompute_renderings:\n",
    "    with open(f360seg_index_path,'r') as f:\n",
    "        index = json.load(f)\n",
    "    data =  ZipFile(f360seg_zip_path,'r')\n",
    "    parts_list = [index['template'].format(*x) for x in index['test']]\n",
    "\n",
    "    model = BRepFaceAutoencoder(64,1024,4)\n",
    "    ckpt = torch.load(model_checkpoint_path)\n",
    "    model.load_state_dict(ckpt['state_dict'])\n",
    "\n",
    "    def predict(face_codes, model, N=grid_density):\n",
    "        n_faces = face_codes.shape[0]\n",
    "        line = torch.linspace(-0.1,1.1,N)\n",
    "        grid = torch.cartesian_prod(line, line)\n",
    "        grids = grid.repeat(n_faces,1)\n",
    "        indices = torch.arange(n_faces).repeat_interleave(N*N, dim=0)\n",
    "        with torch.no_grad():\n",
    "            indexed_codes = face_codes[indices]\n",
    "            uv_codes = torch.cat([grids, indexed_codes],dim=1)\n",
    "            preds = model.decoder(uv_codes)\n",
    "        return preds\n",
    "\n",
    "    codes = torch.load(computed_f360seg_codes_path)\n",
    "\n",
    "    gts = []\n",
    "    renders = []\n",
    "    for k in tqdm(range(rows*cols)):\n",
    "        i = total_filtered[k][0]\n",
    "        N = grid_density\n",
    "        preds = predict(codes[parts_list[i]]['x'], model, N)\n",
    "        V, F, C = preds_to_mesh(preds, N)\n",
    "        part = Part(data.open(parts_list[i]).read().decode('utf-8'))\n",
    "        pose, zoom = find_best_angle_from_part(part)\n",
    "        ground_truth = render_part(part, pose, zoom)\n",
    "        rendering = render_mesh(V,F,C,pose,zoom)\n",
    "        gts.append(ground_truth)\n",
    "        renders.append(rendering)\n",
    "\n",
    "    render_results = {'gts':gts,'renders':renders}\n",
    "    torch.save(render_results, 'render_results.pt')\n",
    "\n",
    "\n",
    "\n",
    "M = rows*cols\n",
    "s = size\n",
    "fig, axes = plt.subplots(int(M/cols), cols*2, figsize=(2*cols*s, s*int(M/cols)),gridspec_kw = {'wspace':0, 'hspace':0}, dpi=300)\n",
    "for i in range(M):\n",
    "    row = int(i / cols)\n",
    "    col = i % cols\n",
    "    axes[row,2*col].imshow(gts[i])\n",
    "    axes[row,2*col].axis('off')\n",
    "    axes[row,2*col+1].imshow(renders[i])\n",
    "    axes[row,2*col+1].axis('off')\n",
    "fig.savefig(figure_out_path)"
   ]
  },
  {
   "cell_type": "code",
   "execution_count": null,
   "metadata": {},
   "outputs": [],
   "source": []
  },
  {
   "cell_type": "markdown",
   "metadata": {},
   "source": [
    "## MFCAD Figure"
   ]
  },
  {
   "cell_type": "code",
   "execution_count": null,
   "metadata": {},
   "outputs": [],
   "source": [
    "from precoded_training import DictDatamodule, CodePredictor, load_models\n",
    "from pylab import cm\n",
    "import meshplot as mp\n",
    "\n",
    "with open('/projects/grail/benjonesnb/cadlab/siggasia2022/mfcad.json','r') as f:\n",
    "    index = json.load(f)\n",
    "    coded_set = torch.load('/projects/grail/benjonesnb/cadlab/siggasia2022/precoded/mfcad_coded.pt')\n",
    "\n",
    "datamodule = DictDatamodule(\n",
    "                    index, \n",
    "                    coded_set,  \n",
    "                    seed=0, \n",
    "                    batch_size=512\n",
    "                )\n",
    "\n",
    "test_ds = datamodule.ds_test\n",
    "\n",
    "all_models = load_models('/projects/grail/benjonesnb/cadlab/siggasia2022/tensorboard/mfcad/')\n",
    "our_models = all_models['mp2']\n",
    "\n",
    "# Compute a \"difficulty\" scale for test set examples (this is also used in comparison figs...)\n",
    "accs = np.zeros((len(test_ds), len(our_models)))\n",
    "for i in tqdm(range(len(test_ds))):\n",
    "    data = test_ds[i]\n",
    "    for j, (ts, m) in enumerate(our_models):\n",
    "        with torch.no_grad():\n",
    "            preds = m(data).argmax(dim=1).numpy()\n",
    "        targets = data.y.numpy()\n",
    "        acc = (preds.flatten() == targets.flatten()).sum() / len(targets.flatten())\n",
    "        accs[i,j] = acc\n",
    "\n",
    "# Setup Plotting Code (Replace with Other Version)\n",
    "num_labels = max([i for j in index['test_labels'] for i in j]) + 1\n",
    "cmap = cm.get_cmap('tab20', num_labels)\n",
    "zf = ZipFile('/projects/grail/benjonesnb/cadlab/siggasia2022/mfcad.zip')\n",
    "test_keys = [index['template'].format(*x) for x in index['test']]\n",
    "def plot_part(V, F, E2T, FC=None):\n",
    "    plot = mp.plot(V, F, c = FC)\n",
    "    E = np.concatenate([\n",
    "        F[E2T[:,0]>=0][:,[2,0]], \n",
    "        F[E2T[:,1]>=0][:,[0,1]],\n",
    "        F[E2T[:,2]>=0][:,[1,2]]\n",
    "    ], axis=0)\n",
    "    plot.add_edges(V, E, shading={'line_width':0.5})\n",
    "def plot_preds(i, test_ds, test_keys=test_keys, zf=zf, models=our_models, colormap=cmap, just_gt=False):\n",
    "    data = test_ds[i]\n",
    "    with zf.open(test_keys[i],'r') as f:\n",
    "        p = Part(f.read().decode('utf-8'))\n",
    "    target = data.y.numpy()\n",
    "    target_c = colormap(target[p.mesh_topology.face_to_topology])[:,:3]\n",
    "    plot_part(p.mesh.V, p.mesh.F, p.mesh_topology.edge_to_topology,  target_c)\n",
    "    if just_gt:\n",
    "        return\n",
    "    model_preds = []\n",
    "    for ts, model in models:\n",
    "        with torch.no_grad():\n",
    "            preds = model(data).argmax(dim=1).numpy()\n",
    "            model_preds.append(preds)   \n",
    "    for preds in model_preds:\n",
    "        pred_c = colormap(preds[p.mesh_topology.face_to_topology])[:,:3]\n",
    "        plot_part(p.mesh.V, p.mesh.F, p.mesh_topology.edge_to_topology, pred_c)\n",
    "\n",
    "\n",
    "# Metrics used to help find the examples\n",
    "local_auc = accs.sum(axis = 1) - accs[:,0] / 2 - accs[:,-1] / 2\n",
    "complexity = np.array([len(test_ds[i].y) for i in range(len(test_ds))])\n",
    "sorted_by_auc = sorted(enumerate(zip(local_auc, complexity)), key=lambda x:x[1][0])\n",
    "filtered_examples = [x for x in sorted_by_auc if x[1][1] > 20]\n",
    "\n",
    "gallery_examples = [646, 965, 673, 417, 888, 1090]\n",
    "\n",
    "for i in gallery_examples:\n",
    "    plot_preds(i, test_ds, test_keys, zf, our_models, color_pallet, just_gt=True)\n"
   ]
  },
  {
   "cell_type": "code",
   "execution_count": null,
   "metadata": {},
   "outputs": [],
   "source": []
  },
  {
   "cell_type": "markdown",
   "metadata": {},
   "source": [
    "## Limitations Plot"
   ]
  },
  {
   "cell_type": "code",
   "execution_count": null,
   "metadata": {},
   "outputs": [],
   "source": [
    "import altair as alt\n",
    "import numpy as np\n",
    "import pandas as pd\n",
    "from matplotlib import pyplot as plt\n",
    "\n",
    "accs = pd.read_parquet('df_face_acc.parquet')\n",
    "accs['one'] = 1\n",
    "iscorr = np.vectorize(lambda x: 'correct' if x == 1 else 'incorrect')\n",
    "accs['correct'] = iscorr(accs.label)\n",
    "accs['logmse'] = np.log(accs.mse)\n",
    "\n",
    "alt.data_transformers.disable_max_rows()\n",
    "\n",
    "alt.Chart(accs[accs.mse < 1]).mark_bar().encode(\n",
    "    x=alt.X('logmse',bin=alt.Bin(maxbins=50)),\n",
    "    y=alt.Y('sum(one)', stack='normalize', axis=alt.Axis(format='%')),\n",
    "    color=alt.Color('label:N')\n",
    ").facet(row='train_size')"
   ]
  },
  {
   "cell_type": "code",
   "execution_count": null,
   "metadata": {},
   "outputs": [],
   "source": []
  },
  {
   "cell_type": "markdown",
   "metadata": {},
   "source": [
    "## Classification Comparisons"
   ]
  },
  {
   "cell_type": "code",
   "execution_count": null,
   "metadata": {},
   "outputs": [],
   "source": [
    "import numpy as np\n",
    "import torch\n",
    "import json\n",
    "from precoded_training import DictDatamodule, CodePredictor, load_models\n",
    "from rendering import find_best_angle_from_part, render_part2\n",
    "from tqdm.notebook import tqdm\n",
    "from pspy import Part\n",
    "from zipfile import ZipFile\n",
    "from matplotlib import pyplot as plt\n",
    "\n",
    "\n",
    "# Setup Local Paths\n",
    "\n",
    "data_root = '/media/ben/Data/cad'\n",
    "f360seg_index_path =  data_root + '/fusion360seg.json'\n",
    "f360seg_zip_path = data_root + '/fusion360seg.zip'\n",
    "\n",
    "repbrep_data_path = '/home/ben/Documents/research/repbrep/data'\n",
    "\n",
    "f360_seg_coded_path = repbrep_data_path + '/precoded/fusion360seg_coded.pt'\n",
    "\n",
    "f360_seg_uvnet_results_path = repbrep_data_path + '/baselines/Fusion360Seg_UV-Net.json'\n",
    "f360seg_brepnet_results_path = repbrep_data_path + '/baselines/Fusion360Seg_BRepNet.json'\n",
    "\n",
    "experiments_dir = '/home/ben/Documents/research/repbrep/data/training/experiments'\n",
    "f360seg_tb_dir = experiments_dir +'/f360seg/'\n",
    "\n",
    "\n",
    "# Load UV-Net Results\n",
    "with open(f360_seg_uvnet_results_path,'r') as f:\n",
    "    uvnet360 = json.load(f)\n",
    "\n",
    "labels = uvnet360['labels']\n",
    "logits = uvnet360['logits']['100'][0]\n",
    "uv_preds = [np.array(l).argmax() for l in logits]\n",
    "part_accs_uv = []\n",
    "offset = 0\n",
    "part_preds_uv = []\n",
    "for part_labels in labels:\n",
    "    part_preds = uv_preds[offset:offset+len(part_labels)]\n",
    "    part_preds_uv.append(part_preds)\n",
    "    part_accs_uv.append((np.array(part_preds) == np.array(part_labels)).sum() / len(part_labels))\n",
    "    offset += len(part_labels)\n",
    "part_accs_uv = np.array(part_accs_uv)\n",
    "\n",
    "# Load BRepNet Results\n",
    "with open(f360seg_brepnet_results_path,'r') as f:\n",
    "    brep360 = json.load(f)\n",
    "\n",
    "labels = brep360['labels']\n",
    "logits = brep360['logits']['100'][0]\n",
    "preds = [np.array(l).argmax() for ll in logits for l in ll]\n",
    "part_accs_brep = []\n",
    "part_preds_brep = []\n",
    "offset = 0\n",
    "for i, part_labels in enumerate(labels):\n",
    "    part_preds = preds[offset:offset+len(part_labels)]\n",
    "    part_preds_brep.append(part_preds)\n",
    "    part_accs_brep.append((np.array(part_preds) == np.array(part_labels)).sum() / len(part_labels))\n",
    "    offset += len(part_labels)\n",
    "part_accs_brep = np.array(part_accs_brep)\n",
    "\n",
    "# Load Our Trained Models\n",
    "all_models = load_models(f360seg_tb_dir)\n",
    "our_models = all_models['mp2']\n",
    "\n",
    "# Select Our Model\n",
    "model = our_models[1][1]\n",
    "\n",
    "# Load Fusion 360 Dataset\n",
    "with open(f360seg_index_path,'r') as f:\n",
    "    index = json.load(f)\n",
    "    coded_set = torch.load(f360_seg_coded_path)\n",
    "\n",
    "\n",
    "\n",
    "datamodule = DictDatamodule(\n",
    "                    index, \n",
    "                    coded_set, \n",
    "                    train_size=23266, \n",
    "                    seed=0, \n",
    "                    batch_size=512\n",
    "                )\n",
    "\n",
    "test_ds = datamodule.ds_test\n",
    "\n",
    "\n",
    "# Compute Our Model's Accuracy at different train sizes\n",
    "accs = np.zeros((len(test_ds), len(our_models)))\n",
    "for i in tqdm(range(len(test_ds))):\n",
    "    data = test_ds[i]\n",
    "    for j, (ts, m) in enumerate(our_models):\n",
    "        with torch.no_grad():\n",
    "            preds = m(data).argmax(dim=1).numpy()\n",
    "        targets = data.y.numpy()\n",
    "        acc = (preds.flatten() == targets.flatten()).sum() / len(targets.flatten())\n",
    "        accs[i,j] = acc\n",
    "\n",
    "# We just take the accuracies for the size we used\n",
    "part_accs_ours = accs[:,1]\n",
    "\n",
    "# Compute the total accuracy lift over baselines for each test example\n",
    "lift = (part_accs_ours - part_accs_brep) + (part_accs_ours - part_accs_uv)\n",
    "\n",
    "# Compute the number of faces in each test example as a complexity metric\n",
    "complexity = np.array([len(test_ds[i].y) for i in range(len(test_ds))])\n",
    "\n",
    "# Sort by lift and other keys, and filter to parts with more than 25 faces, and baselines with at least 10% accuracy\n",
    "nuanced_wins = [x for x in sorted(enumerate(zip(lift,complexity, part_accs_ours, part_accs_uv, part_accs_brep)), reverse=True, key = lambda x : x[1]) \n",
    " if x[1][1] > 25 and x[1][3] > .1 and x[1][4] > .1]\n",
    "\n",
    "# Here is where we could try selecting random models.\n",
    "\n",
    "\n",
    "data =  ZipFile(f360seg_zip_path,'r')\n",
    "parts_list = [index['template'].format(*x) for x in index['test']]\n",
    "\n",
    "s=5\n",
    "M = 10\n",
    "\n",
    "selection = nuanced_wins[:M]\n",
    "fig, axes = plt.subplots(M,4, figsize=(4*s,M*s),gridspec_kw={'wspace':0,'hspace':0},dpi=300)\n",
    "for k, sel in enumerate(tqdm(selection)):\n",
    "    i = sel[0]\n",
    "    part = Part(data.open(parts_list[i]).read().decode('utf-8'))\n",
    "    pose, zoom = find_best_angle_from_part(part, cubify=True)\n",
    "\n",
    "    gt = np.array(labels[i])\n",
    "    pdata = test_ds[i]\n",
    "    our_preds = model(pdata).argmax(dim=1).numpy().astype(int)\n",
    "    uv_preds = np.array(part_preds_uv[i]).astype(int)\n",
    "    brep_preds = np.array(part_preds_brep[i]).astype(int)\n",
    "\n",
    "    gt_im = render_part2(part, pose, zoom, face_labels=gt, max_labels=8)\n",
    "    our_im = render_part2(part, pose, zoom, face_labels=our_preds, max_labels=8)\n",
    "    uv_im = render_part2(part, pose, zoom, face_labels=uv_preds, max_labels=8)\n",
    "    brep_im = render_part2(part, pose, zoom, face_labels=brep_preds, max_labels=8)\n",
    "    axes[k,0].imshow(gt_im)\n",
    "    axes[k,1].imshow(our_im)\n",
    "    axes[k,2].imshow(uv_im)\n",
    "    axes[k,3].imshow(brep_im)\n",
    "    for ax in axes[k]:\n",
    "        ax.axis('off')"
   ]
  },
  {
   "cell_type": "code",
   "execution_count": 213,
   "metadata": {},
   "outputs": [],
   "source": [
    "mfcad_tb_dir = experiments_dir +'/f360seg/'\n",
    "our_models_all_seeds_f360 = [load_models(f360seg_tb_dir, s)['mp2'] for s in range(10)]\n",
    "our_models_all_seeds_mfcad = [load_models(mfcad_tb_dir, s)['mp2'] for s in range(10)]"
   ]
  },
  {
   "cell_type": "code",
   "execution_count": 222,
   "metadata": {},
   "outputs": [
    {
     "data": {
      "text/plain": [
       "[(10,\n",
       "  CodePredictor(\n",
       "    (mp): ModuleList(\n",
       "      (0): BipartiteResMRConv(\n",
       "        (mlp): LinearBlock(\n",
       "          (f): Sequential(\n",
       "            (0): Linear(in_features=128, out_features=64, bias=True)\n",
       "            (1): LeakyReLU(negative_slope=0.01)\n",
       "          )\n",
       "        )\n",
       "      )\n",
       "      (1): BipartiteResMRConv(\n",
       "        (mlp): LinearBlock(\n",
       "          (f): Sequential(\n",
       "            (0): Linear(in_features=128, out_features=64, bias=True)\n",
       "            (1): LeakyReLU(negative_slope=0.01)\n",
       "          )\n",
       "        )\n",
       "      )\n",
       "    )\n",
       "    (mlp): LinearBlock(\n",
       "      (f): Sequential(\n",
       "        (0): Linear(in_features=64, out_features=64, bias=True)\n",
       "        (1): LeakyReLU(negative_slope=0.01)\n",
       "        (2): Linear(in_features=64, out_features=16, bias=True)\n",
       "      )\n",
       "    )\n",
       "    (train_acc): Accuracy()\n",
       "    (val_acc): Accuracy()\n",
       "    (test_acc): Accuracy()\n",
       "  )),\n",
       " (100,\n",
       "  CodePredictor(\n",
       "    (mp): ModuleList(\n",
       "      (0): BipartiteResMRConv(\n",
       "        (mlp): LinearBlock(\n",
       "          (f): Sequential(\n",
       "            (0): Linear(in_features=128, out_features=64, bias=True)\n",
       "            (1): LeakyReLU(negative_slope=0.01)\n",
       "          )\n",
       "        )\n",
       "      )\n",
       "      (1): BipartiteResMRConv(\n",
       "        (mlp): LinearBlock(\n",
       "          (f): Sequential(\n",
       "            (0): Linear(in_features=128, out_features=64, bias=True)\n",
       "            (1): LeakyReLU(negative_slope=0.01)\n",
       "          )\n",
       "        )\n",
       "      )\n",
       "    )\n",
       "    (mlp): LinearBlock(\n",
       "      (f): Sequential(\n",
       "        (0): Linear(in_features=64, out_features=64, bias=True)\n",
       "        (1): LeakyReLU(negative_slope=0.01)\n",
       "        (2): Linear(in_features=64, out_features=16, bias=True)\n",
       "      )\n",
       "    )\n",
       "    (train_acc): Accuracy()\n",
       "    (val_acc): Accuracy()\n",
       "    (test_acc): Accuracy()\n",
       "  )),\n",
       " (1000,\n",
       "  CodePredictor(\n",
       "    (mp): ModuleList(\n",
       "      (0): BipartiteResMRConv(\n",
       "        (mlp): LinearBlock(\n",
       "          (f): Sequential(\n",
       "            (0): Linear(in_features=128, out_features=64, bias=True)\n",
       "            (1): LeakyReLU(negative_slope=0.01)\n",
       "          )\n",
       "        )\n",
       "      )\n",
       "      (1): BipartiteResMRConv(\n",
       "        (mlp): LinearBlock(\n",
       "          (f): Sequential(\n",
       "            (0): Linear(in_features=128, out_features=64, bias=True)\n",
       "            (1): LeakyReLU(negative_slope=0.01)\n",
       "          )\n",
       "        )\n",
       "      )\n",
       "    )\n",
       "    (mlp): LinearBlock(\n",
       "      (f): Sequential(\n",
       "        (0): Linear(in_features=64, out_features=64, bias=True)\n",
       "        (1): LeakyReLU(negative_slope=0.01)\n",
       "        (2): Linear(in_features=64, out_features=16, bias=True)\n",
       "      )\n",
       "    )\n",
       "    (train_acc): Accuracy()\n",
       "    (val_acc): Accuracy()\n",
       "    (test_acc): Accuracy()\n",
       "  )),\n",
       " (10000,\n",
       "  CodePredictor(\n",
       "    (mp): ModuleList(\n",
       "      (0): BipartiteResMRConv(\n",
       "        (mlp): LinearBlock(\n",
       "          (f): Sequential(\n",
       "            (0): Linear(in_features=128, out_features=64, bias=True)\n",
       "            (1): LeakyReLU(negative_slope=0.01)\n",
       "          )\n",
       "        )\n",
       "      )\n",
       "      (1): BipartiteResMRConv(\n",
       "        (mlp): LinearBlock(\n",
       "          (f): Sequential(\n",
       "            (0): Linear(in_features=128, out_features=64, bias=True)\n",
       "            (1): LeakyReLU(negative_slope=0.01)\n",
       "          )\n",
       "        )\n",
       "      )\n",
       "    )\n",
       "    (mlp): LinearBlock(\n",
       "      (f): Sequential(\n",
       "        (0): Linear(in_features=64, out_features=64, bias=True)\n",
       "        (1): LeakyReLU(negative_slope=0.01)\n",
       "        (2): Linear(in_features=64, out_features=16, bias=True)\n",
       "      )\n",
       "    )\n",
       "    (train_acc): Accuracy()\n",
       "    (val_acc): Accuracy()\n",
       "    (test_acc): Accuracy()\n",
       "  )),\n",
       " (20000,\n",
       "  CodePredictor(\n",
       "    (mp): ModuleList(\n",
       "      (0): BipartiteResMRConv(\n",
       "        (mlp): LinearBlock(\n",
       "          (f): Sequential(\n",
       "            (0): Linear(in_features=128, out_features=64, bias=True)\n",
       "            (1): LeakyReLU(negative_slope=0.01)\n",
       "          )\n",
       "        )\n",
       "      )\n",
       "      (1): BipartiteResMRConv(\n",
       "        (mlp): LinearBlock(\n",
       "          (f): Sequential(\n",
       "            (0): Linear(in_features=128, out_features=64, bias=True)\n",
       "            (1): LeakyReLU(negative_slope=0.01)\n",
       "          )\n",
       "        )\n",
       "      )\n",
       "    )\n",
       "    (mlp): LinearBlock(\n",
       "      (f): Sequential(\n",
       "        (0): Linear(in_features=64, out_features=64, bias=True)\n",
       "        (1): LeakyReLU(negative_slope=0.01)\n",
       "        (2): Linear(in_features=64, out_features=16, bias=True)\n",
       "      )\n",
       "    )\n",
       "    (train_acc): Accuracy()\n",
       "    (val_acc): Accuracy()\n",
       "    (test_acc): Accuracy()\n",
       "  )),\n",
       " (23266,\n",
       "  CodePredictor(\n",
       "    (mp): ModuleList(\n",
       "      (0): BipartiteResMRConv(\n",
       "        (mlp): LinearBlock(\n",
       "          (f): Sequential(\n",
       "            (0): Linear(in_features=128, out_features=64, bias=True)\n",
       "            (1): LeakyReLU(negative_slope=0.01)\n",
       "          )\n",
       "        )\n",
       "      )\n",
       "      (1): BipartiteResMRConv(\n",
       "        (mlp): LinearBlock(\n",
       "          (f): Sequential(\n",
       "            (0): Linear(in_features=128, out_features=64, bias=True)\n",
       "            (1): LeakyReLU(negative_slope=0.01)\n",
       "          )\n",
       "        )\n",
       "      )\n",
       "    )\n",
       "    (mlp): LinearBlock(\n",
       "      (f): Sequential(\n",
       "        (0): Linear(in_features=64, out_features=64, bias=True)\n",
       "        (1): LeakyReLU(negative_slope=0.01)\n",
       "        (2): Linear(in_features=64, out_features=16, bias=True)\n",
       "      )\n",
       "    )\n",
       "    (train_acc): Accuracy()\n",
       "    (val_acc): Accuracy()\n",
       "    (test_acc): Accuracy()\n",
       "  ))]"
      ]
     },
     "execution_count": 222,
     "metadata": {},
     "output_type": "execute_result"
    }
   ],
   "source": [
    "our_models_all_seeds_f360[0]"
   ]
  },
  {
   "cell_type": "code",
   "execution_count": 249,
   "metadata": {},
   "outputs": [
    {
     "data": {
      "application/vnd.jupyter.widget-view+json": {
       "model_id": "f809e53243e84c09bde6cda3118fd4d6",
       "version_major": 2,
       "version_minor": 0
      },
      "text/plain": [
       "examples:   0%|          | 0/4184 [00:00<?, ?it/s]"
      ]
     },
     "metadata": {},
     "output_type": "display_data"
    },
    {
     "data": {
      "application/vnd.jupyter.widget-view+json": {
       "model_id": "1066e71dea654dfe96cba9852ba119e5",
       "version_major": 2,
       "version_minor": 0
      },
      "text/plain": [
       "examples:   0%|          | 0/4184 [00:00<?, ?it/s]"
      ]
     },
     "metadata": {},
     "output_type": "display_data"
    },
    {
     "data": {
      "application/vnd.jupyter.widget-view+json": {
       "model_id": "ac220cdc52d744739ff7cfe4acfe91a8",
       "version_major": 2,
       "version_minor": 0
      },
      "text/plain": [
       "examples:   0%|          | 0/4184 [00:00<?, ?it/s]"
      ]
     },
     "metadata": {},
     "output_type": "display_data"
    },
    {
     "data": {
      "application/vnd.jupyter.widget-view+json": {
       "model_id": "591b185b8a7746f2a3ab79dff2e0b900",
       "version_major": 2,
       "version_minor": 0
      },
      "text/plain": [
       "examples:   0%|          | 0/4184 [00:00<?, ?it/s]"
      ]
     },
     "metadata": {},
     "output_type": "display_data"
    }
   ],
   "source": [
    "need_labels = True\n",
    "labels = []\n",
    "records = []\n",
    "for seed in tqdm(range(10), 'Seed'):\n",
    "    for model_name, model_set in tqdm([('Fusion360Seg', our_models_all_seeds_f360), ('MFCAD', our_models_all_seeds_mfcad)], 'dataset', leave=False):\n",
    "        for train_size, model in tqdm(model_set[seed], 'train_size', leave=False):\n",
    "            for i in tqdm(range(len(test_ds)), 'examples', leave=False):\n",
    "                data = test_ds[i]\n",
    "                with torch.no_grad():\n",
    "                    pred_logits = model(data).numpy().tolist()\n",
    "                iter_labels = data.y.numpy().tolist()\n",
    "                if need_labels:\n",
    "                    labels.append(data.y.numpy().tolist())\n",
    "                records.append({\n",
    "                    'dataset': model_name,\n",
    "                    'model': 'Ours',\n",
    "                    'test_idx': i,\n",
    "                    'seed': seed,\n",
    "                    'train_size': train_size,\n",
    "                    'logits': pred_logits,\n",
    "                    'labels': iter_labels\n",
    "                })"
   ]
  },
  {
   "cell_type": "code",
   "execution_count": 251,
   "metadata": {},
   "outputs": [],
   "source": [
    "import pandas as pd\n",
    "\n",
    "our_df = pd.DataFrame.from_records(records)"
   ]
  },
  {
   "cell_type": "code",
   "execution_count": 257,
   "metadata": {},
   "outputs": [],
   "source": [
    "our_df.to_parquet('results/OursAll.parquet')"
   ]
  },
  {
   "cell_type": "code",
   "execution_count": null,
   "metadata": {},
   "outputs": [],
   "source": []
  },
  {
   "cell_type": "code",
   "execution_count": null,
   "metadata": {},
   "outputs": [],
   "source": [
    "# Compute Our Model's Accuracy at different train sizes\n",
    "accs = np.zeros((len(test_ds), len(our_models)))\n",
    "for i in tqdm(range(len(test_ds))):\n",
    "    data = test_ds[i]\n",
    "    for j, (ts, m) in enumerate(our_models):\n",
    "        with torch.no_grad():\n",
    "            preds = m(data).argmax(dim=1).numpy()\n",
    "        targets = data.y.numpy()\n",
    "        acc = (preds.flatten() == targets.flatten()).sum() / len(targets.flatten())\n",
    "        accs[i,j] = acc\n",
    "\n",
    "# We just take the accuracies for the size we used\n",
    "part_accs_ours = accs[:,1]"
   ]
  },
  {
   "cell_type": "code",
   "execution_count": 205,
   "metadata": {},
   "outputs": [
    {
     "data": {
      "text/plain": [
       "(10,\n",
       " CodePredictor(\n",
       "   (mp): ModuleList(\n",
       "     (0): BipartiteResMRConv(\n",
       "       (mlp): LinearBlock(\n",
       "         (f): Sequential(\n",
       "           (0): Linear(in_features=128, out_features=64, bias=True)\n",
       "           (1): LeakyReLU(negative_slope=0.01)\n",
       "         )\n",
       "       )\n",
       "     )\n",
       "     (1): BipartiteResMRConv(\n",
       "       (mlp): LinearBlock(\n",
       "         (f): Sequential(\n",
       "           (0): Linear(in_features=128, out_features=64, bias=True)\n",
       "           (1): LeakyReLU(negative_slope=0.01)\n",
       "         )\n",
       "       )\n",
       "     )\n",
       "   )\n",
       "   (mlp): LinearBlock(\n",
       "     (f): Sequential(\n",
       "       (0): Linear(in_features=64, out_features=64, bias=True)\n",
       "       (1): LeakyReLU(negative_slope=0.01)\n",
       "       (2): Linear(in_features=64, out_features=16, bias=True)\n",
       "     )\n",
       "   )\n",
       "   (train_acc): Accuracy()\n",
       "   (val_acc): Accuracy()\n",
       "   (test_acc): Accuracy()\n",
       " ))"
      ]
     },
     "execution_count": 205,
     "metadata": {},
     "output_type": "execute_result"
    }
   ],
   "source": [
    "our_models[0]"
   ]
  },
  {
   "cell_type": "code",
   "execution_count": 197,
   "metadata": {},
   "outputs": [
    {
     "data": {
      "text/plain": [
       "6"
      ]
     },
     "execution_count": 197,
     "metadata": {},
     "output_type": "execute_result"
    }
   ],
   "source": [
    "len(uvnet360['checkpoint'])"
   ]
  },
  {
   "cell_type": "code",
   "execution_count": 11,
   "metadata": {},
   "outputs": [],
   "source": [
    "import json\n",
    "import numpy as np\n",
    "from tqdm.notebook import tqdm\n",
    "\n",
    "data_root = '/media/ben/Data/cad'\n",
    "f360seg_index_path =  data_root + '/fusion360seg.json'\n",
    "f360seg_zip_path = data_root + '/fusion360seg.zip'\n",
    "\n",
    "repbrep_data_path = '/home/ben/Documents/research/repbrep/data'\n",
    "\n",
    "f360_seg_coded_path = repbrep_data_path + '/precoded/fusion360seg_coded.pt'\n",
    "\n",
    "f360seg_uvnet_results_path = repbrep_data_path + '/baselines/Fusion360Seg_UV-Net.json'\n",
    "f360seg_brepnet_results_path = repbrep_data_path + '/baselines/Fusion360Seg_BRepNet.json'\n",
    "\n",
    "mfcad_uvnet_results_path = repbrep_data_path + '/baselines/MFCAD_UV-Net.json'\n",
    "mfcad_brepnet_results_path = repbrep_data_path + '/baselines/MFCAD_BRepNet.json'\n",
    "\n",
    "experiments_dir = '/home/ben/Documents/research/repbrep/data/training/experiments'\n",
    "f360seg_tb_dir = experiments_dir +'/f360seg/'\n",
    "\n",
    "def load_json(path):\n",
    "    with open(path,'r') as f:\n",
    "        return json.load(f)\n",
    "\n",
    "def load_uvnet_results(uvnet360, train_size, seed):\n",
    "    labels = uvnet360['labels']\n",
    "    logits = uvnet360['logits'][str(train_size)][seed]\n",
    "    uv_preds = [np.array(l).argmax() for l in logits]\n",
    "    part_accs_uv = []\n",
    "    offset = 0\n",
    "    part_preds_uv = []\n",
    "    for part_labels in labels:\n",
    "        part_preds = uv_preds[offset:offset+len(part_labels)]\n",
    "        part_preds_uv.append(part_preds)\n",
    "        part_accs_uv.append((np.array(part_preds) == np.array(part_labels)).sum() / len(part_labels))\n",
    "        offset += len(part_labels)\n",
    "    part_accs_uv = np.array(part_accs_uv)\n",
    "    return part_preds_uv, part_accs_uv\n",
    "\n",
    "def load_all_uv_net_results(uvnet360, seed):\n",
    "    sizes = [int(x) for x in uvnet360['logits'].keys()]\n",
    "    results = {}\n",
    "    for s in sizes:\n",
    "        preds, accs = load_uvnet_results(uvnet360, s, seed)\n",
    "        results[s] = {'preds':preds,'accs':accs}\n",
    "    return results\n",
    "\n",
    "\n",
    "def load_brepnet_results(brep360, size, seed):\n",
    "    labels = brep360['labels']\n",
    "    logits = brep360['logits'][str(size)][seed]\n",
    "    preds = [np.array(l).argmax() for ll in logits for l in ll]\n",
    "    part_accs_brep = []\n",
    "    part_preds_brep = []\n",
    "    offset = 0\n",
    "    for i, part_labels in enumerate(labels):\n",
    "        part_preds = preds[offset:offset+len(part_labels)]\n",
    "        part_preds_brep.append(part_preds)\n",
    "        part_accs_brep.append((np.array(part_preds) == np.array(part_labels)).sum() / len(part_labels))\n",
    "        offset += len(part_labels)\n",
    "    part_accs_brep = np.array(part_accs_brep)\n",
    "    return part_preds_brep, part_accs_brep\n",
    "\n",
    "#res = load_all_uv_net_results(uvnet360, 0)"
   ]
  },
  {
   "cell_type": "code",
   "execution_count": 12,
   "metadata": {},
   "outputs": [],
   "source": [
    "uvnet360 = load_json(f360seg_uvnet_results_path)\n",
    "uvnet_mf = load_json(mfcad_uvnet_results_path)\n",
    "\n",
    "brep360 = load_json(f360seg_brepnet_results_path)\n",
    "brep_mf = load_json(mfcad_brepnet_results_path)"
   ]
  },
  {
   "cell_type": "code",
   "execution_count": 13,
   "metadata": {},
   "outputs": [
    {
     "data": {
      "text/plain": [
       "dict_keys(['dataset', 'model', 'checkpoint', 'labels', 'logits'])"
      ]
     },
     "execution_count": 13,
     "metadata": {},
     "output_type": "execute_result"
    }
   ],
   "source": [
    "uvnet360.keys()"
   ]
  },
  {
   "cell_type": "code",
   "execution_count": 58,
   "metadata": {},
   "outputs": [
    {
     "data": {
      "text/plain": [
       "dict_keys(['dataset', 'model', 'checkpoint', 'labels', 'logits'])"
      ]
     },
     "execution_count": 58,
     "metadata": {},
     "output_type": "execute_result"
    }
   ],
   "source": [
    "uvnet_mf.keys()"
   ]
  },
  {
   "cell_type": "code",
   "execution_count": 120,
   "metadata": {},
   "outputs": [],
   "source": [
    "uvnet_fab = load_json('/home/ben/Documents/research/repbrep/data/baselines/FabWave_UV-Net.json')"
   ]
  },
  {
   "cell_type": "code",
   "execution_count": 121,
   "metadata": {},
   "outputs": [
    {
     "data": {
      "text/plain": [
       "dict_keys(['dataset', 'model', 'checkpoint', 'labels', 'logits', 'train_samples', 'test_omitted_samples'])"
      ]
     },
     "execution_count": 121,
     "metadata": {},
     "output_type": "execute_result"
    }
   ],
   "source": [
    "uvnet_fab.keys()"
   ]
  },
  {
   "cell_type": "code",
   "execution_count": 118,
   "metadata": {},
   "outputs": [
    {
     "data": {
      "text/plain": [
       "8"
      ]
     },
     "execution_count": 118,
     "metadata": {},
     "output_type": "execute_result"
    }
   ],
   "source": [
    "len(brep360['logits']['10'][0][4][5])"
   ]
  },
  {
   "cell_type": "code",
   "execution_count": 151,
   "metadata": {},
   "outputs": [
    {
     "data": {
      "text/plain": [
       "{'1': [92, 92, 92, 92, 92, 92, 92, 92, 92, 92],\n",
       " '5': [92, 92, 92, 92, 92, 92, 92, 92, 92, 92],\n",
       " '10': [92, 92, 92, 92, 92, 92, 92, 92, 92, 92],\n",
       " '20': [92, 92, 92, 92, 92, 92, 92, 92, 92, 92],\n",
       " '50': [92, 92, 92, 92, 92, 92, 92, 92, 92, 92],\n",
       " '75': [92, 92, 92, 92, 92, 92, 92, 92, 92, 92],\n",
       " '100': [92, 92, 92, 92, 92, 92, 92, 92, 92, 92]}"
      ]
     },
     "execution_count": 151,
     "metadata": {},
     "output_type": "execute_result"
    }
   ],
   "source": [
    "uvnet_fab['test_omitted_samples']"
   ]
  },
  {
   "cell_type": "code",
   "execution_count": 150,
   "metadata": {},
   "outputs": [],
   "source": [
    "# UV-Net FabWave Format:\n",
    "# 'dataset': str ('FabWave')\n",
    "# 'model': str ('UV-Net')\n",
    "# 'checkpoint': dict\n",
    "#    str(train_size (as pct)): list(str) (absolute path to checkpoint)\n",
    "# 'labels': dict str -> list(list(  int))\n",
    "#                 |      |     |     |\n",
    "#           train pct   seed  part  part type label\n",
    "# 'logits': dict str -> list(list(list(float)))\n",
    "#                 |      |     |   \\_______/\n",
    "#             train pct seed  part  logits(26)\n",
    "# 'train_samples': dict str -> list(int)\n",
    "#                        |      |    |\n",
    "#                   train pct  seed  #train samples\n",
    "# 'test_omitted_samples': dict str -> list(int)\n",
    "#                               |      |    |\n",
    "#                          train pct  seed  #ommited test samples\n",
    "\n",
    "\n",
    "# BRepNet Fusion360Seg Format:\n",
    "# 'dataset': str ('Fusion360Seg')\n",
    "# 'model': str ('BRepNet')\n",
    "# 'checkpoint': dict\n",
    "#    str(train_size): list(str) (RELATIVE path to checkpoint)\n",
    "# 'labels': list(list(int)) (one list for each part, int labels for faces in part)\n",
    "# 'logits': dict\n",
    "#    str(train_size): list(list(list(list(float))) (first level is seed, second is face (so part-face has been flattened), third is length 8 floats)\n",
    "#                      |     |    |  \\________/\n",
    "#                  seeds  parts faces  logits(8)\n",
    "\n",
    "# BRepNet MFCAD Format:\n",
    "# 'dataset': str ('MFCAD')\n",
    "# 'model': str ('BRepNet')\n",
    "# 'checkpoint': dict\n",
    "#    str(train_size): list(str) (RELATIVE path to checkpoint)\n",
    "# 'labels': list(list(int)) (one list for each part, int labels for faces in part)\n",
    "# 'logits': dict\n",
    "#    str(train_size): list(list(list(list(float))) (first level is seed, second is face (so part-face has been flattened), third is length 8 floats)\n",
    "#                      |     |    |  \\--------/\n",
    "#                  seeds  parts faces  logits(16)\n",
    "\n",
    "\n",
    "# UV-Net MFCAD Format:\n",
    "# 'dataset': str ('MFCAD')\n",
    "# 'model': str ('UV-Net')\n",
    "# 'checkpoint': dict\n",
    "#    str(train_size): list(str) (ABSOLUTE path to checkpoint)\n",
    "# 'labels': list(list(int)) (one list for each part, int labels for faces in part)\n",
    "# 'logits': dict\n",
    "#    str(train_size): list(list(list(float))) (first level is seed, second is face (so part-face has been flattened), third is length 8 floats)\n",
    "#                      |     |  \\--------/\n",
    "#                    seeds  faces logits\n",
    "\n",
    "# UV-Net Fusion 360 Format:\n",
    "# 'dataset': str ('Fusion360Seg')\n",
    "# 'model': str ('UV-Net')\n",
    "# 'checkpoint': dict\n",
    "#    str(train_size): list(str) (ABSOLUTE path to checkpoint)\n",
    "# 'labels': list(list(int)) (one list for each part, int labels for faces in part)\n",
    "# 'logits': dict\n",
    "#    str(train_size): list(list(list(float))) (first level is seed, second is face (so part-face has been flattened), third is length 8 floats)\n",
    "#                      |     |  \\--------/\n",
    "#                    seeds  faces logits"
   ]
  },
  {
   "cell_type": "code",
   "execution_count": 184,
   "metadata": {},
   "outputs": [],
   "source": [
    "def convert_uvnet(original):\n",
    "    results = {}\n",
    "    results['dataset'] = original['dataset']\n",
    "    results['model'] = original['model']\n",
    "    results['checkpoint'] = {\n",
    "        int(k) : list(map(lambda x: x[29:], v)) \n",
    "        for k,v in original['checkpoint'].items()\n",
    "        }\n",
    "    results['labels'] = original['labels']\n",
    "    logits = {int(k):v for k,v in original['logits'].items()}\n",
    "    part_sizes = list(map(len, results['labels']))\n",
    "    results['logits'] = {}\n",
    "    for k,v in logits.items():\n",
    "        seeds = []\n",
    "        for seed_logits in v:\n",
    "            curr_logits = []\n",
    "            offset = 0\n",
    "            for part_size in part_sizes:\n",
    "                curr_logits.append(seed_logits[offset:offset+part_size])\n",
    "                offset = offset + part_size\n",
    "            seeds.append(curr_logits)\n",
    "        results['logits'][k] = seeds\n",
    "    return results\n",
    "\n",
    "def convert_brep(original):\n",
    "    results = {}\n",
    "    results['dataset'] = original['dataset']\n",
    "    results['model'] = original['model']\n",
    "    results['checkpoint'] = {int(k):v for k,v in original['checkpoint'].items()}\n",
    "    results['labels'] = original['labels']\n",
    "    results['logits'] = {int(k):v for k,v in original['logits'].items()}\n",
    "    return results\n",
    "\n",
    "c_uvnet360 = convert_uvnet(uvnet360)\n",
    "c_uvnet_mf = convert_uvnet(uvnet_mf)\n",
    "c_brep360 = convert_brep(brep360)\n",
    "c_brep_mf = convert_brep(brep_mf)"
   ]
  },
  {
   "cell_type": "code",
   "execution_count": 187,
   "metadata": {},
   "outputs": [
    {
     "data": {
      "text/plain": [
       "'models'"
      ]
     },
     "execution_count": 187,
     "metadata": {},
     "output_type": "execute_result"
    }
   ],
   "source": [
    "os.path.dirname('models/test_file.obj')"
   ]
  },
  {
   "cell_type": "code",
   "execution_count": 190,
   "metadata": {},
   "outputs": [],
   "source": [
    "def write_json(obj, filename):\n",
    "    directory = os.path.dirname(filename)\n",
    "    os.makedirs(directory, exist_ok=True)\n",
    "    with open(filename, 'w') as f:\n",
    "        json.dump(obj, f)"
   ]
  },
  {
   "cell_type": "code",
   "execution_count": 194,
   "metadata": {},
   "outputs": [],
   "source": [
    "#write_json(c_uvnet360, 'results/Fusion360Seg_UV-Net.json')\n",
    "#write_json(c_uvnet_mf, 'results/MFCAD_UV-Net.json')\n",
    "write_json(c_brep360, 'results/Fusion360Seg_BRepNet.json')\n",
    "write_json(c_brep_mf, 'results/MFCAD_BRepNet.json')"
   ]
  },
  {
   "cell_type": "code",
   "execution_count": 192,
   "metadata": {},
   "outputs": [],
   "source": [
    "s = json.dumps(c_uvnet360)"
   ]
  },
  {
   "cell_type": "code",
   "execution_count": 193,
   "metadata": {},
   "outputs": [
    {
     "data": {
      "text/plain": [
       "524165731"
      ]
     },
     "execution_count": 193,
     "metadata": {},
     "output_type": "execute_result"
    }
   ],
   "source": [
    "# Parqet-Style Results\n",
    "# Model, Dataset, TestIdx, Train Size, Seed, Test Model, Accuracy, Logits, Preds, Labels, Checkpoint"
   ]
  },
  {
   "cell_type": "code",
   "execution_count": null,
   "metadata": {},
   "outputs": [],
   "source": []
  }
 ],
 "metadata": {
  "kernelspec": {
   "display_name": "Python 3.9.13",
   "language": "python",
   "name": "python3"
  },
  "language_info": {
   "codemirror_mode": {
    "name": "ipython",
    "version": 3
   },
   "file_extension": ".py",
   "mimetype": "text/x-python",
   "name": "python",
   "nbconvert_exporter": "python",
   "pygments_lexer": "ipython3",
   "version": "3.9.13"
  },
  "orig_nbformat": 4,
  "vscode": {
   "interpreter": {
    "hash": "40d348aabc84c65cf5454f47dd42764ee2f97f6b03d2b3fb68e7398f050dcdb8"
   }
  }
 },
 "nbformat": 4,
 "nbformat_minor": 2
}
