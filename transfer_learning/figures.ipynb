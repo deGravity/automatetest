{
 "cells": [
  {
   "cell_type": "markdown",
   "metadata": {},
   "source": [
    "## Reconstruction Gallery"
   ]
  },
  {
   "cell_type": "code",
   "execution_count": null,
   "metadata": {},
   "outputs": [],
   "source": [
    "# TODO - move any reasonable-to-precomput torch files to disk, put unreasonable ones in gitignore\n",
    "#      - add params for gallery size, flag for force recompute, and cache loading for prerenders\n",
    "\n",
    "import torch\n",
    "import numpy as np\n",
    "from rendering import find_best_angle_from_part, render_part, render_mesh\n",
    "from tqdm.notebook import tqdm\n",
    "from render_shape import preds_to_mesh\n",
    "from zipfile import ZipFile\n",
    "import json\n",
    "from pspy import Part\n",
    "from train_latent_space import BRepFaceAutoencoder\n",
    "from matplotlib import pyplot as plt\n",
    "import os\n",
    "\n",
    "data_root = '/media/ben/Data/cad'\n",
    "f360seg_index_path =  data_root + '/fusion360seg.json'\n",
    "f360seg_zip_path = data_root + '/fusion360seg.zip'\n",
    "model_checkpoint_path = data_root + '/BRepFaceAutoencoder_64_1024_4.ckpt'\n",
    "computed_f360seg_codes_path = data_root + '/fusion360seg_coded.pt'\n",
    "render_losses_path = 'f360_render_test_losses.pt'\n",
    "figure_out_path = 'renderings.png'\n",
    "\n",
    "rows = 6\n",
    "cols = 4\n",
    "size = 5\n",
    "\n",
    "grid_density = 100\n",
    "\n",
    "force_rendering = False\n",
    "\n",
    "\n",
    "\n",
    "\n",
    "\n",
    "testing_losses = torch.load(render_losses_path)\n",
    "avg_losses = np.array([x[0].item() for x in testing_losses])\n",
    "part_sizes = np.array([x[1] for x in testing_losses])\n",
    "total_losses = avg_losses * part_sizes\n",
    "avg_sorted = sorted(enumerate(zip(avg_losses, part_sizes, total_losses)),key=lambda x: x[1][0])\n",
    "total_sorted = sorted(enumerate(zip(avg_losses, part_sizes, total_losses)),key=lambda x: x[1][2])\n",
    "total_filtered = [x for x in total_sorted if x[1][1] > 20]\n",
    "\n",
    "\n",
    "recompute_renderings = True\n",
    "if os.path.exists('render_results.pt') and not force_rendering:\n",
    "    render_results = torch.load('render_results.pt')\n",
    "    renders = render_results['renders']\n",
    "    gts = render_results['gts']\n",
    "    if len(renders) >= rows*cols:\n",
    "        recompute_renderings = False\n",
    "\n",
    "if recompute_renderings:\n",
    "    with open(f360seg_index_path,'r') as f:\n",
    "        index = json.load(f)\n",
    "    data =  ZipFile(f360seg_zip_path,'r')\n",
    "    parts_list = [index['template'].format(*x) for x in index['test']]\n",
    "\n",
    "    model = BRepFaceAutoencoder(64,1024,4)\n",
    "    ckpt = torch.load(model_checkpoint_path)\n",
    "    model.load_state_dict(ckpt['state_dict'])\n",
    "\n",
    "    def predict(face_codes, model, N=grid_density):\n",
    "        n_faces = face_codes.shape[0]\n",
    "        line = torch.linspace(-0.1,1.1,N)\n",
    "        grid = torch.cartesian_prod(line, line)\n",
    "        grids = grid.repeat(n_faces,1)\n",
    "        indices = torch.arange(n_faces).repeat_interleave(N*N, dim=0)\n",
    "        with torch.no_grad():\n",
    "            indexed_codes = face_codes[indices]\n",
    "            uv_codes = torch.cat([grids, indexed_codes],dim=1)\n",
    "            preds = model.decoder(uv_codes)\n",
    "        return preds\n",
    "\n",
    "    codes = torch.load(computed_f360seg_codes_path)\n",
    "\n",
    "    gts = []\n",
    "    renders = []\n",
    "    for k in tqdm(range(rows*cols)):\n",
    "        i = total_filtered[k][0]\n",
    "        N = grid_density\n",
    "        preds = predict(codes[parts_list[i]]['x'], model, N)\n",
    "        V, F, C = preds_to_mesh(preds, N)\n",
    "        part = Part(data.open(parts_list[i]).read().decode('utf-8'))\n",
    "        pose, zoom = find_best_angle_from_part(part)\n",
    "        ground_truth = render_part(part, pose, zoom)\n",
    "        rendering = render_mesh(V,F,C,pose,zoom)\n",
    "        gts.append(ground_truth)\n",
    "        renders.append(rendering)\n",
    "\n",
    "    render_results = {'gts':gts,'renders':renders}\n",
    "    torch.save(render_results, 'render_results.pt')\n",
    "\n",
    "\n",
    "\n",
    "M = rows*cols\n",
    "s = size\n",
    "fig, axes = plt.subplots(int(M/cols), cols*2, figsize=(2*cols*s, s*int(M/cols)),gridspec_kw = {'wspace':0, 'hspace':0}, dpi=300)\n",
    "for i in range(M):\n",
    "    row = int(i / cols)\n",
    "    col = i % cols\n",
    "    axes[row,2*col].imshow(gts[i])\n",
    "    axes[row,2*col].axis('off')\n",
    "    axes[row,2*col+1].imshow(renders[i])\n",
    "    axes[row,2*col+1].axis('off')\n",
    "fig.savefig(figure_out_path)"
   ]
  },
  {
   "cell_type": "code",
   "execution_count": null,
   "metadata": {},
   "outputs": [],
   "source": []
  },
  {
   "cell_type": "markdown",
   "metadata": {},
   "source": [
    "## MFCAD Figure"
   ]
  },
  {
   "cell_type": "code",
   "execution_count": null,
   "metadata": {},
   "outputs": [],
   "source": [
    "from precoded_training import DictDatamodule, CodePredictor, load_models\n",
    "from pylab import cm\n",
    "import meshplot as mp\n",
    "\n",
    "with open('/projects/grail/benjonesnb/cadlab/siggasia2022/mfcad.json','r') as f:\n",
    "    index = json.load(f)\n",
    "    coded_set = torch.load('/projects/grail/benjonesnb/cadlab/siggasia2022/precoded/mfcad_coded.pt')\n",
    "\n",
    "datamodule = DictDatamodule(\n",
    "                    index, \n",
    "                    coded_set,  \n",
    "                    seed=0, \n",
    "                    batch_size=512\n",
    "                )\n",
    "\n",
    "test_ds = datamodule.ds_test\n",
    "\n",
    "all_models = load_models('/projects/grail/benjonesnb/cadlab/siggasia2022/tensorboard/mfcad/')\n",
    "our_models = all_models['mp2']\n",
    "\n",
    "# Compute a \"difficulty\" scale for test set examples (this is also used in comparison figs...)\n",
    "accs = np.zeros((len(test_ds), len(our_models)))\n",
    "for i in tqdm(range(len(test_ds))):\n",
    "    data = test_ds[i]\n",
    "    for j, (ts, m) in enumerate(our_models):\n",
    "        with torch.no_grad():\n",
    "            preds = m(data).argmax(dim=1).numpy()\n",
    "        targets = data.y.numpy()\n",
    "        acc = (preds.flatten() == targets.flatten()).sum() / len(targets.flatten())\n",
    "        accs[i,j] = acc\n",
    "\n",
    "# Setup Plotting Code (Replace with Other Version)\n",
    "num_labels = max([i for j in index['test_labels'] for i in j]) + 1\n",
    "cmap = cm.get_cmap('tab20', num_labels)\n",
    "zf = ZipFile('/projects/grail/benjonesnb/cadlab/siggasia2022/mfcad.zip')\n",
    "test_keys = [index['template'].format(*x) for x in index['test']]\n",
    "def plot_part(V, F, E2T, FC=None):\n",
    "    plot = mp.plot(V, F, c = FC)\n",
    "    E = np.concatenate([\n",
    "        F[E2T[:,0]>=0][:,[2,0]], \n",
    "        F[E2T[:,1]>=0][:,[0,1]],\n",
    "        F[E2T[:,2]>=0][:,[1,2]]\n",
    "    ], axis=0)\n",
    "    plot.add_edges(V, E, shading={'line_width':0.5})\n",
    "def plot_preds(i, test_ds, test_keys=test_keys, zf=zf, models=our_models, colormap=cmap, just_gt=False):\n",
    "    data = test_ds[i]\n",
    "    with zf.open(test_keys[i],'r') as f:\n",
    "        p = Part(f.read().decode('utf-8'))\n",
    "    target = data.y.numpy()\n",
    "    target_c = colormap(target[p.mesh_topology.face_to_topology])[:,:3]\n",
    "    plot_part(p.mesh.V, p.mesh.F, p.mesh_topology.edge_to_topology,  target_c)\n",
    "    if just_gt:\n",
    "        return\n",
    "    model_preds = []\n",
    "    for ts, model in models:\n",
    "        with torch.no_grad():\n",
    "            preds = model(data).argmax(dim=1).numpy()\n",
    "            model_preds.append(preds)   \n",
    "    for preds in model_preds:\n",
    "        pred_c = colormap(preds[p.mesh_topology.face_to_topology])[:,:3]\n",
    "        plot_part(p.mesh.V, p.mesh.F, p.mesh_topology.edge_to_topology, pred_c)\n",
    "\n",
    "\n",
    "# Metrics used to help find the examples\n",
    "local_auc = accs.sum(axis = 1) - accs[:,0] / 2 - accs[:,-1] / 2\n",
    "complexity = np.array([len(test_ds[i].y) for i in range(len(test_ds))])\n",
    "sorted_by_auc = sorted(enumerate(zip(local_auc, complexity)), key=lambda x:x[1][0])\n",
    "filtered_examples = [x for x in sorted_by_auc if x[1][1] > 20]\n",
    "\n",
    "gallery_examples = [646, 965, 673, 417, 888, 1090]\n",
    "\n",
    "for i in gallery_examples:\n",
    "    plot_preds(i, test_ds, test_keys, zf, our_models, color_pallet, just_gt=True)\n"
   ]
  },
  {
   "cell_type": "code",
   "execution_count": null,
   "metadata": {},
   "outputs": [],
   "source": []
  },
  {
   "cell_type": "markdown",
   "metadata": {},
   "source": [
    "## Limitations Plot"
   ]
  },
  {
   "cell_type": "code",
   "execution_count": null,
   "metadata": {},
   "outputs": [],
   "source": [
    "import altair as alt\n",
    "import numpy as np\n",
    "import pandas as pd\n",
    "from matplotlib import pyplot as plt\n",
    "\n",
    "accs = pd.read_parquet('df_face_acc.parquet')\n",
    "accs['one'] = 1\n",
    "iscorr = np.vectorize(lambda x: 'correct' if x == 1 else 'incorrect')\n",
    "accs['correct'] = iscorr(accs.label)\n",
    "accs['logmse'] = np.log(accs.mse)\n",
    "\n",
    "alt.data_transformers.disable_max_rows()\n",
    "\n",
    "alt.Chart(accs[accs.mse < 1]).mark_bar().encode(\n",
    "    x=alt.X('logmse',bin=alt.Bin(maxbins=50)),\n",
    "    y=alt.Y('sum(one)', stack='normalize', axis=alt.Axis(format='%')),\n",
    "    color=alt.Color('label:N')\n",
    ").facet(row='train_size')"
   ]
  },
  {
   "cell_type": "code",
   "execution_count": null,
   "metadata": {},
   "outputs": [],
   "source": []
  },
  {
   "cell_type": "markdown",
   "metadata": {},
   "source": [
    "## Classification Comparisons"
   ]
  },
  {
   "cell_type": "code",
   "execution_count": null,
   "metadata": {},
   "outputs": [],
   "source": [
    "import numpy as np\n",
    "import torch\n",
    "import json\n",
    "from precoded_training import DictDatamodule, CodePredictor, load_models\n",
    "from rendering import find_best_angle_from_part, render_part2\n",
    "from tqdm.notebook import tqdm\n",
    "from pspy import Part\n",
    "from zipfile import ZipFile\n",
    "from matplotlib import pyplot as plt\n",
    "\n",
    "\n",
    "# Setup Local Paths\n",
    "\n",
    "repbrep = '/home/ben/Documents/research/repbrep/'\n",
    "model_dir = os.path.join(repbrep, 'models', 'BRepFaceAutoencoder_64_1024_4')\n",
    "checkpoint_path = os.path.join(model_dir, 'BRepFaceAutoencoder_64_1024_4.ckpt')\n",
    "\n",
    "f360seg_index_path =  os.path.join(repbrep, 'datasets', 'fusion360seg.json')\n",
    "f360seg_zip_path = os.path.join(repbrep, 'datasets', 'fusion360seg.zip')\n",
    "f360seg_tb_dir = os.path.join(repbrep, 'training_logs', 'ours', 'f360seg')\n",
    "f360seg_coded_path = os.path.join(model_dir, 'fusion360seg_coded.pt')\n",
    "\n",
    "mfcad_index_path =  os.path.join(repbrep, 'datasets', 'mfcad.json')\n",
    "mfcad_zip_path = os.path.join(repbrep, 'datasets', 'mfcad.zip')\n",
    "mfcad_tb_dir = os.path.join(repbrep, 'training_logs', 'ours', 'mfcad')\n",
    "mfcad_coded_path = os.path.join(model_dir, 'mfcad_coded.pt')\n",
    "\n",
    "f360seg_uvnet_results_path = os.path.join(repbrep, 'results', 'Fusion360Seg_UV-Net.json')\n",
    "f360seg_brepnet_results_path = os.path.join(repbrep, 'results', 'Fusion360Seg_BRepNet.json')\n",
    "\n",
    "#data_root = '/media/ben/Data/cad'\n",
    "#f360seg_index_path =  data_root + '/fusion360seg.json'\n",
    "#f360seg_zip_path = data_root + '/fusion360seg.zip'\n",
    "\n",
    "#repbrep_data_path = '/home/ben/Documents/research/repbrep/data'\n",
    "\n",
    "#f360_seg_coded_path = repbrep_data_path + '/precoded/fusion360seg_coded.pt'\n",
    "\n",
    "#f360_seg_uvnet_results_path = repbrep_data_path + '/baselines/Fusion360Seg_UV-Net.json'\n",
    "#f360seg_brepnet_results_path = repbrep_data_path + '/baselines/Fusion360Seg_BRepNet.json'\n",
    "\n",
    "#experiments_dir = '/home/ben/Documents/research/repbrep/data/training/experiments'\n",
    "#f360seg_tb_dir = experiments_dir +'/f360seg/'\n",
    "\n",
    "\n",
    "\n",
    "# Load UV-Net Results\n",
    "with open(f360seg_uvnet_results_path,'r') as f:\n",
    "    uvnet360 = json.load(f)\n",
    "\n",
    "labels = uvnet360['labels']\n",
    "logits = uvnet360['logits']['100'][0]\n",
    "uv_preds = [np.array(l).argmax() for l in logits]\n",
    "part_accs_uv = []\n",
    "offset = 0\n",
    "part_preds_uv = []\n",
    "for part_labels in labels:\n",
    "    part_preds = uv_preds[offset:offset+len(part_labels)]\n",
    "    part_preds_uv.append(part_preds)\n",
    "    part_accs_uv.append((np.array(part_preds) == np.array(part_labels)).sum() / len(part_labels))\n",
    "    offset += len(part_labels)\n",
    "part_accs_uv = np.array(part_accs_uv)\n",
    "\n",
    "# Load BRepNet Results\n",
    "with open(f360seg_brepnet_results_path,'r') as f:\n",
    "    brep360 = json.load(f)\n",
    "\n",
    "labels = brep360['labels']\n",
    "logits = brep360['logits']['100'][0]\n",
    "preds = [np.array(l).argmax() for ll in logits for l in ll]\n",
    "part_accs_brep = []\n",
    "part_preds_brep = []\n",
    "offset = 0\n",
    "for i, part_labels in enumerate(labels):\n",
    "    part_preds = preds[offset:offset+len(part_labels)]\n",
    "    part_preds_brep.append(part_preds)\n",
    "    part_accs_brep.append((np.array(part_preds) == np.array(part_labels)).sum() / len(part_labels))\n",
    "    offset += len(part_labels)\n",
    "part_accs_brep = np.array(part_accs_brep)\n",
    "\n",
    "\n",
    "# Load Our Trained Models\n",
    "all_models = load_models(f360seg_tb_dir)\n",
    "our_models = all_models['mp2']\n",
    "\n",
    "# Select Our Model\n",
    "model = our_models[1][1]\n",
    "\n",
    "# Load Fusion 360 Dataset\n",
    "with open(f360seg_index_path,'r') as f:\n",
    "    index = json.load(f)\n",
    "    coded_set = torch.load(f360seg_coded_path)\n",
    "\n",
    "\n",
    "\n",
    "datamodule = DictDatamodule(\n",
    "                    index, \n",
    "                    coded_set, \n",
    "                    train_size=23266, \n",
    "                    seed=0, \n",
    "                    batch_size=512\n",
    "                )\n",
    "\n",
    "test_ds = datamodule.ds_test\n",
    "\n",
    "\n",
    "# Compute Our Model's Accuracy at different train sizes\n",
    "accs = np.zeros((len(test_ds), len(our_models)))\n",
    "for i in tqdm(range(len(test_ds))):\n",
    "    data = test_ds[i]\n",
    "    for j, (ts, m) in enumerate(our_models):\n",
    "        with torch.no_grad():\n",
    "            preds = m(data).argmax(dim=1).numpy()\n",
    "        targets = data.y.numpy()\n",
    "        acc = (preds.flatten() == targets.flatten()).sum() / len(targets.flatten())\n",
    "        accs[i,j] = acc\n",
    "\n",
    "# We just take the accuracies for the size we used\n",
    "part_accs_ours = accs[:,1]\n",
    "\n",
    "\n",
    "# Compute the total accuracy lift over baselines for each test example\n",
    "lift = (part_accs_ours - part_accs_brep) + (part_accs_ours - part_accs_uv)\n",
    "\n",
    "# Compute the number of faces in each test example as a complexity metric\n",
    "complexity = np.array([len(test_ds[i].y) for i in range(len(test_ds))])\n",
    "\n",
    "# Sort by lift and other keys, and filter to parts with more than 25 faces, and baselines with at least 10% accuracy\n",
    "nuanced_wins = [x for x in sorted(enumerate(zip(lift,complexity, part_accs_ours, part_accs_uv, part_accs_brep)), reverse=True, key = lambda x : x[1]) \n",
    " if x[1][1] > 25 and x[1][3] > .1 and x[1][4] > .1]\n",
    "\n",
    "# Here is where we could try selecting random models.\n",
    "\n",
    "\n",
    "data =  ZipFile(f360seg_zip_path,'r')\n",
    "parts_list = [index['template'].format(*x) for x in index['test']]\n",
    "\n",
    "s=5\n",
    "M = 10\n",
    "\n",
    "selection = nuanced_wins[:M]\n",
    "fig, axes = plt.subplots(M,4, figsize=(4*s,M*s),gridspec_kw={'wspace':0,'hspace':0},dpi=300)\n",
    "for k, sel in enumerate(tqdm(selection)):\n",
    "    i = sel[0]\n",
    "    part = Part(data.open(parts_list[i]).read().decode('utf-8'))\n",
    "    pose, zoom = find_best_angle_from_part(part, cubify=True)\n",
    "\n",
    "    gt = np.array(labels[i])\n",
    "    pdata = test_ds[i]\n",
    "    our_preds = model(pdata).argmax(dim=1).numpy().astype(int)\n",
    "    uv_preds = np.array(part_preds_uv[i]).astype(int)\n",
    "    brep_preds = np.array(part_preds_brep[i]).astype(int)\n",
    "\n",
    "    gt_im = render_part2(part, pose, zoom, face_labels=gt, max_labels=8)\n",
    "    our_im = render_part2(part, pose, zoom, face_labels=our_preds, max_labels=8)\n",
    "    uv_im = render_part2(part, pose, zoom, face_labels=uv_preds, max_labels=8)\n",
    "    brep_im = render_part2(part, pose, zoom, face_labels=brep_preds, max_labels=8)\n",
    "    axes[k,0].imshow(gt_im)\n",
    "    axes[k,1].imshow(our_im)\n",
    "    axes[k,2].imshow(uv_im)\n",
    "    axes[k,3].imshow(brep_im)\n",
    "    for ax in axes[k]:\n",
    "        ax.axis('off')"
   ]
  },
  {
   "cell_type": "code",
   "execution_count": 18,
   "metadata": {},
   "outputs": [
    {
     "data": {
      "text/plain": [
       "torch.Size([26, 16])"
      ]
     },
     "execution_count": 18,
     "metadata": {},
     "output_type": "execute_result"
    }
   ],
   "source": [
    "pdata = test_ds[i]\n",
    "our_preds = model(pdata)\n",
    "our_preds.shape"
   ]
  },
  {
   "cell_type": "code",
   "execution_count": 213,
   "metadata": {},
   "outputs": [],
   "source": [
    "mfcad_tb_dir = experiments_dir +'/f360seg/'\n",
    "our_models_all_seeds_f360 = [load_models(f360seg_tb_dir, s)['mp2'] for s in range(10)]\n",
    "our_models_all_seeds_mfcad = [load_models(mfcad_tb_dir, s)['mp2'] for s in range(10)]"
   ]
  },
  {
   "cell_type": "code",
   "execution_count": null,
   "metadata": {},
   "outputs": [],
   "source": [
    "our_models_all_seeds_f360[0]"
   ]
  },
  {
   "cell_type": "code",
   "execution_count": null,
   "metadata": {},
   "outputs": [],
   "source": [
    "import os\n",
    "import json\n",
    "import torch\n",
    "from tqdm.notebook import tqdm\n",
    "from precoded_training import DictDatamodule, CodePredictor, load_models\n",
    "\n",
    "repbrep = '/home/ben/Documents/research/repbrep/'\n",
    "model_dir = os.path.join(repbrep, 'models', 'BRepFaceAutoencoder_64_1024_4')\n",
    "checkpoint_path = os.path.join(model_dir, 'BRepFaceAutoencoder_64_1024_4.ckpt')\n",
    "\n",
    "f360seg_index_path =  os.path.join(repbrep, 'datasets', 'fusion360seg.json')\n",
    "f360seg_zip_path = os.path.join(repbrep, 'datasets', 'fusion360seg.zip')\n",
    "f360seg_tb_dir = os.path.join(repbrep, 'training_logs', 'ours', 'f360seg')\n",
    "f360seg_coded_path = os.path.join(model_dir, 'fusion360seg_coded.pt')\n",
    "\n",
    "mfcad_index_path =  os.path.join(repbrep, 'datasets', 'mfcad.json')\n",
    "mfcad_zip_path = os.path.join(repbrep, 'datasets', 'mfcad.zip')\n",
    "mfcad_tb_dir = os.path.join(repbrep, 'training_logs', 'ours', 'mfcad')\n",
    "mfcad_coded_path = os.path.join(model_dir, 'mfcad_coded.pt')\n",
    "\n",
    "\n",
    "our_models_all_seeds_f360 = [load_models(f360seg_tb_dir, s)['mp2'] for s in range(10)]\n",
    "our_models_all_seeds_mfcad = [load_models(mfcad_tb_dir, s)['mp2'] for s in range(10)]\n",
    "\n",
    "\n",
    "def load_testset(index_path, coded_path):\n",
    "    with open(index_path, 'r') as f:\n",
    "        index = json.load(f)\n",
    "    coded_set = torch.load(coded_path)\n",
    "    datamodule = DictDatamodule(\n",
    "        index,\n",
    "        coded_set,\n",
    "        train_size=1000,\n",
    "        seed=0,\n",
    "        batch_size=100000\n",
    "    )\n",
    "    test_ds = datamodule.ds_test\n",
    "    return test_ds\n",
    "\n",
    "f360_test = load_testset(f360seg_index_path, f360seg_coded_path)\n",
    "mfcad_test = load_testset(mfcad_index_path, mfcad_coded_path)\n",
    "\n",
    "\n",
    "labels = []\n",
    "records = []\n",
    "for seed in tqdm(range(10), 'Seed'):\n",
    "    for model_name, model_set, test_ds in tqdm([\n",
    "        ('Fusion360Seg', our_models_all_seeds_f360, f360_test), \n",
    "        ('MFCAD', our_models_all_seeds_mfcad, mfcad_test)], 'dataset', leave=False):\n",
    "        for train_size, model in tqdm(model_set[seed], 'train_size', leave=False):\n",
    "            for i in tqdm(range(len(test_ds)), 'examples', leave=False):\n",
    "                data = test_ds[i]\n",
    "                with torch.no_grad():\n",
    "                    pred_logits = model(data).numpy().tolist()\n",
    "                iter_labels = data.y.numpy().tolist()\n",
    "                records.append({\n",
    "                    'dataset': model_name,\n",
    "                    'model': 'Ours',\n",
    "                    'test_idx': i,\n",
    "                    'seed': seed,\n",
    "                    'train_size': train_size,\n",
    "                    'logits': pred_logits,\n",
    "                    'labels': iter_labels\n",
    "                })"
   ]
  },
  {
   "cell_type": "code",
   "execution_count": 7,
   "metadata": {},
   "outputs": [],
   "source": [
    "import pandas as pd\n",
    "\n",
    "our_df = pd.DataFrame.from_records(records)"
   ]
  },
  {
   "cell_type": "code",
   "execution_count": 257,
   "metadata": {},
   "outputs": [],
   "source": [
    "our_df.to_parquet('results/OursAll.parquet')"
   ]
  },
  {
   "cell_type": "code",
   "execution_count": 21,
   "metadata": {},
   "outputs": [],
   "source": [
    "import numpy as np"
   ]
  },
  {
   "cell_type": "code",
   "execution_count": 22,
   "metadata": {},
   "outputs": [
    {
     "data": {
      "text/plain": [
       "2"
      ]
     },
     "execution_count": 22,
     "metadata": {},
     "output_type": "execute_result"
    }
   ],
   "source": [
    "np.argmax([0,5,6])"
   ]
  },
  {
   "cell_type": "code",
   "execution_count": 23,
   "metadata": {},
   "outputs": [],
   "source": [
    "pred_maxes = [np.argmax(face_logits) \n",
    "    for part_logits in our_df[our_df.dataset == 'Fusion360Seg'].logits.values \n",
    "    for face_logits in part_logits\n",
    "]"
   ]
  },
  {
   "cell_type": "code",
   "execution_count": 27,
   "metadata": {},
   "outputs": [],
   "source": [
    "from matplotlib import pyplot as plt"
   ]
  },
  {
   "cell_type": "code",
   "execution_count": 39,
   "metadata": {},
   "outputs": [
    {
     "data": {
      "text/plain": [
       "175297"
      ]
     },
     "execution_count": 39,
     "metadata": {},
     "output_type": "execute_result"
    }
   ],
   "source": [
    "(np.array(pred_maxes) == 4).sum()"
   ]
  },
  {
   "cell_type": "code",
   "execution_count": 9,
   "metadata": {},
   "outputs": [
    {
     "data": {
      "text/html": [
       "<div>\n",
       "<style scoped>\n",
       "    .dataframe tbody tr th:only-of-type {\n",
       "        vertical-align: middle;\n",
       "    }\n",
       "\n",
       "    .dataframe tbody tr th {\n",
       "        vertical-align: top;\n",
       "    }\n",
       "\n",
       "    .dataframe thead th {\n",
       "        text-align: right;\n",
       "    }\n",
       "</style>\n",
       "<table border=\"1\" class=\"dataframe\">\n",
       "  <thead>\n",
       "    <tr style=\"text-align: right;\">\n",
       "      <th></th>\n",
       "      <th>dataset</th>\n",
       "      <th>model</th>\n",
       "      <th>test_idx</th>\n",
       "      <th>seed</th>\n",
       "      <th>train_size</th>\n",
       "      <th>logits</th>\n",
       "      <th>labels</th>\n",
       "    </tr>\n",
       "  </thead>\n",
       "  <tbody>\n",
       "    <tr>\n",
       "      <th>0</th>\n",
       "      <td>Fusion360Seg</td>\n",
       "      <td>Ours</td>\n",
       "      <td>0</td>\n",
       "      <td>0</td>\n",
       "      <td>10</td>\n",
       "      <td>[[2.6588728427886963, 2.5666146278381348, 1.73...</td>\n",
       "      <td>[6, 6, 6, 6, 6, 6, 6]</td>\n",
       "    </tr>\n",
       "    <tr>\n",
       "      <th>1</th>\n",
       "      <td>Fusion360Seg</td>\n",
       "      <td>Ours</td>\n",
       "      <td>1</td>\n",
       "      <td>0</td>\n",
       "      <td>10</td>\n",
       "      <td>[[2.9058258533477783, 0.6674148440361023, 1.87...</td>\n",
       "      <td>[5, 1, 0, 5, 0, 1, 6, 6, 6]</td>\n",
       "    </tr>\n",
       "    <tr>\n",
       "      <th>2</th>\n",
       "      <td>Fusion360Seg</td>\n",
       "      <td>Ours</td>\n",
       "      <td>2</td>\n",
       "      <td>0</td>\n",
       "      <td>10</td>\n",
       "      <td>[[2.6696524620056152, -0.32663166522979736, 3....</td>\n",
       "      <td>[0, 1, 0, 1, 0]</td>\n",
       "    </tr>\n",
       "    <tr>\n",
       "      <th>3</th>\n",
       "      <td>Fusion360Seg</td>\n",
       "      <td>Ours</td>\n",
       "      <td>3</td>\n",
       "      <td>0</td>\n",
       "      <td>10</td>\n",
       "      <td>[[4.333590984344482, 2.064574718475342, 3.3654...</td>\n",
       "      <td>[0, 0, 0, 0, 0, 0, 0, 0, 0, 0, 0, 0, 1, 1]</td>\n",
       "    </tr>\n",
       "    <tr>\n",
       "      <th>4</th>\n",
       "      <td>Fusion360Seg</td>\n",
       "      <td>Ours</td>\n",
       "      <td>4</td>\n",
       "      <td>0</td>\n",
       "      <td>10</td>\n",
       "      <td>[[5.578789710998535, 3.209151268005371, 3.9268...</td>\n",
       "      <td>[0, 0, 0, 0, 1, 1]</td>\n",
       "    </tr>\n",
       "    <tr>\n",
       "      <th>...</th>\n",
       "      <td>...</td>\n",
       "      <td>...</td>\n",
       "      <td>...</td>\n",
       "      <td>...</td>\n",
       "      <td>...</td>\n",
       "      <td>...</td>\n",
       "      <td>...</td>\n",
       "    </tr>\n",
       "    <tr>\n",
       "      <th>328435</th>\n",
       "      <td>MFCAD</td>\n",
       "      <td>Ours</td>\n",
       "      <td>1543</td>\n",
       "      <td>9</td>\n",
       "      <td>13940</td>\n",
       "      <td>[[-28.5069637298584, -28.329050064086914, -10....</td>\n",
       "      <td>[15, 15, 15, 15, 15, 3, 3, 3, 3, 3, 3, 15, 3, ...</td>\n",
       "    </tr>\n",
       "    <tr>\n",
       "      <th>328436</th>\n",
       "      <td>MFCAD</td>\n",
       "      <td>Ours</td>\n",
       "      <td>1544</td>\n",
       "      <td>9</td>\n",
       "      <td>13940</td>\n",
       "      <td>[[-4.1662726402282715, -21.894088745117188, -8...</td>\n",
       "      <td>[15, 15, 5, 5, 5, 15, 15, 15, 15, 3, 3, 3, 3, ...</td>\n",
       "    </tr>\n",
       "    <tr>\n",
       "      <th>328437</th>\n",
       "      <td>MFCAD</td>\n",
       "      <td>Ours</td>\n",
       "      <td>1545</td>\n",
       "      <td>9</td>\n",
       "      <td>13940</td>\n",
       "      <td>[[-27.35886573791504, -32.08065414428711, -6.8...</td>\n",
       "      <td>[15, 15, 7, 7, 15, 15, 15, 3, 3, 3, 3, 3, 3, 7...</td>\n",
       "    </tr>\n",
       "    <tr>\n",
       "      <th>328438</th>\n",
       "      <td>MFCAD</td>\n",
       "      <td>Ours</td>\n",
       "      <td>1546</td>\n",
       "      <td>9</td>\n",
       "      <td>13940</td>\n",
       "      <td>[[-12.003915786743164, -43.92551040649414, -15...</td>\n",
       "      <td>[15, 15, 5, 15, 8, 15, 5, 5, 8, 15, 15, 15, 0,...</td>\n",
       "    </tr>\n",
       "    <tr>\n",
       "      <th>328439</th>\n",
       "      <td>MFCAD</td>\n",
       "      <td>Ours</td>\n",
       "      <td>1547</td>\n",
       "      <td>9</td>\n",
       "      <td>13940</td>\n",
       "      <td>[[-31.9288387298584, -27.486637115478516, -10....</td>\n",
       "      <td>[15, 15, 15, 15, 15, 1, 1, 1, 15, 7, 7, 9, 9, ...</td>\n",
       "    </tr>\n",
       "  </tbody>\n",
       "</table>\n",
       "<p>328440 rows × 7 columns</p>\n",
       "</div>"
      ],
      "text/plain": [
       "             dataset model  test_idx  seed  train_size  \\\n",
       "0       Fusion360Seg  Ours         0     0          10   \n",
       "1       Fusion360Seg  Ours         1     0          10   \n",
       "2       Fusion360Seg  Ours         2     0          10   \n",
       "3       Fusion360Seg  Ours         3     0          10   \n",
       "4       Fusion360Seg  Ours         4     0          10   \n",
       "...              ...   ...       ...   ...         ...   \n",
       "328435         MFCAD  Ours      1543     9       13940   \n",
       "328436         MFCAD  Ours      1544     9       13940   \n",
       "328437         MFCAD  Ours      1545     9       13940   \n",
       "328438         MFCAD  Ours      1546     9       13940   \n",
       "328439         MFCAD  Ours      1547     9       13940   \n",
       "\n",
       "                                                   logits  \\\n",
       "0       [[2.6588728427886963, 2.5666146278381348, 1.73...   \n",
       "1       [[2.9058258533477783, 0.6674148440361023, 1.87...   \n",
       "2       [[2.6696524620056152, -0.32663166522979736, 3....   \n",
       "3       [[4.333590984344482, 2.064574718475342, 3.3654...   \n",
       "4       [[5.578789710998535, 3.209151268005371, 3.9268...   \n",
       "...                                                   ...   \n",
       "328435  [[-28.5069637298584, -28.329050064086914, -10....   \n",
       "328436  [[-4.1662726402282715, -21.894088745117188, -8...   \n",
       "328437  [[-27.35886573791504, -32.08065414428711, -6.8...   \n",
       "328438  [[-12.003915786743164, -43.92551040649414, -15...   \n",
       "328439  [[-31.9288387298584, -27.486637115478516, -10....   \n",
       "\n",
       "                                                   labels  \n",
       "0                                   [6, 6, 6, 6, 6, 6, 6]  \n",
       "1                             [5, 1, 0, 5, 0, 1, 6, 6, 6]  \n",
       "2                                         [0, 1, 0, 1, 0]  \n",
       "3              [0, 0, 0, 0, 0, 0, 0, 0, 0, 0, 0, 0, 1, 1]  \n",
       "4                                      [0, 0, 0, 0, 1, 1]  \n",
       "...                                                   ...  \n",
       "328435  [15, 15, 15, 15, 15, 3, 3, 3, 3, 3, 3, 15, 3, ...  \n",
       "328436  [15, 15, 5, 5, 5, 15, 15, 15, 15, 3, 3, 3, 3, ...  \n",
       "328437  [15, 15, 7, 7, 15, 15, 15, 3, 3, 3, 3, 3, 3, 7...  \n",
       "328438  [15, 15, 5, 15, 8, 15, 5, 5, 8, 15, 15, 15, 0,...  \n",
       "328439  [15, 15, 15, 15, 15, 1, 1, 1, 15, 7, 7, 9, 9, ...  \n",
       "\n",
       "[328440 rows x 7 columns]"
      ]
     },
     "execution_count": 9,
     "metadata": {},
     "output_type": "execute_result"
    }
   ],
   "source": [
    "all_logits.append\n",
    "for part_logits in our_df.logits:\n",
    "    logits = [logit[:8] for logit in part_logits]"
   ]
  },
  {
   "cell_type": "code",
   "execution_count": 40,
   "metadata": {},
   "outputs": [],
   "source": [
    "our_df.to_parquet('our_results.parquet')"
   ]
  },
  {
   "cell_type": "code",
   "execution_count": null,
   "metadata": {},
   "outputs": [],
   "source": [
    "# Compute Our Model's Accuracy at different train sizes\n",
    "accs = np.zeros((len(test_ds), len(our_models)))\n",
    "for i in tqdm(range(len(test_ds))):\n",
    "    data = test_ds[i]\n",
    "    for j, (ts, m) in enumerate(our_models):\n",
    "        with torch.no_grad():\n",
    "            preds = m(data).argmax(dim=1).numpy()\n",
    "        targets = data.y.numpy()\n",
    "        acc = (preds.flatten() == targets.flatten()).sum() / len(targets.flatten())\n",
    "        accs[i,j] = acc\n",
    "\n",
    "# We just take the accuracies for the size we used\n",
    "part_accs_ours = accs[:,1]"
   ]
  },
  {
   "cell_type": "code",
   "execution_count": 11,
   "metadata": {},
   "outputs": [],
   "source": [
    "import json\n",
    "import numpy as np\n",
    "from tqdm.notebook import tqdm\n",
    "\n",
    "data_root = '/media/ben/Data/cad'\n",
    "f360seg_index_path =  data_root + '/fusion360seg.json'\n",
    "f360seg_zip_path = data_root + '/fusion360seg.zip'\n",
    "\n",
    "repbrep_data_path = '/home/ben/Documents/research/repbrep/data'\n",
    "\n",
    "f360_seg_coded_path = repbrep_data_path + '/precoded/fusion360seg_coded.pt'\n",
    "\n",
    "f360seg_uvnet_results_path = repbrep_data_path + '/baselines/Fusion360Seg_UV-Net.json'\n",
    "f360seg_brepnet_results_path = repbrep_data_path + '/baselines/Fusion360Seg_BRepNet.json'\n",
    "\n",
    "mfcad_uvnet_results_path = repbrep_data_path + '/baselines/MFCAD_UV-Net.json'\n",
    "mfcad_brepnet_results_path = repbrep_data_path + '/baselines/MFCAD_BRepNet.json'\n",
    "\n",
    "experiments_dir = '/home/ben/Documents/research/repbrep/data/training/experiments'\n",
    "f360seg_tb_dir = experiments_dir +'/f360seg/'\n",
    "\n",
    "def load_json(path):\n",
    "    with open(path,'r') as f:\n",
    "        return json.load(f)\n",
    "\n",
    "def load_uvnet_results(uvnet360, train_size, seed):\n",
    "    labels = uvnet360['labels']\n",
    "    logits = uvnet360['logits'][str(train_size)][seed]\n",
    "    uv_preds = [np.array(l).argmax() for l in logits]\n",
    "    part_accs_uv = []\n",
    "    offset = 0\n",
    "    part_preds_uv = []\n",
    "    for part_labels in labels:\n",
    "        part_preds = uv_preds[offset:offset+len(part_labels)]\n",
    "        part_preds_uv.append(part_preds)\n",
    "        part_accs_uv.append((np.array(part_preds) == np.array(part_labels)).sum() / len(part_labels))\n",
    "        offset += len(part_labels)\n",
    "    part_accs_uv = np.array(part_accs_uv)\n",
    "    return part_preds_uv, part_accs_uv\n",
    "\n",
    "def load_all_uv_net_results(uvnet360, seed):\n",
    "    sizes = [int(x) for x in uvnet360['logits'].keys()]\n",
    "    results = {}\n",
    "    for s in sizes:\n",
    "        preds, accs = load_uvnet_results(uvnet360, s, seed)\n",
    "        results[s] = {'preds':preds,'accs':accs}\n",
    "    return results\n",
    "\n",
    "\n",
    "def load_brepnet_results(brep360, size, seed):\n",
    "    labels = brep360['labels']\n",
    "    logits = brep360['logits'][str(size)][seed]\n",
    "    preds = [np.array(l).argmax() for ll in logits for l in ll]\n",
    "    part_accs_brep = []\n",
    "    part_preds_brep = []\n",
    "    offset = 0\n",
    "    for i, part_labels in enumerate(labels):\n",
    "        part_preds = preds[offset:offset+len(part_labels)]\n",
    "        part_preds_brep.append(part_preds)\n",
    "        part_accs_brep.append((np.array(part_preds) == np.array(part_labels)).sum() / len(part_labels))\n",
    "        offset += len(part_labels)\n",
    "    part_accs_brep = np.array(part_accs_brep)\n",
    "    return part_preds_brep, part_accs_brep\n",
    "\n",
    "#res = load_all_uv_net_results(uvnet360, 0)"
   ]
  },
  {
   "cell_type": "code",
   "execution_count": 12,
   "metadata": {},
   "outputs": [],
   "source": [
    "uvnet360 = load_json(f360seg_uvnet_results_path)\n",
    "uvnet_mf = load_json(mfcad_uvnet_results_path)\n",
    "\n",
    "brep360 = load_json(f360seg_brepnet_results_path)\n",
    "brep_mf = load_json(mfcad_brepnet_results_path)"
   ]
  },
  {
   "cell_type": "code",
   "execution_count": 13,
   "metadata": {},
   "outputs": [
    {
     "data": {
      "text/plain": [
       "dict_keys(['dataset', 'model', 'checkpoint', 'labels', 'logits'])"
      ]
     },
     "execution_count": 13,
     "metadata": {},
     "output_type": "execute_result"
    }
   ],
   "source": [
    "uvnet360.keys()"
   ]
  },
  {
   "cell_type": "code",
   "execution_count": 58,
   "metadata": {},
   "outputs": [
    {
     "data": {
      "text/plain": [
       "dict_keys(['dataset', 'model', 'checkpoint', 'labels', 'logits'])"
      ]
     },
     "execution_count": 58,
     "metadata": {},
     "output_type": "execute_result"
    }
   ],
   "source": [
    "uvnet_mf.keys()"
   ]
  },
  {
   "cell_type": "code",
   "execution_count": 120,
   "metadata": {},
   "outputs": [],
   "source": [
    "uvnet_fab = load_json('/home/ben/Documents/research/repbrep/data/baselines/FabWave_UV-Net.json')"
   ]
  },
  {
   "cell_type": "code",
   "execution_count": 121,
   "metadata": {},
   "outputs": [
    {
     "data": {
      "text/plain": [
       "dict_keys(['dataset', 'model', 'checkpoint', 'labels', 'logits', 'train_samples', 'test_omitted_samples'])"
      ]
     },
     "execution_count": 121,
     "metadata": {},
     "output_type": "execute_result"
    }
   ],
   "source": [
    "uvnet_fab.keys()"
   ]
  },
  {
   "cell_type": "code",
   "execution_count": 118,
   "metadata": {},
   "outputs": [
    {
     "data": {
      "text/plain": [
       "8"
      ]
     },
     "execution_count": 118,
     "metadata": {},
     "output_type": "execute_result"
    }
   ],
   "source": [
    "len(brep360['logits']['10'][0][4][5])"
   ]
  },
  {
   "cell_type": "code",
   "execution_count": 151,
   "metadata": {},
   "outputs": [
    {
     "data": {
      "text/plain": [
       "{'1': [92, 92, 92, 92, 92, 92, 92, 92, 92, 92],\n",
       " '5': [92, 92, 92, 92, 92, 92, 92, 92, 92, 92],\n",
       " '10': [92, 92, 92, 92, 92, 92, 92, 92, 92, 92],\n",
       " '20': [92, 92, 92, 92, 92, 92, 92, 92, 92, 92],\n",
       " '50': [92, 92, 92, 92, 92, 92, 92, 92, 92, 92],\n",
       " '75': [92, 92, 92, 92, 92, 92, 92, 92, 92, 92],\n",
       " '100': [92, 92, 92, 92, 92, 92, 92, 92, 92, 92]}"
      ]
     },
     "execution_count": 151,
     "metadata": {},
     "output_type": "execute_result"
    }
   ],
   "source": [
    "uvnet_fab['test_omitted_samples']"
   ]
  },
  {
   "cell_type": "code",
   "execution_count": 150,
   "metadata": {},
   "outputs": [],
   "source": [
    "# UV-Net FabWave Format:\n",
    "# 'dataset': str ('FabWave')\n",
    "# 'model': str ('UV-Net')\n",
    "# 'checkpoint': dict\n",
    "#    str(train_size (as pct)): list(str) (absolute path to checkpoint)\n",
    "# 'labels': dict str -> list(list(  int))\n",
    "#                 |      |     |     |\n",
    "#           train pct   seed  part  part type label\n",
    "# 'logits': dict str -> list(list(list(float)))\n",
    "#                 |      |     |   \\_______/\n",
    "#             train pct seed  part  logits(26)\n",
    "# 'train_samples': dict str -> list(int)\n",
    "#                        |      |    |\n",
    "#                   train pct  seed  #train samples\n",
    "# 'test_omitted_samples': dict str -> list(int)\n",
    "#                               |      |    |\n",
    "#                          train pct  seed  #ommited test samples\n",
    "\n",
    "\n",
    "# BRepNet Fusion360Seg Format:\n",
    "# 'dataset': str ('Fusion360Seg')\n",
    "# 'model': str ('BRepNet')\n",
    "# 'checkpoint': dict\n",
    "#    str(train_size): list(str) (RELATIVE path to checkpoint)\n",
    "# 'labels': list(list(int)) (one list for each part, int labels for faces in part)\n",
    "# 'logits': dict\n",
    "#    str(train_size): list(list(list(list(float))) (first level is seed, second is face (so part-face has been flattened), third is length 8 floats)\n",
    "#                      |     |    |  \\________/\n",
    "#                  seeds  parts faces  logits(8)\n",
    "\n",
    "# BRepNet MFCAD Format:\n",
    "# 'dataset': str ('MFCAD')\n",
    "# 'model': str ('BRepNet')\n",
    "# 'checkpoint': dict\n",
    "#    str(train_size): list(str) (RELATIVE path to checkpoint)\n",
    "# 'labels': list(list(int)) (one list for each part, int labels for faces in part)\n",
    "# 'logits': dict\n",
    "#    str(train_size): list(list(list(list(float))) (first level is seed, second is face (so part-face has been flattened), third is length 8 floats)\n",
    "#                      |     |    |  \\--------/\n",
    "#                  seeds  parts faces  logits(16)\n",
    "\n",
    "\n",
    "# UV-Net MFCAD Format:\n",
    "# 'dataset': str ('MFCAD')\n",
    "# 'model': str ('UV-Net')\n",
    "# 'checkpoint': dict\n",
    "#    str(train_size): list(str) (ABSOLUTE path to checkpoint)\n",
    "# 'labels': list(list(int)) (one list for each part, int labels for faces in part)\n",
    "# 'logits': dict\n",
    "#    str(train_size): list(list(list(float))) (first level is seed, second is face (so part-face has been flattened), third is length 8 floats)\n",
    "#                      |     |  \\--------/\n",
    "#                    seeds  faces logits\n",
    "\n",
    "# UV-Net Fusion 360 Format:\n",
    "# 'dataset': str ('Fusion360Seg')\n",
    "# 'model': str ('UV-Net')\n",
    "# 'checkpoint': dict\n",
    "#    str(train_size): list(str) (ABSOLUTE path to checkpoint)\n",
    "# 'labels': list(list(int)) (one list for each part, int labels for faces in part)\n",
    "# 'logits': dict\n",
    "#    str(train_size): list(list(list(float))) (first level is seed, second is face (so part-face has been flattened), third is length 8 floats)\n",
    "#                      |     |  \\--------/\n",
    "#                    seeds  faces logits"
   ]
  },
  {
   "cell_type": "code",
   "execution_count": 184,
   "metadata": {},
   "outputs": [],
   "source": [
    "def convert_uvnet(original):\n",
    "    results = {}\n",
    "    results['dataset'] = original['dataset']\n",
    "    results['model'] = original['model']\n",
    "    results['checkpoint'] = {\n",
    "        int(k) : list(map(lambda x: x[29:], v)) \n",
    "        for k,v in original['checkpoint'].items()\n",
    "        }\n",
    "    results['labels'] = original['labels']\n",
    "    logits = {int(k):v for k,v in original['logits'].items()}\n",
    "    part_sizes = list(map(len, results['labels']))\n",
    "    results['logits'] = {}\n",
    "    for k,v in logits.items():\n",
    "        seeds = []\n",
    "        for seed_logits in v:\n",
    "            curr_logits = []\n",
    "            offset = 0\n",
    "            for part_size in part_sizes:\n",
    "                curr_logits.append(seed_logits[offset:offset+part_size])\n",
    "                offset = offset + part_size\n",
    "            seeds.append(curr_logits)\n",
    "        results['logits'][k] = seeds\n",
    "    return results\n",
    "\n",
    "def convert_brep(original):\n",
    "    results = {}\n",
    "    results['dataset'] = original['dataset']\n",
    "    results['model'] = original['model']\n",
    "    results['checkpoint'] = {int(k):v for k,v in original['checkpoint'].items()}\n",
    "    results['labels'] = original['labels']\n",
    "    results['logits'] = {int(k):v for k,v in original['logits'].items()}\n",
    "    return results\n",
    "\n",
    "c_uvnet360 = convert_uvnet(uvnet360)\n",
    "c_uvnet_mf = convert_uvnet(uvnet_mf)\n",
    "c_brep360 = convert_brep(brep360)\n",
    "c_brep_mf = convert_brep(brep_mf)"
   ]
  },
  {
   "cell_type": "code",
   "execution_count": 187,
   "metadata": {},
   "outputs": [
    {
     "data": {
      "text/plain": [
       "'models'"
      ]
     },
     "execution_count": 187,
     "metadata": {},
     "output_type": "execute_result"
    }
   ],
   "source": [
    "os.path.dirname('models/test_file.obj')"
   ]
  },
  {
   "cell_type": "code",
   "execution_count": 190,
   "metadata": {},
   "outputs": [],
   "source": [
    "def write_json(obj, filename):\n",
    "    directory = os.path.dirname(filename)\n",
    "    os.makedirs(directory, exist_ok=True)\n",
    "    with open(filename, 'w') as f:\n",
    "        json.dump(obj, f)"
   ]
  },
  {
   "cell_type": "code",
   "execution_count": 194,
   "metadata": {},
   "outputs": [],
   "source": [
    "#write_json(c_uvnet360, 'results/Fusion360Seg_UV-Net.json')\n",
    "#write_json(c_uvnet_mf, 'results/MFCAD_UV-Net.json')\n",
    "write_json(c_brep360, 'results/Fusion360Seg_BRepNet.json')\n",
    "write_json(c_brep_mf, 'results/MFCAD_BRepNet.json')"
   ]
  },
  {
   "cell_type": "code",
   "execution_count": 192,
   "metadata": {},
   "outputs": [],
   "source": [
    "s = json.dumps(c_uvnet360)"
   ]
  },
  {
   "cell_type": "code",
   "execution_count": 193,
   "metadata": {},
   "outputs": [
    {
     "data": {
      "text/plain": [
       "524165731"
      ]
     },
     "execution_count": 193,
     "metadata": {},
     "output_type": "execute_result"
    }
   ],
   "source": [
    "# Parqet-Style Results\n",
    "# Model, Dataset, TestIdx, Train Size, Seed, Test Model, Accuracy, Logits, Preds, Labels, Checkpoint"
   ]
  },
  {
   "cell_type": "code",
   "execution_count": 44,
   "metadata": {},
   "outputs": [
    {
     "data": {
      "text/plain": [
       "dataset                                            Fusion360Seg\n",
       "model                                                      Ours\n",
       "test_idx                                                      0\n",
       "seed                                                          0\n",
       "train_size                                                   10\n",
       "logits        [[2.6588728427886963, 2.5666146278381348, 1.73...\n",
       "labels                                    [6, 6, 6, 6, 6, 6, 6]\n",
       "Name: 0, dtype: object"
      ]
     },
     "execution_count": 44,
     "metadata": {},
     "output_type": "execute_result"
    }
   ],
   "source": [
    "our_df.iloc[0]"
   ]
  },
  {
   "cell_type": "code",
   "execution_count": 84,
   "metadata": {},
   "outputs": [
    {
     "data": {
      "application/vnd.jupyter.widget-view+json": {
       "model_id": "eedd5826046c4ce99c1ad11ae031bce4",
       "version_major": 2,
       "version_minor": 0
      },
      "text/plain": [
       "  0%|          | 0/328440 [00:00<?, ?it/s]"
      ]
     },
     "metadata": {},
     "output_type": "display_data"
    },
    {
     "data": {
      "application/vnd.jupyter.widget-view+json": {
       "model_id": "a998145f369d46269b42c2b656f35761",
       "version_major": 2,
       "version_minor": 0
      },
      "text/plain": [
       "  0%|          | 0/656880 [00:00<?, ?it/s]"
      ]
     },
     "metadata": {},
     "output_type": "display_data"
    }
   ],
   "source": [
    "per_face_recs = []\n",
    "\n",
    "for curr_df in [our_df, baselines_df]:\n",
    "    for i in tqdm(range(len(curr_df))):\n",
    "        rec = curr_df.iloc[i]\n",
    "        for face_idx, logit in enumerate(rec.logits):\n",
    "            if rec.dataset == 'Fusion360Seg':\n",
    "                logit = logit[:8]\n",
    "            logit = np.array(logit)\n",
    "            prediction = np.argmax(logit)\n",
    "            target = rec.labels[face_idx]\n",
    "            correct = (prediction == target)\n",
    "            per_face_recs.append({\n",
    "                'dataset': rec.dataset,\n",
    "                'model': rec.model,\n",
    "                'test_idx': rec.test_idx,\n",
    "                'face_idx': face_idx,\n",
    "                'seed': rec.seed,\n",
    "                'train_size': rec.train_size,\n",
    "                'scores': logit,\n",
    "                'prediction': prediction,\n",
    "                'target': target,\n",
    "                'correct': correct\n",
    "            })\n",
    "\n",
    "per_face_df = pd.DataFrame.from_records(per_face_recs)"
   ]
  },
  {
   "cell_type": "code",
   "execution_count": 46,
   "metadata": {},
   "outputs": [],
   "source": [
    "baselines_df = pd.read_parquet('/home/ben/Documents/research/repbrep/results/all_baselines.parquet')"
   ]
  },
  {
   "cell_type": "code",
   "execution_count": 54,
   "metadata": {},
   "outputs": [
    {
     "data": {
      "text/plain": [
       "0"
      ]
     },
     "execution_count": 54,
     "metadata": {},
     "output_type": "execute_result"
    }
   ],
   "source": [
    "np.argmax(baselines_df[baselines_df.dataset == 'Fusion360Seg'].logits[0][0])"
   ]
  },
  {
   "cell_type": "code",
   "execution_count": 88,
   "metadata": {},
   "outputs": [],
   "source": [
    "per_face_df.to_parquet('/home/ben/Documents/research/repbrep/results/ours_and_baselines_per_face.parquet')"
   ]
  },
  {
   "cell_type": "code",
   "execution_count": 90,
   "metadata": {},
   "outputs": [
    {
     "data": {
      "text/html": [
       "<div>\n",
       "<style scoped>\n",
       "    .dataframe tbody tr th:only-of-type {\n",
       "        vertical-align: middle;\n",
       "    }\n",
       "\n",
       "    .dataframe tbody tr th {\n",
       "        vertical-align: top;\n",
       "    }\n",
       "\n",
       "    .dataframe thead th {\n",
       "        text-align: right;\n",
       "    }\n",
       "</style>\n",
       "<table border=\"1\" class=\"dataframe\">\n",
       "  <thead>\n",
       "    <tr style=\"text-align: right;\">\n",
       "      <th></th>\n",
       "      <th></th>\n",
       "      <th></th>\n",
       "      <th>correct</th>\n",
       "    </tr>\n",
       "    <tr>\n",
       "      <th>dataset</th>\n",
       "      <th>model</th>\n",
       "      <th>train_size</th>\n",
       "      <th></th>\n",
       "    </tr>\n",
       "  </thead>\n",
       "  <tbody>\n",
       "    <tr>\n",
       "      <th rowspan=\"18\" valign=\"top\">Fusion360Seg</th>\n",
       "      <th rowspan=\"6\" valign=\"top\">BRepNet</th>\n",
       "      <th>10</th>\n",
       "      <td>0.527208</td>\n",
       "    </tr>\n",
       "    <tr>\n",
       "      <th>100</th>\n",
       "      <td>0.537144</td>\n",
       "    </tr>\n",
       "    <tr>\n",
       "      <th>1000</th>\n",
       "      <td>0.569395</td>\n",
       "    </tr>\n",
       "    <tr>\n",
       "      <th>10000</th>\n",
       "      <td>0.872465</td>\n",
       "    </tr>\n",
       "    <tr>\n",
       "      <th>20000</th>\n",
       "      <td>0.900546</td>\n",
       "    </tr>\n",
       "    <tr>\n",
       "      <th>23266</th>\n",
       "      <td>0.902462</td>\n",
       "    </tr>\n",
       "    <tr>\n",
       "      <th rowspan=\"6\" valign=\"top\">Ours</th>\n",
       "      <th>10</th>\n",
       "      <td>0.564120</td>\n",
       "    </tr>\n",
       "    <tr>\n",
       "      <th>100</th>\n",
       "      <td>0.675405</td>\n",
       "    </tr>\n",
       "    <tr>\n",
       "      <th>1000</th>\n",
       "      <td>0.830958</td>\n",
       "    </tr>\n",
       "    <tr>\n",
       "      <th>10000</th>\n",
       "      <td>0.919429</td>\n",
       "    </tr>\n",
       "    <tr>\n",
       "      <th>20000</th>\n",
       "      <td>0.935691</td>\n",
       "    </tr>\n",
       "    <tr>\n",
       "      <th>23266</th>\n",
       "      <td>0.938257</td>\n",
       "    </tr>\n",
       "    <tr>\n",
       "      <th rowspan=\"6\" valign=\"top\">UV-Net</th>\n",
       "      <th>10</th>\n",
       "      <td>0.341749</td>\n",
       "    </tr>\n",
       "    <tr>\n",
       "      <th>100</th>\n",
       "      <td>0.454888</td>\n",
       "    </tr>\n",
       "    <tr>\n",
       "      <th>1000</th>\n",
       "      <td>0.761662</td>\n",
       "    </tr>\n",
       "    <tr>\n",
       "      <th>10000</th>\n",
       "      <td>0.901075</td>\n",
       "    </tr>\n",
       "    <tr>\n",
       "      <th>20000</th>\n",
       "      <td>0.922596</td>\n",
       "    </tr>\n",
       "    <tr>\n",
       "      <th>23266</th>\n",
       "      <td>0.924702</td>\n",
       "    </tr>\n",
       "    <tr>\n",
       "      <th rowspan=\"15\" valign=\"top\">MFCAD</th>\n",
       "      <th rowspan=\"5\" valign=\"top\">BRepNet</th>\n",
       "      <th>10</th>\n",
       "      <td>0.249180</td>\n",
       "    </tr>\n",
       "    <tr>\n",
       "      <th>100</th>\n",
       "      <td>0.414782</td>\n",
       "    </tr>\n",
       "    <tr>\n",
       "      <th>1000</th>\n",
       "      <td>0.920018</td>\n",
       "    </tr>\n",
       "    <tr>\n",
       "      <th>10000</th>\n",
       "      <td>0.994175</td>\n",
       "    </tr>\n",
       "    <tr>\n",
       "      <th>13940</th>\n",
       "      <td>0.999209</td>\n",
       "    </tr>\n",
       "    <tr>\n",
       "      <th rowspan=\"5\" valign=\"top\">Ours</th>\n",
       "      <th>10</th>\n",
       "      <td>0.377878</td>\n",
       "    </tr>\n",
       "    <tr>\n",
       "      <th>100</th>\n",
       "      <td>0.652727</td>\n",
       "    </tr>\n",
       "    <tr>\n",
       "      <th>1000</th>\n",
       "      <td>0.948662</td>\n",
       "    </tr>\n",
       "    <tr>\n",
       "      <th>10000</th>\n",
       "      <td>0.991476</td>\n",
       "    </tr>\n",
       "    <tr>\n",
       "      <th>13940</th>\n",
       "      <td>0.993930</td>\n",
       "    </tr>\n",
       "    <tr>\n",
       "      <th rowspan=\"5\" valign=\"top\">UV-Net</th>\n",
       "      <th>10</th>\n",
       "      <td>0.284335</td>\n",
       "    </tr>\n",
       "    <tr>\n",
       "      <th>100</th>\n",
       "      <td>0.432883</td>\n",
       "    </tr>\n",
       "    <tr>\n",
       "      <th>1000</th>\n",
       "      <td>0.984418</td>\n",
       "    </tr>\n",
       "    <tr>\n",
       "      <th>10000</th>\n",
       "      <td>0.999627</td>\n",
       "    </tr>\n",
       "    <tr>\n",
       "      <th>13940</th>\n",
       "      <td>0.999778</td>\n",
       "    </tr>\n",
       "  </tbody>\n",
       "</table>\n",
       "</div>"
      ],
      "text/plain": [
       "                                  correct\n",
       "dataset      model   train_size          \n",
       "Fusion360Seg BRepNet 10          0.527208\n",
       "                     100         0.537144\n",
       "                     1000        0.569395\n",
       "                     10000       0.872465\n",
       "                     20000       0.900546\n",
       "                     23266       0.902462\n",
       "             Ours    10          0.564120\n",
       "                     100         0.675405\n",
       "                     1000        0.830958\n",
       "                     10000       0.919429\n",
       "                     20000       0.935691\n",
       "                     23266       0.938257\n",
       "             UV-Net  10          0.341749\n",
       "                     100         0.454888\n",
       "                     1000        0.761662\n",
       "                     10000       0.901075\n",
       "                     20000       0.922596\n",
       "                     23266       0.924702\n",
       "MFCAD        BRepNet 10          0.249180\n",
       "                     100         0.414782\n",
       "                     1000        0.920018\n",
       "                     10000       0.994175\n",
       "                     13940       0.999209\n",
       "             Ours    10          0.377878\n",
       "                     100         0.652727\n",
       "                     1000        0.948662\n",
       "                     10000       0.991476\n",
       "                     13940       0.993930\n",
       "             UV-Net  10          0.284335\n",
       "                     100         0.432883\n",
       "                     1000        0.984418\n",
       "                     10000       0.999627\n",
       "                     13940       0.999778"
      ]
     },
     "execution_count": 90,
     "metadata": {},
     "output_type": "execute_result"
    }
   ],
   "source": [
    "per_face_df[['dataset','model','train_size','correct']].groupby(['dataset','model','train_size']).agg(np.mean)"
   ]
  },
  {
   "cell_type": "code",
   "execution_count": 87,
   "metadata": {},
   "outputs": [
    {
     "data": {
      "text/plain": [
       "Ours       4931760\n",
       "UV-Net     4931760\n",
       "BRepNet    4931760\n",
       "Name: model, dtype: int64"
      ]
     },
     "execution_count": 87,
     "metadata": {},
     "output_type": "execute_result"
    }
   ],
   "source": [
    "per_face_df.model.value_counts()"
   ]
  },
  {
   "cell_type": "code",
   "execution_count": 69,
   "metadata": {},
   "outputs": [
    {
     "data": {
      "text/plain": [
       "'/home/ben/Documents/research/repbrep/datasets/fusion360seg.json'"
      ]
     },
     "execution_count": 69,
     "metadata": {},
     "output_type": "execute_result"
    }
   ],
   "source": [
    "f360seg_index_path"
   ]
  },
  {
   "cell_type": "code",
   "execution_count": 70,
   "metadata": {},
   "outputs": [],
   "source": [
    "with open(mfcad_index_path, 'r') as f:\n",
    "    mfcad_index = json.load(f)\n",
    "with open(f360seg_index_path, 'r') as f:\n",
    "    f360seg_index = json.load(f)\n",
    "with open('/home/ben/Documents/research/repbrep/datasets/fabwave.json','r') as f:\n",
    "    fabwave_index = json.load(f)"
   ]
  },
  {
   "cell_type": "code",
   "execution_count": 75,
   "metadata": {},
   "outputs": [
    {
     "data": {
      "text/plain": [
       "2613"
      ]
     },
     "execution_count": 75,
     "metadata": {},
     "output_type": "execute_result"
    }
   ],
   "source": [
    "len(fabwave_index['train'])"
   ]
  },
  {
   "cell_type": "code",
   "execution_count": 79,
   "metadata": {},
   "outputs": [
    {
     "data": {
      "text/plain": [
       "UV-Net     328440\n",
       "BRepNet    328440\n",
       "Name: model, dtype: int64"
      ]
     },
     "execution_count": 79,
     "metadata": {},
     "output_type": "execute_result"
    }
   ],
   "source": [
    "baselines_df.model.value_counts()"
   ]
  },
  {
   "cell_type": "code",
   "execution_count": 80,
   "metadata": {},
   "outputs": [
    {
     "data": {
      "text/plain": [
       "Ours    328440\n",
       "Name: model, dtype: int64"
      ]
     },
     "execution_count": 80,
     "metadata": {},
     "output_type": "execute_result"
    }
   ],
   "source": [
    "our_df.model.value_counts()"
   ]
  },
  {
   "cell_type": "code",
   "execution_count": 82,
   "metadata": {},
   "outputs": [
    {
     "data": {
      "text/plain": [
       "Index(['dataset', 'model', 'test_idx', 'seed', 'train_size', 'logits',\n",
       "       'labels', 'checkpoint'],\n",
       "      dtype='object')"
      ]
     },
     "execution_count": 82,
     "metadata": {},
     "output_type": "execute_result"
    }
   ],
   "source": [
    "baselines_df.columns"
   ]
  },
  {
   "cell_type": "code",
   "execution_count": 83,
   "metadata": {},
   "outputs": [
    {
     "data": {
      "text/plain": [
       "Index(['dataset', 'model', 'test_idx', 'seed', 'train_size', 'logits',\n",
       "       'labels'],\n",
       "      dtype='object')"
      ]
     },
     "execution_count": 83,
     "metadata": {},
     "output_type": "execute_result"
    }
   ],
   "source": [
    "our_df.columns"
   ]
  },
  {
   "cell_type": "code",
   "execution_count": null,
   "metadata": {},
   "outputs": [],
   "source": [
    "# Precompute Camera Angles\n",
    "\n",
    "from rendering import find_best_angle_from_part\n",
    "from tqdm.notebook import tqdm\n",
    "from zipfile import ZipFile\n",
    "import json\n",
    "import os\n",
    "from pspy import Part, PartOptions\n",
    "\n",
    "\n",
    "\n",
    "\n",
    "def get_camera_params(index_path, zip_path):\n",
    "    poses = []\n",
    "    zooms = []\n",
    "    opts = PartOptions()\n",
    "    opts.default_mcfs = False\n",
    "    opts.num_uv_samples = 0\n",
    "    opts.sample_normals = 0\n",
    "    opts.sample_tangents = False\n",
    "    with open(index_path, 'r') as f:\n",
    "        index = json.load(f)\n",
    "    parts_list = [index['template'].format(*x) for x in index['test']]\n",
    "    with ZipFile(zip_path, 'r') as zf:\n",
    "        for part_path in tqdm(parts_list):\n",
    "            part = Part(zf.open(part_path).read().decode('utf-8'), opts)\n",
    "            pose, zoom = find_best_angle_from_part(part, cubify=True)\n",
    "            poses.append(pose)\n",
    "            zooms.append(zoom)\n",
    "    return poses, zooms\n",
    "\n",
    "repbrep = '/home/ben/Documents/research/repbrep/'\n",
    "model_dir = os.path.join(repbrep, 'models', 'BRepFaceAutoencoder_64_1024_4')\n",
    "checkpoint_path = os.path.join(model_dir, 'BRepFaceAutoencoder_64_1024_4.ckpt')\n",
    "\n",
    "f360seg_index_path =  os.path.join(repbrep, 'datasets', 'fusion360seg.json')\n",
    "f360seg_zip_path = os.path.join(repbrep, 'datasets', 'fusion360seg.zip')\n",
    "f360seg_tb_dir = os.path.join(repbrep, 'training_logs', 'ours', 'f360seg')\n",
    "f360seg_coded_path = os.path.join(model_dir, 'fusion360seg_coded.pt')\n",
    "\n",
    "mfcad_index_path =  os.path.join(repbrep, 'datasets', 'mfcad.json')\n",
    "mfcad_zip_path = os.path.join(repbrep, 'datasets', 'mfcad.zip')\n",
    "mfcad_tb_dir = os.path.join(repbrep, 'training_logs', 'ours', 'mfcad')\n",
    "mfcad_coded_path = os.path.join(model_dir, 'mfcad_coded.pt')\n",
    "\n",
    "f360_poses, f360_zooms = get_camera_params(mfcad_index_path, mfcad_zip_path)\n",
    "mfcad_poses, mfcad_zooms = get_camera_params(mfcad_index_path, mfcad_zip_path)"
   ]
  },
  {
   "cell_type": "code",
   "execution_count": null,
   "metadata": {},
   "outputs": [],
   "source": []
  }
 ],
 "metadata": {
  "kernelspec": {
   "display_name": "Python 3.9.13",
   "language": "python",
   "name": "python3"
  },
  "language_info": {
   "codemirror_mode": {
    "name": "ipython",
    "version": 3
   },
   "file_extension": ".py",
   "mimetype": "text/x-python",
   "name": "python",
   "nbconvert_exporter": "python",
   "pygments_lexer": "ipython3",
   "version": "3.9.13"
  },
  "orig_nbformat": 4,
  "vscode": {
   "interpreter": {
    "hash": "40d348aabc84c65cf5454f47dd42764ee2f97f6b03d2b3fb68e7398f050dcdb8"
   }
  }
 },
 "nbformat": 4,
 "nbformat_minor": 2
}
