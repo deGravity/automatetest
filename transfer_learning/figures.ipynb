{
 "cells": [
  {
   "cell_type": "markdown",
   "metadata": {},
   "source": [
    "## Reconstruction Gallery"
   ]
  },
  {
   "cell_type": "code",
   "execution_count": null,
   "metadata": {},
   "outputs": [],
   "source": [
    "# TODO - move any reasonable-to-precomput torch files to disk, put unreasonable ones in gitignore\n",
    "#      - add params for gallery size, flag for force recompute, and cache loading for prerenders\n",
    "\n",
    "import torch\n",
    "import numpy as np\n",
    "from rendering import find_best_angle_from_part, render_part, render_mesh\n",
    "from tqdm.notebook import tqdm\n",
    "from render_shape import preds_to_mesh\n",
    "from zipfile import ZipFile\n",
    "import json\n",
    "from pspy import Part\n",
    "from train_latent_space import BRepFaceAutoencoder\n",
    "from matplotlib import pyplot as plt\n",
    "import os\n",
    "\n",
    "data_root = '/media/ben/Data/cad'\n",
    "f360seg_index_path =  data_root + '/fusion360seg.json'\n",
    "f360seg_zip_path = data_root + '/fusion360seg.zip'\n",
    "model_checkpoint_path = data_root + '/BRepFaceAutoencoder_64_1024_4.ckpt'\n",
    "computed_f360seg_codes_path = data_root + '/fusion360seg_coded.pt'\n",
    "render_losses_path = 'f360_render_test_losses.pt'\n",
    "figure_out_path = 'renderings.png'\n",
    "\n",
    "rows = 6\n",
    "cols = 4\n",
    "size = 5\n",
    "\n",
    "grid_density = 100\n",
    "\n",
    "force_rendering = False\n",
    "\n",
    "\n",
    "\n",
    "\n",
    "\n",
    "testing_losses = torch.load(render_losses_path)\n",
    "avg_losses = np.array([x[0].item() for x in testing_losses])\n",
    "part_sizes = np.array([x[1] for x in testing_losses])\n",
    "total_losses = avg_losses * part_sizes\n",
    "avg_sorted = sorted(enumerate(zip(avg_losses, part_sizes, total_losses)),key=lambda x: x[1][0])\n",
    "total_sorted = sorted(enumerate(zip(avg_losses, part_sizes, total_losses)),key=lambda x: x[1][2])\n",
    "total_filtered = [x for x in total_sorted if x[1][1] > 20]\n",
    "\n",
    "\n",
    "recompute_renderings = True\n",
    "if os.path.exists('render_results.pt') and not force_rendering:\n",
    "    render_results = torch.load('render_results.pt')\n",
    "    renders = render_results['renders']\n",
    "    gts = render_results['gts']\n",
    "    if len(renders) >= rows*cols:\n",
    "        recompute_renderings = False\n",
    "\n",
    "if recompute_renderings:\n",
    "    with open(f360seg_index_path,'r') as f:\n",
    "        index = json.load(f)\n",
    "    data =  ZipFile(f360seg_zip_path,'r')\n",
    "    parts_list = [index['template'].format(*x) for x in index['test']]\n",
    "\n",
    "    model = BRepFaceAutoencoder(64,1024,4)\n",
    "    ckpt = torch.load(model_checkpoint_path)\n",
    "    model.load_state_dict(ckpt['state_dict'])\n",
    "\n",
    "    def predict(face_codes, model, N=grid_density):\n",
    "        n_faces = face_codes.shape[0]\n",
    "        line = torch.linspace(-0.1,1.1,N)\n",
    "        grid = torch.cartesian_prod(line, line)\n",
    "        grids = grid.repeat(n_faces,1)\n",
    "        indices = torch.arange(n_faces).repeat_interleave(N*N, dim=0)\n",
    "        with torch.no_grad():\n",
    "            indexed_codes = face_codes[indices]\n",
    "            uv_codes = torch.cat([grids, indexed_codes],dim=1)\n",
    "            preds = model.decoder(uv_codes)\n",
    "        return preds\n",
    "\n",
    "    codes = torch.load(computed_f360seg_codes_path)\n",
    "\n",
    "    gts = []\n",
    "    renders = []\n",
    "    for k in tqdm(range(rows*cols)):\n",
    "        i = total_filtered[k][0]\n",
    "        N = grid_density\n",
    "        preds = predict(codes[parts_list[i]]['x'], model, N)\n",
    "        V, F, C = preds_to_mesh(preds, N)\n",
    "        part = Part(data.open(parts_list[i]).read().decode('utf-8'))\n",
    "        pose, zoom = find_best_angle_from_part(part)\n",
    "        ground_truth = render_part(part, pose, zoom)\n",
    "        rendering = render_mesh(V,F,C,pose,zoom)\n",
    "        gts.append(ground_truth)\n",
    "        renders.append(rendering)\n",
    "\n",
    "    render_results = {'gts':gts,'renders':renders}\n",
    "    torch.save(render_results, 'render_results.pt')\n",
    "\n",
    "\n",
    "\n",
    "M = rows*cols\n",
    "s = size\n",
    "fig, axes = plt.subplots(int(M/cols), cols*2, figsize=(2*cols*s, s*int(M/cols)),gridspec_kw = {'wspace':0, 'hspace':0}, dpi=300)\n",
    "for i in range(M):\n",
    "    row = int(i / cols)\n",
    "    col = i % cols\n",
    "    axes[row,2*col].imshow(gts[i])\n",
    "    axes[row,2*col].axis('off')\n",
    "    axes[row,2*col+1].imshow(renders[i])\n",
    "    axes[row,2*col+1].axis('off')\n",
    "fig.savefig(figure_out_path)"
   ]
  },
  {
   "cell_type": "code",
   "execution_count": null,
   "metadata": {},
   "outputs": [],
   "source": []
  },
  {
   "cell_type": "markdown",
   "metadata": {},
   "source": [
    "## MFCAD Figure"
   ]
  },
  {
   "cell_type": "code",
   "execution_count": null,
   "metadata": {},
   "outputs": [],
   "source": [
    "gallery_examples = [646, 965, 673, 417, 888, 1090]\n",
    "\n"
   ]
  },
  {
   "cell_type": "code",
   "execution_count": null,
   "metadata": {},
   "outputs": [],
   "source": []
  },
  {
   "cell_type": "markdown",
   "metadata": {},
   "source": [
    "## Limitations Plot"
   ]
  },
  {
   "cell_type": "code",
   "execution_count": null,
   "metadata": {},
   "outputs": [],
   "source": [
    "import altair as alt\n",
    "import numpy as np\n",
    "import pandas as pd\n",
    "from matplotlib import pyplot as plt\n",
    "\n",
    "accs = pd.read_parquet('df_face_acc.parquet')\n",
    "accs['one'] = 1\n",
    "iscorr = np.vectorize(lambda x: 'correct' if x == 1 else 'incorrect')\n",
    "accs['correct'] = iscorr(accs.label)\n",
    "accs['logmse'] = np.log(accs.mse)\n",
    "\n",
    "alt.data_transformers.disable_max_rows()\n",
    "\n",
    "alt.Chart(accs[accs.mse < 1]).mark_bar().encode(\n",
    "    x=alt.X('logmse',bin=alt.Bin(maxbins=50)),\n",
    "    y=alt.Y('sum(one)', stack='normalize', axis=alt.Axis(format='%')),\n",
    "    color=alt.Color('label:N')\n",
    ").facet(row='train_size')"
   ]
  },
  {
   "cell_type": "code",
   "execution_count": null,
   "metadata": {},
   "outputs": [],
   "source": []
  }
 ],
 "metadata": {
  "kernelspec": {
   "display_name": "Python 3.9.13",
   "language": "python",
   "name": "python3"
  },
  "language_info": {
   "codemirror_mode": {
    "name": "ipython",
    "version": 3
   },
   "file_extension": ".py",
   "mimetype": "text/x-python",
   "name": "python",
   "nbconvert_exporter": "python",
   "pygments_lexer": "ipython3",
   "version": "3.9.13"
  },
  "orig_nbformat": 4,
  "vscode": {
   "interpreter": {
    "hash": "40d348aabc84c65cf5454f47dd42764ee2f97f6b03d2b3fb68e7398f050dcdb8"
   }
  }
 },
 "nbformat": 4,
 "nbformat_minor": 2
}
