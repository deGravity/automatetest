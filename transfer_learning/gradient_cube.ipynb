{
 "cells": [
  {
   "cell_type": "code",
   "execution_count": 1,
   "metadata": {},
   "outputs": [],
   "source": [
    "from train_latent_space import BRepDS, BRepFaceAutoencoder, BRepFaceEncoder, implicit_part_to_data, ImplicitPart, ImplicitDecoder"
   ]
  },
  {
   "cell_type": "code",
   "execution_count": 24,
   "metadata": {},
   "outputs": [],
   "source": [
    "ipart = ImplicitPart('../../cube.x_t', 10, 100, True)"
   ]
  },
  {
   "cell_type": "code",
   "execution_count": 25,
   "metadata": {},
   "outputs": [],
   "source": [
    "data = implicit_part_to_data(ipart, 10)"
   ]
  },
  {
   "cell_type": "code",
   "execution_count": 26,
   "metadata": {},
   "outputs": [
    {
     "data": {
      "text/plain": [
       "HetData(bounding_box=[2, 3], face_surfaces=[6, 5], face_surface_parameters=[6, 11], face_surface_flipped=[6], loop_types=[6, 10], loop_length=[6], edge_curves=[12, 3], edge_curve_parameters=[12, 11], edge_curve_flipped=[12], edge_length=[12], vertex_positions=[8, 3], face_to_face=[3, 12], face_to_loop=[2, 6], loop_to_edge=[2, 24], edge_to_vertex=[2, 24], loop_to_vertex=[2, 0], edge_to_vertex_is_start=[24], loop_to_edge_flipped=[24], surface_bounds=[6, 2, 2], surface_coords=[6, 10, 2], surface_samples=[6, 10, 7], curve_bounds=[12, 2], curve_samples=[12, 4, 6])"
      ]
     },
     "execution_count": 26,
     "metadata": {},
     "output_type": "execute_result"
    }
   ],
   "source": [
    "data"
   ]
  },
  {
   "cell_type": "code",
   "execution_count": 9,
   "metadata": {},
   "outputs": [
    {
     "data": {
      "text/plain": [
       "<All keys matched successfully>"
      ]
     },
     "execution_count": 9,
     "metadata": {},
     "output_type": "execute_result"
    }
   ],
   "source": [
    "import torch\n",
    "model = BRepFaceAutoencoder(64,1024,4)\n",
    "ckpt = torch.load('../../BRepFaceAutoencoder_64_1024_4.ckpt')\n",
    "model.load_state_dict(ckpt['state_dict'])"
   ]
  },
  {
   "cell_type": "code",
   "execution_count": 12,
   "metadata": {},
   "outputs": [
    {
     "name": "stderr",
     "output_type": "stream",
     "text": [
      "c:\\Users\\Ben\\anaconda3\\envs\\automate\\lib\\site-packages\\torch\\functional.py:1069: UserWarning: torch.meshgrid: in an upcoming release, it will be required to pass the indexing argument. (Triggered internally at  ..\\aten\\src\\ATen\\native\\TensorShape.cpp:2157.)\n",
      "  return _VF.cartesian_prod(tensors)  # type: ignore[attr-defined]\n"
     ]
    }
   ],
   "source": [
    "n_faces = 6\n",
    "N = 50\n",
    "line = torch.linspace(-0.1,1.1,N)\n",
    "grid = torch.cartesian_prod(line, line)\n",
    "grids = grid.repeat(n_faces,1)\n",
    "indices = torch.arange(n_faces).repeat_interleave(N*N, dim=0)"
   ]
  },
  {
   "cell_type": "code",
   "execution_count": 27,
   "metadata": {},
   "outputs": [],
   "source": [
    "pred = model(data, grids, indices)"
   ]
  },
  {
   "cell_type": "code",
   "execution_count": 21,
   "metadata": {},
   "outputs": [],
   "source": [
    "import meshplot as mp"
   ]
  },
  {
   "cell_type": "code",
   "execution_count": 30,
   "metadata": {},
   "outputs": [
    {
     "data": {
      "application/vnd.jupyter.widget-view+json": {
       "model_id": "52d9982c551947c486a17a4a3813e38b",
       "version_major": 2,
       "version_minor": 0
      },
      "text/plain": [
       "Renderer(camera=PerspectiveCamera(children=(DirectionalLight(color='white', intensity=0.6, position=(-0.002272…"
      ]
     },
     "metadata": {},
     "output_type": "display_data"
    },
    {
     "data": {
      "text/plain": [
       "<meshplot.Viewer.Viewer at 0x26985ff5400>"
      ]
     },
     "execution_count": 30,
     "metadata": {},
     "output_type": "execute_result"
    }
   ],
   "source": [
    "mp.plot(pred[:,:3].detach().numpy(), c=pred[:,3].detach().numpy(), shading={'point_size':1})"
   ]
  },
  {
   "cell_type": "code",
   "execution_count": 31,
   "metadata": {},
   "outputs": [
    {
     "ename": "ImportError",
     "evalue": "DLL load failed while importing cd: The specified module could not be found.",
     "output_type": "error",
     "traceback": [
      "\u001b[1;31m---------------------------------------------------------------------------\u001b[0m",
      "\u001b[1;31mImportError\u001b[0m                               Traceback (most recent call last)",
      "\u001b[1;32mc:\\Users\\Ben\\research\\automate\\automate\\transfer_learning\\gradient_cube.ipynb Cell 10\u001b[0m in \u001b[0;36m<cell line: 1>\u001b[1;34m()\u001b[0m\n\u001b[1;32m----> <a href='vscode-notebook-cell:/c%3A/Users/Ben/research/automate/automate/transfer_learning/gradient_cube.ipynb#ch0000009?line=0'>1</a>\u001b[0m \u001b[39mfrom\u001b[39;00m \u001b[39mchamfer_distance\u001b[39;00m \u001b[39mimport\u001b[39;00m ChamferDistance\n",
      "File \u001b[1;32mc:\\Users\\Ben\\anaconda3\\envs\\automate\\lib\\site-packages\\chamfer_distance\\__init__.py:1\u001b[0m, in \u001b[0;36m<module>\u001b[1;34m\u001b[0m\n\u001b[1;32m----> 1\u001b[0m \u001b[39mfrom\u001b[39;00m \u001b[39m.\u001b[39;00m\u001b[39mchamfer_distance\u001b[39;00m \u001b[39mimport\u001b[39;00m ChamferDistance\n",
      "File \u001b[1;32mc:\\Users\\Ben\\anaconda3\\envs\\automate\\lib\\site-packages\\chamfer_distance\\chamfer_distance.py:8\u001b[0m, in \u001b[0;36m<module>\u001b[1;34m\u001b[0m\n\u001b[0;32m      4\u001b[0m \u001b[39mfrom\u001b[39;00m \u001b[39mtorch\u001b[39;00m\u001b[39m.\u001b[39;00m\u001b[39mutils\u001b[39;00m\u001b[39m.\u001b[39;00m\u001b[39mcpp_extension\u001b[39;00m \u001b[39mimport\u001b[39;00m load\n\u001b[0;32m      7\u001b[0m f_path \u001b[39m=\u001b[39m os\u001b[39m.\u001b[39mpath\u001b[39m.\u001b[39mdirname(\u001b[39m__file__\u001b[39m)\n\u001b[1;32m----> 8\u001b[0m cd \u001b[39m=\u001b[39m load(name\u001b[39m=\u001b[39;49m\u001b[39m\"\u001b[39;49m\u001b[39mcd\u001b[39;49m\u001b[39m\"\u001b[39;49m,\n\u001b[0;32m      9\u001b[0m           sources\u001b[39m=\u001b[39;49m[ f_path \u001b[39m+\u001b[39;49m \u001b[39m'\u001b[39;49m\u001b[39m/chamfer_distance.cpp\u001b[39;49m\u001b[39m'\u001b[39;49m,\n\u001b[0;32m     10\u001b[0m                     f_path \u001b[39m+\u001b[39;49m \u001b[39m'\u001b[39;49m\u001b[39m/chamfer_distance.cu\u001b[39;49m\u001b[39m'\u001b[39;49m])\n\u001b[0;32m     13\u001b[0m \u001b[39mclass\u001b[39;00m \u001b[39mChamferDistanceFunction\u001b[39;00m(torch\u001b[39m.\u001b[39mautograd\u001b[39m.\u001b[39mFunction):\n\u001b[0;32m     14\u001b[0m     \u001b[39m@staticmethod\u001b[39m\n\u001b[0;32m     15\u001b[0m     \u001b[39mdef\u001b[39;00m \u001b[39mforward\u001b[39m(ctx, xyz1, xyz2, device):\n",
      "File \u001b[1;32mc:\\Users\\Ben\\anaconda3\\envs\\automate\\lib\\site-packages\\torch\\utils\\cpp_extension.py:1124\u001b[0m, in \u001b[0;36mload\u001b[1;34m(name, sources, extra_cflags, extra_cuda_cflags, extra_ldflags, extra_include_paths, build_directory, verbose, with_cuda, is_python_module, is_standalone, keep_intermediates)\u001b[0m\n\u001b[0;32m   1033\u001b[0m \u001b[39mdef\u001b[39;00m \u001b[39mload\u001b[39m(name,\n\u001b[0;32m   1034\u001b[0m          sources: Union[\u001b[39mstr\u001b[39m, List[\u001b[39mstr\u001b[39m]],\n\u001b[0;32m   1035\u001b[0m          extra_cflags\u001b[39m=\u001b[39m\u001b[39mNone\u001b[39;00m,\n\u001b[1;32m   (...)\u001b[0m\n\u001b[0;32m   1043\u001b[0m          is_standalone\u001b[39m=\u001b[39m\u001b[39mFalse\u001b[39;00m,\n\u001b[0;32m   1044\u001b[0m          keep_intermediates\u001b[39m=\u001b[39m\u001b[39mTrue\u001b[39;00m):\n\u001b[0;32m   1045\u001b[0m     \u001b[39mr\u001b[39m\u001b[39m'''\u001b[39;00m\n\u001b[0;32m   1046\u001b[0m \u001b[39m    Loads a PyTorch C++ extension just-in-time (JIT).\u001b[39;00m\n\u001b[0;32m   1047\u001b[0m \n\u001b[1;32m   (...)\u001b[0m\n\u001b[0;32m   1122\u001b[0m \u001b[39m                verbose=True)\u001b[39;00m\n\u001b[0;32m   1123\u001b[0m \u001b[39m    '''\u001b[39;00m\n\u001b[1;32m-> 1124\u001b[0m     \u001b[39mreturn\u001b[39;00m _jit_compile(\n\u001b[0;32m   1125\u001b[0m         name,\n\u001b[0;32m   1126\u001b[0m         [sources] \u001b[39mif\u001b[39;49;00m \u001b[39misinstance\u001b[39;49m(sources, \u001b[39mstr\u001b[39;49m) \u001b[39melse\u001b[39;49;00m sources,\n\u001b[0;32m   1127\u001b[0m         extra_cflags,\n\u001b[0;32m   1128\u001b[0m         extra_cuda_cflags,\n\u001b[0;32m   1129\u001b[0m         extra_ldflags,\n\u001b[0;32m   1130\u001b[0m         extra_include_paths,\n\u001b[0;32m   1131\u001b[0m         build_directory \u001b[39mor\u001b[39;49;00m _get_build_directory(name, verbose),\n\u001b[0;32m   1132\u001b[0m         verbose,\n\u001b[0;32m   1133\u001b[0m         with_cuda,\n\u001b[0;32m   1134\u001b[0m         is_python_module,\n\u001b[0;32m   1135\u001b[0m         is_standalone,\n\u001b[0;32m   1136\u001b[0m         keep_intermediates\u001b[39m=\u001b[39;49mkeep_intermediates)\n",
      "File \u001b[1;32mc:\\Users\\Ben\\anaconda3\\envs\\automate\\lib\\site-packages\\torch\\utils\\cpp_extension.py:1362\u001b[0m, in \u001b[0;36m_jit_compile\u001b[1;34m(name, sources, extra_cflags, extra_cuda_cflags, extra_ldflags, extra_include_paths, build_directory, verbose, with_cuda, is_python_module, is_standalone, keep_intermediates)\u001b[0m\n\u001b[0;32m   1359\u001b[0m \u001b[39mif\u001b[39;00m is_standalone:\n\u001b[0;32m   1360\u001b[0m     \u001b[39mreturn\u001b[39;00m _get_exec_path(name, build_directory)\n\u001b[1;32m-> 1362\u001b[0m \u001b[39mreturn\u001b[39;00m _import_module_from_library(name, build_directory, is_python_module)\n",
      "File \u001b[1;32mc:\\Users\\Ben\\anaconda3\\envs\\automate\\lib\\site-packages\\torch\\utils\\cpp_extension.py:1752\u001b[0m, in \u001b[0;36m_import_module_from_library\u001b[1;34m(module_name, path, is_python_module)\u001b[0m\n\u001b[0;32m   1749\u001b[0m \u001b[39mif\u001b[39;00m is_python_module:\n\u001b[0;32m   1750\u001b[0m     \u001b[39m# https://stackoverflow.com/questions/67631/how-to-import-a-module-given-the-full-path\u001b[39;00m\n\u001b[0;32m   1751\u001b[0m     spec \u001b[39m=\u001b[39m importlib\u001b[39m.\u001b[39mutil\u001b[39m.\u001b[39mspec_from_file_location(module_name, filepath)\n\u001b[1;32m-> 1752\u001b[0m     module \u001b[39m=\u001b[39m importlib\u001b[39m.\u001b[39;49mutil\u001b[39m.\u001b[39;49mmodule_from_spec(spec)\n\u001b[0;32m   1753\u001b[0m     \u001b[39massert\u001b[39;00m \u001b[39misinstance\u001b[39m(spec\u001b[39m.\u001b[39mloader, importlib\u001b[39m.\u001b[39mabc\u001b[39m.\u001b[39mLoader)\n\u001b[0;32m   1754\u001b[0m     spec\u001b[39m.\u001b[39mloader\u001b[39m.\u001b[39mexec_module(module)\n",
      "\u001b[1;31mImportError\u001b[0m: DLL load failed while importing cd: The specified module could not be found."
     ]
    }
   ],
   "source": [
    "from chamfer_distance import ChamferDistance"
   ]
  },
  {
   "cell_type": "code",
   "execution_count": null,
   "metadata": {},
   "outputs": [],
   "source": [
    "chamdef"
   ]
  }
 ],
 "metadata": {
  "kernelspec": {
   "display_name": "Python 3.9.7 ('automate')",
   "language": "python",
   "name": "python3"
  },
  "language_info": {
   "codemirror_mode": {
    "name": "ipython",
    "version": 3
   },
   "file_extension": ".py",
   "mimetype": "text/x-python",
   "name": "python",
   "nbconvert_exporter": "python",
   "pygments_lexer": "ipython3",
   "version": "3.9.7"
  },
  "orig_nbformat": 4,
  "vscode": {
   "interpreter": {
    "hash": "0c467c443a412463ac41f279f075864109fefab70b23524f7f454cda8eec5ecd"
   }
  }
 },
 "nbformat": 4,
 "nbformat_minor": 2
}
