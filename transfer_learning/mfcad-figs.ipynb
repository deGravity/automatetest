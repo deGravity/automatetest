{
 "cells": [
  {
   "cell_type": "markdown",
   "metadata": {},
   "source": [
    "# Imports"
   ]
  },
  {
   "cell_type": "code",
   "execution_count": null,
   "metadata": {
    "jupyter": {
     "source_hidden": true
    }
   },
   "outputs": [],
   "source": [
    "import meshplot as mp\n",
    "from datasets import BRepDataModule\n",
    "from automate import PartFeatures\n",
    "import meshplot as mp\n",
    "import numpy as np\n",
    "import os\n",
    "from matplotlib import pyplot as plt\n",
    "from zipfile import ZipFile\n",
    "from pspy import Part\n",
    "from pylab import cm"
   ]
  },
  {
   "cell_type": "markdown",
   "metadata": {},
   "source": [
    "## Dataloaders and Model Definitions"
   ]
  },
  {
   "cell_type": "code",
   "execution_count": 2,
   "metadata": {
    "jupyter": {
     "source_hidden": true
    }
   },
   "outputs": [],
   "source": [
    "import torch_geometric as tg\n",
    "from sklearn.model_selection import train_test_split\n",
    "import pytorch_lightning as pl\n",
    "from torch_geometric.loader import DataLoader\n",
    "import random\n",
    "import torch\n",
    "import json\n",
    "from tqdm import tqdm\n",
    "\n",
    "def create_subset(data, seed, size):\n",
    "    random.seed(seed)\n",
    "    return random.sample(data, size)\n",
    "\n",
    "class GCNEncoder(torch.nn.Module):\n",
    "    def __init__(self, in_channels, out_channels):\n",
    "        super(GCNEncoder, self).__init__()\n",
    "        self.conv1 = tg.nn.GCNConv(in_channels, 2*out_channels)\n",
    "        self.conv2 = tg.nn.GCNConv(2*out_channels, out_channels)\n",
    "    def forward(self, x, edge_index):\n",
    "        x = self.conv1(x, edge_index).relu()\n",
    "        return self.conv2(x, edge_index)\n",
    "\n",
    "class CodeGraphAutoencoder(pl.LightningModule):\n",
    "    def __init__(self, in_channels, out_channels):\n",
    "        super().__init__()\n",
    "        self.model = tg.nn.GAE(GCNEncoder(64,16))\n",
    "    def forward(self, batch):\n",
    "        return self.model.encode(batch.x, batch.edge_index)\n",
    "    def training_step(self, batch, batch_idx):\n",
    "        z = self(batch)\n",
    "        loss = self.model.recon_loss(z, batch.edge_index)\n",
    "        self.log('train_loss',loss, on_step=True,on_epoch=True,batch_size=z.shape[0])\n",
    "        return loss\n",
    "    def validation_step(self, batch, batch_idx):\n",
    "        z = self(batch)\n",
    "        loss = self.model.recon_loss(z, batch.edge_index)\n",
    "        self.log('val_loss',loss,on_step=True,on_epoch=True,batch_size=z.shape[0])\n",
    "    def test_step(self, batch, batch_idx):\n",
    "        z = self(batch)\n",
    "        loss = self.model.recon_loss(z, batch.edge_index)\n",
    "        self.log('test_loss',loss,on_step=False,on_epoch=True,batch_size=z.shape[0])\n",
    "    def configure_optimizers(self):\n",
    "        return torch.optim.Adam(self.parameters(), lr=1e-2)\n",
    "\n",
    "from automate import LinearBlock, BipartiteResMRConv\n",
    "from torch.nn import ModuleList\n",
    "from torchmetrics import Accuracy\n",
    "from torch.nn.functional import cross_entropy\n",
    "class CodePredictor(pl.LightningModule):\n",
    "    def __init__(self, in_channels, out_channels, mlp_layers, mp_layers):\n",
    "        super().__init__()\n",
    "        self.in_channels = in_channels\n",
    "        self.out_channels = out_channels\n",
    "        self.mlp_layers = mlp_layers\n",
    "        self.mp_layers = mp_layers\n",
    "        \n",
    "        self.mp = ModuleList([BipartiteResMRConv(in_channels) for _ in range(mp_layers)])\n",
    "        self.mlp = LinearBlock(*([in_channels]*mlp_layers), out_channels, last_linear=True)\n",
    "        \n",
    "        self.train_acc = Accuracy()\n",
    "        self.val_acc = Accuracy()\n",
    "        self.test_acc = Accuracy()\n",
    "        \n",
    "    def forward(self, data):\n",
    "        x = data.x#torch.cat([data.x,data.z],dim=1)\n",
    "        for mp in self.mp:\n",
    "            x = mp(x,x,data.edge_index)\n",
    "        x = self.mlp(x)\n",
    "        return x\n",
    "    \n",
    "    def training_step(self, batch, batch_idx):\n",
    "        scores = self(batch)\n",
    "        preds = scores.argmax(dim=1)\n",
    "        target = batch.y.reshape(-1)\n",
    "        loss = cross_entropy(scores, target)\n",
    "        self.train_acc(preds, target)\n",
    "        batch_size = len(target)\n",
    "        self.log('train_loss',loss,on_epoch=True,on_step=True,batch_size=batch_size)\n",
    "        self.log('train_acc',self.train_acc,on_epoch=True,on_step=True,batch_size=batch_size)\n",
    "        return loss\n",
    "    \n",
    "    def validation_step(self, batch, batch_idx):\n",
    "        scores = self(batch)\n",
    "        preds = scores.argmax(dim=1)\n",
    "        target = batch.y.reshape(-1)\n",
    "        loss = cross_entropy(scores, target)\n",
    "        self.val_acc(preds, target)\n",
    "        batch_size = len(target)\n",
    "        self.log('val_loss',loss,on_epoch=True,on_step=True,batch_size=batch_size)\n",
    "        self.log('val_acc',self.val_acc,on_epoch=True,on_step=True,batch_size=batch_size)\n",
    "    \n",
    "    def test_step(self, batch, batch_idx):\n",
    "        scores = self(batch)\n",
    "        preds = scores.argmax(dim=1)\n",
    "        target = batch.y.reshape(-1)\n",
    "        loss = cross_entropy(scores, target)\n",
    "        self.test_acc(preds, target)\n",
    "        batch_size = len(target)\n",
    "        self.log('test_loss',loss,on_epoch=True,on_step=False,batch_size=batch_size)\n",
    "        self.log('test_acc',self.test_acc,on_epoch=True,on_step=False,batch_size=batch_size)\n",
    "        \n",
    "    def configure_optimizers(self):\n",
    "        return torch.optim.Adam(self.parameters(), lr=1e-3)\n",
    "        \n",
    "\n",
    "class DictDataset(torch.utils.data.Dataset):\n",
    "    def __init__(self, index, data, mode='train', val_frac=.2,seed=42,undirected=True,train_size=None):\n",
    "        index\n",
    "        keyset = index['test']\n",
    "        if mode in ['train', 'validate']:\n",
    "            keyset = index['train']\n",
    "            if train_size:\n",
    "                keyset = create_subset(keyset, seed, train_size)\n",
    "            train_keys, val_keys = train_test_split(keyset, test_size=val_frac, random_state=seed)\n",
    "            keyset = train_keys if mode == 'train' else val_keys\n",
    "        self.data = {i:tg.data.Data(**data[index['template'].format(*key)]) for i,key in enumerate(keyset)}\n",
    "        if undirected:\n",
    "            for k,v in self.data.items():\n",
    "                v.edge_index = torch.cat([v.edge_index, v.edge_index[[1,0]]],dim=1)\n",
    "    def __len__(self):\n",
    "        return len(self.data)\n",
    "    def __getitem__(self, idx):\n",
    "        return self.data[idx]\n",
    "\n",
    "class DictDatamodule(pl.LightningDataModule):\n",
    "    def __init__(self, index, data, val_frac=0.2, seed=42, batch_size=32,train_size=None):\n",
    "        super().__init__()\n",
    "        self.val_frac = val_frac\n",
    "        self.seed = seed\n",
    "        self.ds_train = DictDataset(index, data, 'train', val_frac, seed, True, train_size)\n",
    "        self.ds_val = DictDataset(index, data, 'validate', val_frac, seed, True, train_size)\n",
    "        self.ds_test = DictDataset(index, data, 'test')\n",
    "        self.batch_size = batch_size\n",
    "    \n",
    "    def train_dataloader(self):\n",
    "        return DataLoader(\n",
    "            self.ds_train, \n",
    "            batch_size=min(len(self.ds_train), self.batch_size), \n",
    "            shuffle=True, \n",
    "            num_workers=8, \n",
    "            persistent_workers=True\n",
    "        )\n",
    "\n",
    "    def val_dataloader(self):\n",
    "        return DataLoader(\n",
    "            self.ds_val, \n",
    "            batch_size=min(len(self.ds_val),self.batch_size), \n",
    "            shuffle=False\n",
    "        )\n",
    "\n",
    "    def test_dataloader(self):\n",
    "        return DataLoader(self.ds_test, batch_size=1, shuffle=False)"
   ]
  },
  {
   "cell_type": "markdown",
   "metadata": {},
   "source": [
    "## Load The Data Module"
   ]
  },
  {
   "cell_type": "code",
   "execution_count": 3,
   "metadata": {},
   "outputs": [],
   "source": [
    "with open('/projects/grail/benjonesnb/cadlab/siggasia2022/mfcad.json','r') as f:\n",
    "    index = json.load(f)\n",
    "    coded_set = torch.load('/projects/grail/benjonesnb/cadlab/siggasia2022/precoded/mfcad_coded.pt')"
   ]
  },
  {
   "cell_type": "code",
   "execution_count": 4,
   "metadata": {},
   "outputs": [],
   "source": [
    "datamodule = DictDatamodule(\n",
    "                    index, \n",
    "                    coded_set,  \n",
    "                    seed=0, \n",
    "                    batch_size=512\n",
    "                )"
   ]
  },
  {
   "cell_type": "code",
   "execution_count": 10,
   "metadata": {},
   "outputs": [],
   "source": [
    "test_ds = datamodule.ds_test"
   ]
  },
  {
   "cell_type": "markdown",
   "metadata": {},
   "source": [
    "## Find and load trained model checkpoints"
   ]
  },
  {
   "cell_type": "code",
   "execution_count": 6,
   "metadata": {},
   "outputs": [],
   "source": [
    "def load_model(mp_layers, tb_dir):\n",
    "    checkpoint_dir = os.path.join(tb_dir, 'version_0', 'checkpoints')\n",
    "    checkpoints = [os.path.join(checkpoint_dir, f) for f in os.listdir(checkpoint_dir) if f.endswith('.ckpt') and 'val_loss' in f]\n",
    "    model = CodePredictor(64, 16, 2, mp_layers)\n",
    "    sd = torch.load(checkpoints[0],map_location='cpu')['state_dict']\n",
    "    model.load_state_dict(sd)\n",
    "    return model\n",
    "\n",
    "def load_models(root='/projects/grail/benjonesnb/cadlab/siggasia2022/tensorboard/f360seg/', seed = 0):\n",
    "    model_dirs = [(d.split('_')[0], int(d.split('_')[1]), os.path.join(root,d)) for d in os.listdir(root) if '_' in d and os.path.isdir(os.path.join(root,d)) and int(d.split('_')[-1]) == seed]\n",
    "    m_dir_dict = dict()\n",
    "    for model, train_size, path in model_dirs:\n",
    "        ms = m_dir_dict.get(model, [])\n",
    "        ms.append((train_size, path))\n",
    "        m_dir_dict[model] = ms\n",
    "    for k,v in m_dir_dict.items():\n",
    "        m_dir_dict[k] = sorted(v, key=lambda x: x[0])\n",
    "    for k,v in m_dir_dict.items():\n",
    "        for i,(s, p) in enumerate(v):\n",
    "            v[i] = (s, load_model(int(k[-1]), p))\n",
    "    return m_dir_dict\n",
    "all_models = load_models('/projects/grail/benjonesnb/cadlab/siggasia2022/tensorboard/mfcad/')\n",
    "our_models = all_models['mp2']"
   ]
  },
  {
   "cell_type": "code",
   "execution_count": 7,
   "metadata": {},
   "outputs": [
    {
     "data": {
      "text/plain": [
       "[10, 100, 1000, 10000, 13940]"
      ]
     },
     "execution_count": 7,
     "metadata": {},
     "output_type": "execute_result"
    }
   ],
   "source": [
    "[m[0] for m in our_models]"
   ]
  },
  {
   "cell_type": "markdown",
   "metadata": {},
   "source": [
    "## Compute a \"difficulty\" scale for test set examples"
   ]
  },
  {
   "cell_type": "code",
   "execution_count": 12,
   "metadata": {},
   "outputs": [
    {
     "name": "stderr",
     "output_type": "stream",
     "text": [
      "100%|██████████████████████████████████████████████████████████████| 1548/1548 [00:11<00:00, 135.90it/s]\n"
     ]
    }
   ],
   "source": [
    "accs = np.zeros((len(test_ds), len(our_models)))\n",
    "for i in tqdm(range(len(test_ds))):\n",
    "    data = test_ds[i]\n",
    "    for j, (ts, m) in enumerate(our_models):\n",
    "        with torch.no_grad():\n",
    "            preds = m(data).argmax(dim=1).numpy()\n",
    "        targets = data.y.numpy()\n",
    "        acc = (preds.flatten() == targets.flatten()).sum() / len(targets.flatten())\n",
    "        accs[i,j] = acc"
   ]
  },
  {
   "cell_type": "code",
   "execution_count": 13,
   "metadata": {},
   "outputs": [],
   "source": [
    "local_auc = accs.sum(axis = 1) - accs[:,0] / 2 - accs[:,-1] / 2"
   ]
  },
  {
   "cell_type": "code",
   "execution_count": 14,
   "metadata": {},
   "outputs": [],
   "source": [
    "complexity = np.array([len(test_ds[i].y) for i in range(len(test_ds))])"
   ]
  },
  {
   "cell_type": "code",
   "execution_count": 17,
   "metadata": {},
   "outputs": [],
   "source": [
    "sorted_by_auc = sorted(enumerate(zip(local_auc, complexity)), key=lambda x:x[1][0])"
   ]
  },
  {
   "cell_type": "code",
   "execution_count": 19,
   "metadata": {},
   "outputs": [],
   "source": [
    "filtered_examples = [x for x in sorted_by_auc if x[1][1] > 20]"
   ]
  },
  {
   "cell_type": "markdown",
   "metadata": {},
   "source": [
    "## Setup Plotting Code"
   ]
  },
  {
   "cell_type": "code",
   "execution_count": 36,
   "metadata": {},
   "outputs": [],
   "source": [
    "num_labels = max([i for j in index['test_labels'] for i in j]) + 1\n",
    "cmap = cm.get_cmap('tab20', num_labels)\n",
    "zf = ZipFile('/projects/grail/benjonesnb/cadlab/siggasia2022/mfcad.zip')\n",
    "test_keys = [index['template'].format(*x) for x in index['test']]\n",
    "def plot_part(V, F, E2T, FC=None):\n",
    "    plot = mp.plot(V, F, c = FC)\n",
    "    E = np.concatenate([\n",
    "        F[E2T[:,0]>=0][:,[2,0]], \n",
    "        F[E2T[:,1]>=0][:,[0,1]],\n",
    "        F[E2T[:,2]>=0][:,[1,2]]\n",
    "    ], axis=0)\n",
    "    plot.add_edges(V, E, shading={'line_width':0.5})\n",
    "def plot_preds(i, test_ds, test_keys=test_keys, zf=zf, models=our_models, colormap=cmap, just_gt=False):\n",
    "    data = test_ds[i]\n",
    "    with zf.open(test_keys[i],'r') as f:\n",
    "        p = Part(f.read().decode('utf-8'))\n",
    "    target = data.y.numpy()\n",
    "    target_c = colormap(target[p.mesh_topology.face_to_topology])[:,:3]\n",
    "    plot_part(p.mesh.V, p.mesh.F, p.mesh_topology.edge_to_topology,  target_c)\n",
    "    if just_gt:\n",
    "        return\n",
    "    model_preds = []\n",
    "    for ts, model in models:\n",
    "        with torch.no_grad():\n",
    "            preds = model(data).argmax(dim=1).numpy()\n",
    "            model_preds.append(preds)   \n",
    "    for preds in model_preds:\n",
    "        pred_c = colormap(preds[p.mesh_topology.face_to_topology])[:,:3]\n",
    "        plot_part(p.mesh.V, p.mesh.F, p.mesh_topology.edge_to_topology, pred_c)\n"
   ]
  },
  {
   "cell_type": "markdown",
   "metadata": {},
   "source": [
    "## Explore Examples"
   ]
  },
  {
   "cell_type": "code",
   "execution_count": 40,
   "metadata": {},
   "outputs": [
    {
     "data": {
      "text/plain": [
       "1019"
      ]
     },
     "execution_count": 40,
     "metadata": {},
     "output_type": "execute_result"
    }
   ],
   "source": [
    "len(filtered_examples)"
   ]
  },
  {
   "cell_type": "code",
   "execution_count": 62,
   "metadata": {},
   "outputs": [],
   "source": [
    "gallery_examples = [646, 965, 673, 417, 888, 1090]"
   ]
  },
  {
   "cell_type": "code",
   "execution_count": 63,
   "metadata": {},
   "outputs": [
    {
     "name": "stdout",
     "output_type": "stream",
     "text": [
      "(1090, (3.9523809523809526, 21))\n"
     ]
    }
   ],
   "source": [
    "k = -1\n",
    "print(filtered_examples[k])\n",
    "#plot_preds(filtered_examples[k][0], test_ds, test_keys, zf, our_models, cmap)"
   ]
  },
  {
   "cell_type": "code",
   "execution_count": 67,
   "metadata": {},
   "outputs": [
    {
     "name": "stdout",
     "output_type": "stream",
     "text": [
      "new row\n",
      "26.9%\n",
      "34.6%\n",
      "84.6%\n",
      "73.1%\n",
      "73.1%\n",
      "new row\n",
      "40.9%\n",
      "50.0%\n",
      "90.9%\n",
      "95.5%\n",
      "100.0%\n",
      "new row\n",
      "36.4%\n",
      "59.1%\n",
      "90.9%\n",
      "100.0%\n",
      "100.0%\n",
      "new row\n",
      "43.5%\n",
      "60.9%\n",
      "95.7%\n",
      "100.0%\n",
      "100.0%\n",
      "new row\n",
      "44.0%\n",
      "68.0%\n",
      "100.0%\n",
      "100.0%\n",
      "100.0%\n",
      "new row\n",
      "90.5%\n",
      "100.0%\n",
      "100.0%\n",
      "100.0%\n",
      "100.0%\n"
     ]
    }
   ],
   "source": [
    "for row in accs[gallery_examples]:\n",
    "    print('new row')\n",
    "    for col in row:\n",
    "        print(f'{col*100:.1f}%')\n",
    "                "
   ]
  },
  {
   "cell_type": "code",
   "execution_count": 277,
   "metadata": {},
   "outputs": [
    {
     "data": {
      "application/vnd.jupyter.widget-view+json": {
       "model_id": "e9627f41076d4c13acb139ce80975c6b",
       "version_major": 2,
       "version_minor": 0
      },
      "text/plain": [
       "Renderer(camera=PerspectiveCamera(children=(DirectionalLight(color='white', intensity=0.6, position=(0.0, 0.0,…"
      ]
     },
     "metadata": {},
     "output_type": "display_data"
    },
    {
     "data": {
      "application/vnd.jupyter.widget-view+json": {
       "model_id": "2a8adaa19cc84bc68df5c3835035c59f",
       "version_major": 2,
       "version_minor": 0
      },
      "text/plain": [
       "Renderer(camera=PerspectiveCamera(children=(DirectionalLight(color='white', intensity=0.6, position=(0.0, 0.0,…"
      ]
     },
     "metadata": {},
     "output_type": "display_data"
    },
    {
     "data": {
      "application/vnd.jupyter.widget-view+json": {
       "model_id": "1add18c2f33b455b9cddb803bf67eea5",
       "version_major": 2,
       "version_minor": 0
      },
      "text/plain": [
       "Renderer(camera=PerspectiveCamera(children=(DirectionalLight(color='white', intensity=0.6, position=(0.0, 0.0,…"
      ]
     },
     "metadata": {},
     "output_type": "display_data"
    },
    {
     "data": {
      "application/vnd.jupyter.widget-view+json": {
       "model_id": "36eb70db2bdc4619b15e54b9d692709c",
       "version_major": 2,
       "version_minor": 0
      },
      "text/plain": [
       "Renderer(camera=PerspectiveCamera(children=(DirectionalLight(color='white', intensity=0.6, position=(0.0, 0.0,…"
      ]
     },
     "metadata": {},
     "output_type": "display_data"
    },
    {
     "data": {
      "application/vnd.jupyter.widget-view+json": {
       "model_id": "918bec54d6cc428ca393e59f8befcd4d",
       "version_major": 2,
       "version_minor": 0
      },
      "text/plain": [
       "Renderer(camera=PerspectiveCamera(children=(DirectionalLight(color='white', intensity=0.6, position=(-0.004967…"
      ]
     },
     "metadata": {},
     "output_type": "display_data"
    },
    {
     "data": {
      "application/vnd.jupyter.widget-view+json": {
       "model_id": "a7a87db760694e40969feb42d2ddd0cb",
       "version_major": 2,
       "version_minor": 0
      },
      "text/plain": [
       "Renderer(camera=PerspectiveCamera(children=(DirectionalLight(color='white', intensity=0.6, position=(0.0, 0.0,…"
      ]
     },
     "metadata": {},
     "output_type": "display_data"
    },
    {
     "data": {
      "application/vnd.jupyter.widget-view+json": {
       "model_id": "7d3e510105b5402ba15f1e850ed3b2c5",
       "version_major": 2,
       "version_minor": 0
      },
      "text/plain": [
       "Renderer(camera=PerspectiveCamera(children=(DirectionalLight(color='white', intensity=0.6, position=(0.0, 0.0,…"
      ]
     },
     "metadata": {},
     "output_type": "display_data"
    }
   ],
   "source": [
    "for i in gallery_examples:\n",
    "    plot_preds(i, test_ds, test_keys, zf, our_models, color_pallet, just_gt=True)"
   ]
  }
 ],
 "metadata": {
  "kernelspec": {
   "display_name": "automate",
   "language": "python",
   "name": "automate"
  },
  "language_info": {
   "codemirror_mode": {
    "name": "ipython",
    "version": 3
   },
   "file_extension": ".py",
   "mimetype": "text/x-python",
   "name": "python",
   "nbconvert_exporter": "python",
   "pygments_lexer": "ipython3",
   "version": "3.8.12"
  }
 },
 "nbformat": 4,
 "nbformat_minor": 4
}
