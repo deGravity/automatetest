{
 "cells": [
  {
   "cell_type": "code",
   "execution_count": 2,
   "metadata": {},
   "outputs": [],
   "source": [
    "import tensorflow as tf\n",
    "import glob\n",
    "import os\n",
    "import pandas as pd"
   ]
  },
  {
   "cell_type": "code",
   "execution_count": 3,
   "metadata": {},
   "outputs": [],
   "source": [
    "import tensorboard"
   ]
  },
  {
   "cell_type": "code",
   "execution_count": 5,
   "metadata": {},
   "outputs": [],
   "source": [
    "import tensorboard.data.experimental"
   ]
  },
  {
   "cell_type": "code",
   "execution_count": 6,
   "metadata": {},
   "outputs": [],
   "source": [
    "import tensorboard.data"
   ]
  },
  {
   "cell_type": "code",
   "execution_count": 7,
   "metadata": {},
   "outputs": [],
   "source": [
    "import tensorflow.python"
   ]
  },
  {
   "cell_type": "code",
   "execution_count": 10,
   "metadata": {},
   "outputs": [],
   "source": [
    "import tensorflow.python.summary"
   ]
  },
  {
   "cell_type": "code",
   "execution_count": 175,
   "metadata": {},
   "outputs": [
    {
     "data": {
      "text/plain": [
       "False"
      ]
     },
     "execution_count": 175,
     "metadata": {},
     "output_type": "execute_result"
    }
   ],
   "source": [
    "opts.normalize"
   ]
  },
  {
   "cell_type": "code",
   "execution_count": 22,
   "metadata": {},
   "outputs": [],
   "source": [
    "import os\n",
    "import sys"
   ]
  },
  {
   "cell_type": "code",
   "execution_count": 29,
   "metadata": {},
   "outputs": [],
   "source": [
    "logfiles = glob.glob('/home/ben/Documents/research/repbrep/training_logs/**/*event*', recursive=True)"
   ]
  },
  {
   "cell_type": "code",
   "execution_count": 30,
   "metadata": {},
   "outputs": [],
   "source": [
    "si = tf.compat.v1.train.summary_iterator(logfiles[0])"
   ]
  },
  {
   "cell_type": "code",
   "execution_count": 9,
   "metadata": {},
   "outputs": [
    {
     "data": {
      "application/vnd.jupyter.widget-view+json": {
       "model_id": "44723cf68b29465390b62dcc2a30bc69",
       "version_major": 2,
       "version_minor": 0
      },
      "text/plain": [
       "  0%|          | 0/1003 [00:00<?, ?it/s]"
      ]
     },
     "metadata": {},
     "output_type": "display_data"
    }
   ],
   "source": [
    "from tqdm.notebook import tqdm\n",
    "import tensorflow as tf\n",
    "import glob\n",
    "import os\n",
    "import pandas as pd\n",
    "logfiles = glob.glob('/home/ben/Documents/research/repbrep/training_logs/**/*event*', recursive=True)\n",
    "records = []\n",
    "runlog = pd.DataFrame(columns=['logfile', 'wall_time', 'step', 'metric','value'])\n",
    "for logfile in tqdm(logfiles):\n",
    "    si = tf.compat.v1.train.summary_iterator(logfile)\n",
    "    for e in si:\n",
    "        wall_time = e.wall_time\n",
    "        step = e.step\n",
    "        for v in e.summary.value:\n",
    "            r = {'logfile':logfile, 'wall_time':wall_time, 'step':step, 'metric':v.tag, 'value':v.simple_value}\n",
    "            records.append(r)\n",
    "tf_df = pd.DataFrame.from_records(records)"
   ]
  },
  {
   "cell_type": "code",
   "execution_count": 12,
   "metadata": {},
   "outputs": [],
   "source": [
    "tf_df.to_parquet('/home/ben/Documents/research/repbrep/results/tf_logs_summary.parquet')"
   ]
  },
  {
   "cell_type": "code",
   "execution_count": 26,
   "metadata": {},
   "outputs": [
    {
     "data": {
      "text/plain": [
       "['',\n",
       " 'home',\n",
       " 'ben',\n",
       " 'Documents',\n",
       " 'research',\n",
       " 'repbrep',\n",
       " 'training_logs',\n",
       " 'uvnet-fusiongallery-fixed-steps',\n",
       " 'fusiongallery-fixed-steps',\n",
       " 'simple_train_test-1000-4',\n",
       " '0504.214924',\n",
       " 'events.out.tfevents.1651726175.sanka.cs.washington.edu.2728977.0']"
      ]
     },
     "execution_count": 26,
     "metadata": {},
     "output_type": "execute_result"
    }
   ],
   "source": [
    "tf_df.logfile.iloc[0].split('/')"
   ]
  },
  {
   "cell_type": "code",
   "execution_count": 59,
   "metadata": {},
   "outputs": [],
   "source": [
    "def parse_logfile_name(x):\n",
    "\n",
    "    full_mfcad_size = 13940\n",
    "    full_f360seg_size = 23266\n",
    "    full_fabwave_size = 2613\n",
    "\n",
    "    name = x['logfile'].lower()\n",
    "    parts = name.split('/')\n",
    "    base_dir = parts[7]\n",
    "    if base_dir == 'ours':\n",
    "        model = 'ours'\n",
    "        dataset = parts[8].split('_')[0]\n",
    "        exp = parts[9].split('_')\n",
    "        train_size = -1\n",
    "        seed = -1\n",
    "        if exp[0] == 'mp2' or exp[0] == 'fwp':\n",
    "            train_size = float(exp[1])\n",
    "            if train_size <= 1.0:\n",
    "                train_size = full_fabwave_size * train_size\n",
    "            train_size = int(train_size)\n",
    "            seed = int(exp[2])\n",
    "    else:\n",
    "        bd_p = base_dir.split('-')\n",
    "        model = bd_p[0]\n",
    "        dataset = bd_p[1]\n",
    "        if dataset == 'fusiongallery':\n",
    "            dataset = 'f360seg'\n",
    "        train_size = -1\n",
    "        seed = -1\n",
    "        for p in parts:\n",
    "            pp = p.split('-')\n",
    "            if len(pp) > 2:\n",
    "                if pp[-1] in [str(x) for x in range(10)]:\n",
    "                    seed = int(pp[-1])\n",
    "                    if pp[-2] == 'full':\n",
    "                        if dataset == 'mfcad':\n",
    "                            train_size = full_mfcad_size\n",
    "                        elif dataset == 'fabwave':\n",
    "                            train_size = full_fabwave_size\n",
    "                        else:\n",
    "                            train_size = full_f360seg_size\n",
    "                    else:\n",
    "                        train_size = int(pp[-2])\n",
    "                        if dataset == 'fabwave':\n",
    "                            ts_float = float(train_size)/100\n",
    "                            train_size = int(ts_float * full_fabwave_size)\n",
    "        exp = parts[-3]\n",
    "\n",
    "    return pd.Series([dataset, model, train_size, seed])\n",
    "    \n",
    "newcols = tf_df.apply(parse_logfile_name, axis=1)\n",
    "newcols.columns = ['dataset','model','train_size','seed']\n",
    "newdf = tf_df.join(newcols)"
   ]
  },
  {
   "cell_type": "code",
   "execution_count": 72,
   "metadata": {},
   "outputs": [],
   "source": [
    "newdf[newdf.seed >= 0].to_parquet('/home/ben/Documents/research/repbrep/results/tf_events.parquet')"
   ]
  },
  {
   "cell_type": "code",
   "execution_count": 73,
   "metadata": {},
   "outputs": [],
   "source": [
    "events_df = newdf[newdf.seed >= 0]"
   ]
  },
  {
   "cell_type": "code",
   "execution_count": 99,
   "metadata": {},
   "outputs": [],
   "source": [
    "events_df_merged = pd.merge(events_df, start_times, on=['logfile','metric'])"
   ]
  },
  {
   "cell_type": "code",
   "execution_count": 101,
   "metadata": {},
   "outputs": [],
   "source": [
    "events_df_merged['rel_time'] = events_df_merged.wall_time - events_df_merged.start_time"
   ]
  },
  {
   "cell_type": "code",
   "execution_count": 1,
   "metadata": {},
   "outputs": [],
   "source": [
    "import pandas as pd\n",
    "events_df = pd.read_parquet('/home/ben/Documents/research/repbrep/results/tf_events.parquet')"
   ]
  },
  {
   "cell_type": "code",
   "execution_count": 85,
   "metadata": {},
   "outputs": [],
   "source": [
    "start_times = events_df[['logfile','metric','wall_time']].groupby(['logfile','metric']).agg(min).reset_index().rename(columns={'wall_time':'start_time'})"
   ]
  },
  {
   "cell_type": "code",
   "execution_count": 88,
   "metadata": {},
   "outputs": [
    {
     "name": "stderr",
     "output_type": "stream",
     "text": [
      "/tmp/ipykernel_61840/2001750339.py:1: SettingWithCopyWarning: \n",
      "A value is trying to be set on a copy of a slice from a DataFrame.\n",
      "Try using .loc[row_indexer,col_indexer] = value instead\n",
      "\n",
      "See the caveats in the documentation: https://pandas.pydata.org/pandas-docs/stable/user_guide/indexing.html#returning-a-view-versus-a-copy\n",
      "  events_df['joinkey'] = events_df.logfile + events_df.metric\n"
     ]
    }
   ],
   "source": [
    "events_df['joinkey'] = events_df.logfile + events_df.metric"
   ]
  },
  {
   "cell_type": "code",
   "execution_count": 89,
   "metadata": {},
   "outputs": [],
   "source": [
    "start_times['joinkey'] = start_times.logfile + start_times.metric"
   ]
  },
  {
   "cell_type": "code",
   "execution_count": 2,
   "metadata": {},
   "outputs": [],
   "source": [
    "edf = events_df"
   ]
  },
  {
   "cell_type": "code",
   "execution_count": 7,
   "metadata": {},
   "outputs": [],
   "source": [
    "def test_function(x):    \n",
    "    min_time = x.rel_time.values[x.value.values.argmin()]\n",
    "    max_time = x.rel_time.values[x.value.values.argmax()]\n",
    "    return pd.Series([min_time, max_time], index=['min_time','max_time'])\n",
    "\n",
    "agged = edf.groupby(['dataset','model','train_size','seed','metric']).apply(test_function).reset_index().groupby(['dataset','model','train_size','metric']).agg('mean').reset_index()"
   ]
  },
  {
   "cell_type": "code",
   "execution_count": 4,
   "metadata": {},
   "outputs": [],
   "source": [
    "import altair as alt"
   ]
  },
  {
   "cell_type": "code",
   "execution_count": 164,
   "metadata": {},
   "outputs": [
    {
     "data": {
      "text/html": [
       "<div>\n",
       "<style scoped>\n",
       "    .dataframe tbody tr th:only-of-type {\n",
       "        vertical-align: middle;\n",
       "    }\n",
       "\n",
       "    .dataframe tbody tr th {\n",
       "        vertical-align: top;\n",
       "    }\n",
       "\n",
       "    .dataframe thead tr th {\n",
       "        text-align: left;\n",
       "    }\n",
       "\n",
       "    .dataframe thead tr:last-of-type th {\n",
       "        text-align: right;\n",
       "    }\n",
       "</style>\n",
       "<table border=\"1\" class=\"dataframe\">\n",
       "  <thead>\n",
       "    <tr>\n",
       "      <th></th>\n",
       "      <th></th>\n",
       "      <th></th>\n",
       "      <th></th>\n",
       "      <th colspan=\"2\" halign=\"left\">min_time</th>\n",
       "    </tr>\n",
       "    <tr>\n",
       "      <th></th>\n",
       "      <th></th>\n",
       "      <th></th>\n",
       "      <th></th>\n",
       "      <th>mean</th>\n",
       "      <th>std</th>\n",
       "    </tr>\n",
       "    <tr>\n",
       "      <th>dataset</th>\n",
       "      <th>model</th>\n",
       "      <th>train_size</th>\n",
       "      <th>metric</th>\n",
       "      <th></th>\n",
       "      <th></th>\n",
       "    </tr>\n",
       "  </thead>\n",
       "  <tbody>\n",
       "    <tr>\n",
       "      <th rowspan=\"5\" valign=\"top\">f360seg</th>\n",
       "      <th rowspan=\"5\" valign=\"top\">brepnet</th>\n",
       "      <th rowspan=\"5\" valign=\"top\">10</th>\n",
       "      <th>_hparams_/experiment</th>\n",
       "      <td>0.000000</td>\n",
       "      <td>0.000000</td>\n",
       "    </tr>\n",
       "    <tr>\n",
       "      <th>_hparams_/session_end_info</th>\n",
       "      <td>0.000000</td>\n",
       "      <td>0.000000</td>\n",
       "    </tr>\n",
       "    <tr>\n",
       "      <th>_hparams_/session_start_info</th>\n",
       "      <td>0.000000</td>\n",
       "      <td>0.000000</td>\n",
       "    </tr>\n",
       "    <tr>\n",
       "      <th>epoch</th>\n",
       "      <td>0.000000</td>\n",
       "      <td>0.000000</td>\n",
       "    </tr>\n",
       "    <tr>\n",
       "      <th>hp_metric</th>\n",
       "      <td>0.000000</td>\n",
       "      <td>0.000000</td>\n",
       "    </tr>\n",
       "    <tr>\n",
       "      <th>...</th>\n",
       "      <th>...</th>\n",
       "      <th>...</th>\n",
       "      <th>...</th>\n",
       "      <td>...</td>\n",
       "      <td>...</td>\n",
       "    </tr>\n",
       "    <tr>\n",
       "      <th rowspan=\"5\" valign=\"top\">mfcad</th>\n",
       "      <th rowspan=\"5\" valign=\"top\">uvnet</th>\n",
       "      <th rowspan=\"5\" valign=\"top\">13940</th>\n",
       "      <th>train_iou</th>\n",
       "      <td>0.000000</td>\n",
       "      <td>0.000000</td>\n",
       "    </tr>\n",
       "    <tr>\n",
       "      <th>train_loss</th>\n",
       "      <td>1535.750187</td>\n",
       "      <td>444.662759</td>\n",
       "    </tr>\n",
       "    <tr>\n",
       "      <th>val_accuracy</th>\n",
       "      <td>0.000000</td>\n",
       "      <td>0.000000</td>\n",
       "    </tr>\n",
       "    <tr>\n",
       "      <th>val_iou</th>\n",
       "      <td>0.000000</td>\n",
       "      <td>0.000000</td>\n",
       "    </tr>\n",
       "    <tr>\n",
       "      <th>val_loss</th>\n",
       "      <td>1291.886662</td>\n",
       "      <td>554.990425</td>\n",
       "    </tr>\n",
       "  </tbody>\n",
       "</table>\n",
       "<p>790 rows × 2 columns</p>\n",
       "</div>"
      ],
      "text/plain": [
       "                                                            min_time  \\\n",
       "                                                                mean   \n",
       "dataset model   train_size metric                                      \n",
       "f360seg brepnet 10         _hparams_/experiment             0.000000   \n",
       "                           _hparams_/session_end_info       0.000000   \n",
       "                           _hparams_/session_start_info     0.000000   \n",
       "                           epoch                            0.000000   \n",
       "                           hp_metric                        0.000000   \n",
       "...                                                              ...   \n",
       "mfcad   uvnet   13940      train_iou                        0.000000   \n",
       "                           train_loss                    1535.750187   \n",
       "                           val_accuracy                     0.000000   \n",
       "                           val_iou                          0.000000   \n",
       "                           val_loss                      1291.886662   \n",
       "\n",
       "                                                                     \n",
       "                                                                std  \n",
       "dataset model   train_size metric                                    \n",
       "f360seg brepnet 10         _hparams_/experiment            0.000000  \n",
       "                           _hparams_/session_end_info      0.000000  \n",
       "                           _hparams_/session_start_info    0.000000  \n",
       "                           epoch                           0.000000  \n",
       "                           hp_metric                       0.000000  \n",
       "...                                                             ...  \n",
       "mfcad   uvnet   13940      train_iou                       0.000000  \n",
       "                           train_loss                    444.662759  \n",
       "                           val_accuracy                    0.000000  \n",
       "                           val_iou                         0.000000  \n",
       "                           val_loss                      554.990425  \n",
       "\n",
       "[790 rows x 2 columns]"
      ]
     },
     "execution_count": 164,
     "metadata": {},
     "output_type": "execute_result"
    }
   ],
   "source": [
    "agged.groupby(['dataset','model','train_size','metric']).agg({'min_time':['mean', 'std']})"
   ]
  },
  {
   "cell_type": "code",
   "execution_count": 9,
   "metadata": {},
   "outputs": [
    {
     "data": {
      "text/html": [
       "\n",
       "<div id=\"altair-viz-8a5fdbae3a264748b650c38af1068945\"></div>\n",
       "<script type=\"text/javascript\">\n",
       "  var VEGA_DEBUG = (typeof VEGA_DEBUG == \"undefined\") ? {} : VEGA_DEBUG;\n",
       "  (function(spec, embedOpt){\n",
       "    let outputDiv = document.currentScript.previousElementSibling;\n",
       "    if (outputDiv.id !== \"altair-viz-8a5fdbae3a264748b650c38af1068945\") {\n",
       "      outputDiv = document.getElementById(\"altair-viz-8a5fdbae3a264748b650c38af1068945\");\n",
       "    }\n",
       "    const paths = {\n",
       "      \"vega\": \"https://cdn.jsdelivr.net/npm//vega@5?noext\",\n",
       "      \"vega-lib\": \"https://cdn.jsdelivr.net/npm//vega-lib?noext\",\n",
       "      \"vega-lite\": \"https://cdn.jsdelivr.net/npm//vega-lite@4.17.0?noext\",\n",
       "      \"vega-embed\": \"https://cdn.jsdelivr.net/npm//vega-embed@6?noext\",\n",
       "    };\n",
       "\n",
       "    function maybeLoadScript(lib, version) {\n",
       "      var key = `${lib.replace(\"-\", \"\")}_version`;\n",
       "      return (VEGA_DEBUG[key] == version) ?\n",
       "        Promise.resolve(paths[lib]) :\n",
       "        new Promise(function(resolve, reject) {\n",
       "          var s = document.createElement('script');\n",
       "          document.getElementsByTagName(\"head\")[0].appendChild(s);\n",
       "          s.async = true;\n",
       "          s.onload = () => {\n",
       "            VEGA_DEBUG[key] = version;\n",
       "            return resolve(paths[lib]);\n",
       "          };\n",
       "          s.onerror = () => reject(`Error loading script: ${paths[lib]}`);\n",
       "          s.src = paths[lib];\n",
       "        });\n",
       "    }\n",
       "\n",
       "    function showError(err) {\n",
       "      outputDiv.innerHTML = `<div class=\"error\" style=\"color:red;\">${err}</div>`;\n",
       "      throw err;\n",
       "    }\n",
       "\n",
       "    function displayChart(vegaEmbed) {\n",
       "      vegaEmbed(outputDiv, spec, embedOpt)\n",
       "        .catch(err => showError(`Javascript Error: ${err.message}<br>This usually means there's a typo in your chart specification. See the javascript console for the full traceback.`));\n",
       "    }\n",
       "\n",
       "    if(typeof define === \"function\" && define.amd) {\n",
       "      requirejs.config({paths});\n",
       "      require([\"vega-embed\"], displayChart, err => showError(`Error loading script: ${err.message}`));\n",
       "    } else {\n",
       "      maybeLoadScript(\"vega\", \"5\")\n",
       "        .then(() => maybeLoadScript(\"vega-lite\", \"4.17.0\"))\n",
       "        .then(() => maybeLoadScript(\"vega-embed\", \"6\"))\n",
       "        .catch(showError)\n",
       "        .then(() => displayChart(vegaEmbed));\n",
       "    }\n",
       "  })({\"config\": {\"view\": {\"continuousWidth\": 400, \"continuousHeight\": 300}}, \"data\": {\"name\": \"data-29a6f9cff611b08e133148d874b6ddf4\"}, \"mark\": {\"type\": \"circle\", \"size\": 60}, \"encoding\": {\"color\": {\"field\": \"model\", \"type\": \"nominal\"}, \"x\": {\"field\": \"train_size\", \"scale\": {\"type\": \"log\"}, \"type\": \"quantitative\"}, \"y\": {\"field\": \"min_time\", \"scale\": {\"type\": \"log\"}, \"type\": \"quantitative\"}}, \"$schema\": \"https://vega.github.io/schema/vega-lite/v4.17.0.json\", \"datasets\": {\"data-29a6f9cff611b08e133148d874b6ddf4\": [{\"dataset\": \"f360seg\", \"model\": \"brepnet\", \"train_size\": 10, \"metric\": \"validation/loss\", \"seed\": 4.5, \"min_time\": 101.34147129058837, \"max_time\": 7.9397378921508786}, {\"dataset\": \"f360seg\", \"model\": \"brepnet\", \"train_size\": 100, \"metric\": \"validation/loss\", \"seed\": 4.5, \"min_time\": 239.3045817375183, \"max_time\": 0.0}, {\"dataset\": \"f360seg\", \"model\": \"brepnet\", \"train_size\": 1000, \"metric\": \"validation/loss\", \"seed\": 4.5, \"min_time\": 264.38996293544767, \"max_time\": 8.046636915206909}, {\"dataset\": \"f360seg\", \"model\": \"brepnet\", \"train_size\": 10000, \"metric\": \"validation/loss\", \"seed\": 4.5, \"min_time\": 2735.1727908372877, \"max_time\": 95.63669316768646}, {\"dataset\": \"f360seg\", \"model\": \"brepnet\", \"train_size\": 20000, \"metric\": \"validation/loss\", \"seed\": 4.5, \"min_time\": 6907.44853773117, \"max_time\": 17.524205923080444}, {\"dataset\": \"f360seg\", \"model\": \"brepnet\", \"train_size\": 23266, \"metric\": \"validation/loss\", \"seed\": 4.5, \"min_time\": 10224.149292969703, \"max_time\": 170.12635431289672}, {\"dataset\": \"f360seg\", \"model\": \"ours\", \"train_size\": 10, \"metric\": \"val_loss_epoch\", \"seed\": 4.5, \"min_time\": 88.42948315143585, \"max_time\": 20.333651852607726}, {\"dataset\": \"f360seg\", \"model\": \"ours\", \"train_size\": 10, \"metric\": \"val_loss_step\", \"seed\": 4.5, \"min_time\": 88.5023048877716, \"max_time\": 20.369400405883788}, {\"dataset\": \"f360seg\", \"model\": \"ours\", \"train_size\": 100, \"metric\": \"val_loss_epoch\", \"seed\": 4.5, \"min_time\": 33.07030339241028, \"max_time\": 0.0}, {\"dataset\": \"f360seg\", \"model\": \"ours\", \"train_size\": 100, \"metric\": \"val_loss_step\", \"seed\": 4.5, \"min_time\": 33.13613731861115, \"max_time\": 0.0}, {\"dataset\": \"f360seg\", \"model\": \"ours\", \"train_size\": 1000, \"metric\": \"val_loss_epoch\", \"seed\": 4.5, \"min_time\": 60.60318100452423, \"max_time\": 0.0}, {\"dataset\": \"f360seg\", \"model\": \"ours\", \"train_size\": 1000, \"metric\": \"val_loss_step\", \"seed\": 4.5, \"min_time\": 60.665783166885376, \"max_time\": 0.0}, {\"dataset\": \"f360seg\", \"model\": \"ours\", \"train_size\": 10000, \"metric\": \"val_loss_epoch\", \"seed\": 4.5, \"min_time\": 98.15091097354889, \"max_time\": 0.0}, {\"dataset\": \"f360seg\", \"model\": \"ours\", \"train_size\": 10000, \"metric\": \"val_loss_step\", \"seed\": 4.5, \"min_time\": 114.27306253910065, \"max_time\": 0.1805722951889038}, {\"dataset\": \"f360seg\", \"model\": \"ours\", \"train_size\": 20000, \"metric\": \"val_loss_epoch\", \"seed\": 4.5, \"min_time\": 183.7321592092514, \"max_time\": 0.0}, {\"dataset\": \"f360seg\", \"model\": \"ours\", \"train_size\": 20000, \"metric\": \"val_loss_step\", \"seed\": 4.5, \"min_time\": 198.36106889247895, \"max_time\": 0.18403294086456298}, {\"dataset\": \"f360seg\", \"model\": \"ours\", \"train_size\": 23266, \"metric\": \"val_loss_epoch\", \"seed\": 4.5, \"min_time\": 193.15416383743286, \"max_time\": 0.0}, {\"dataset\": \"f360seg\", \"model\": \"ours\", \"train_size\": 23266, \"metric\": \"val_loss_step\", \"seed\": 4.5, \"min_time\": 204.356551527977, \"max_time\": 0.2709640979766846}, {\"dataset\": \"f360seg\", \"model\": \"uvnet\", \"train_size\": 10, \"metric\": \"val_loss\", \"seed\": 4.5, \"min_time\": 106.43158626556396, \"max_time\": 5.880353045463562}, {\"dataset\": \"f360seg\", \"model\": \"uvnet\", \"train_size\": 100, \"metric\": \"val_loss\", \"seed\": 4.5, \"min_time\": 101.21871891021729, \"max_time\": 5.933779525756836}, {\"dataset\": \"f360seg\", \"model\": \"uvnet\", \"train_size\": 1000, \"metric\": \"val_loss\", \"seed\": 4.5, \"min_time\": 222.90372240543365, \"max_time\": 0.43212893009185793}, {\"dataset\": \"f360seg\", \"model\": \"uvnet\", \"train_size\": 10000, \"metric\": \"val_loss\", \"seed\": 4.5, \"min_time\": 923.5022542476654, \"max_time\": 0.0}, {\"dataset\": \"f360seg\", \"model\": \"uvnet\", \"train_size\": 20000, \"metric\": \"val_loss\", \"seed\": 4.5, \"min_time\": 1428.3498865365982, \"max_time\": 0.0}, {\"dataset\": \"f360seg\", \"model\": \"uvnet\", \"train_size\": 23266, \"metric\": \"val_loss\", \"seed\": 4.5, \"min_time\": 1613.1757148981094, \"max_time\": 0.0}]}}, {\"mode\": \"vega-lite\"});\n",
       "</script>"
      ],
      "text/plain": [
       "alt.Chart(...)"
      ]
     },
     "execution_count": 9,
     "metadata": {},
     "output_type": "execute_result"
    }
   ],
   "source": [
    "agged2 = agged#.groupby(['dataset','model','train_size','metric']).agg(['mean', 'std']).reset_index()\n",
    "alt.Chart(agged2[(agged2.metric.str.contains('val')) & (agged2.metric.str.contains('loss')) & (agged2.dataset == 'f360seg')])\\\n",
    "    .mark_circle(size=60)\\\n",
    "    .encode(\n",
    "        x=alt.X('train_size', scale=alt.Scale(type='log')),\n",
    "        y=alt.Y('min_time', scale=alt.Scale(type='log')),\n",
    "        color='model'\n",
    "    )"
   ]
  },
  {
   "cell_type": "code",
   "execution_count": 124,
   "metadata": {},
   "outputs": [
    {
     "data": {
      "text/html": [
       "<div>\n",
       "<style scoped>\n",
       "    .dataframe tbody tr th:only-of-type {\n",
       "        vertical-align: middle;\n",
       "    }\n",
       "\n",
       "    .dataframe tbody tr th {\n",
       "        vertical-align: top;\n",
       "    }\n",
       "\n",
       "    .dataframe thead th {\n",
       "        text-align: right;\n",
       "    }\n",
       "</style>\n",
       "<table border=\"1\" class=\"dataframe\">\n",
       "  <thead>\n",
       "    <tr style=\"text-align: right;\">\n",
       "      <th></th>\n",
       "      <th>logfile</th>\n",
       "      <th>wall_time</th>\n",
       "      <th>step</th>\n",
       "      <th>metric</th>\n",
       "      <th>value</th>\n",
       "      <th>dataset</th>\n",
       "      <th>model</th>\n",
       "      <th>train_size</th>\n",
       "      <th>seed</th>\n",
       "      <th>start_time</th>\n",
       "      <th>rel_time</th>\n",
       "    </tr>\n",
       "  </thead>\n",
       "  <tbody>\n",
       "    <tr>\n",
       "      <th>1010373</th>\n",
       "      <td>/home/ben/Documents/research/repbrep/training_...</td>\n",
       "      <td>1.652724e+09</td>\n",
       "      <td>0</td>\n",
       "      <td>val_loss_epoch</td>\n",
       "      <td>2.658961</td>\n",
       "      <td>f360seg</td>\n",
       "      <td>ours</td>\n",
       "      <td>100</td>\n",
       "      <td>0</td>\n",
       "      <td>1.652724e+09</td>\n",
       "      <td>0.000000</td>\n",
       "    </tr>\n",
       "    <tr>\n",
       "      <th>1010374</th>\n",
       "      <td>/home/ben/Documents/research/repbrep/training_...</td>\n",
       "      <td>1.652724e+09</td>\n",
       "      <td>1</td>\n",
       "      <td>val_loss_epoch</td>\n",
       "      <td>2.463522</td>\n",
       "      <td>f360seg</td>\n",
       "      <td>ours</td>\n",
       "      <td>100</td>\n",
       "      <td>0</td>\n",
       "      <td>1.652724e+09</td>\n",
       "      <td>0.260975</td>\n",
       "    </tr>\n",
       "    <tr>\n",
       "      <th>1010375</th>\n",
       "      <td>/home/ben/Documents/research/repbrep/training_...</td>\n",
       "      <td>1.652724e+09</td>\n",
       "      <td>2</td>\n",
       "      <td>val_loss_epoch</td>\n",
       "      <td>2.291942</td>\n",
       "      <td>f360seg</td>\n",
       "      <td>ours</td>\n",
       "      <td>100</td>\n",
       "      <td>0</td>\n",
       "      <td>1.652724e+09</td>\n",
       "      <td>0.475332</td>\n",
       "    </tr>\n",
       "    <tr>\n",
       "      <th>1010376</th>\n",
       "      <td>/home/ben/Documents/research/repbrep/training_...</td>\n",
       "      <td>1.652724e+09</td>\n",
       "      <td>3</td>\n",
       "      <td>val_loss_epoch</td>\n",
       "      <td>2.144808</td>\n",
       "      <td>f360seg</td>\n",
       "      <td>ours</td>\n",
       "      <td>100</td>\n",
       "      <td>0</td>\n",
       "      <td>1.652724e+09</td>\n",
       "      <td>0.644731</td>\n",
       "    </tr>\n",
       "    <tr>\n",
       "      <th>1010377</th>\n",
       "      <td>/home/ben/Documents/research/repbrep/training_...</td>\n",
       "      <td>1.652724e+09</td>\n",
       "      <td>4</td>\n",
       "      <td>val_loss_epoch</td>\n",
       "      <td>2.025117</td>\n",
       "      <td>f360seg</td>\n",
       "      <td>ours</td>\n",
       "      <td>100</td>\n",
       "      <td>0</td>\n",
       "      <td>1.652724e+09</td>\n",
       "      <td>0.978386</td>\n",
       "    </tr>\n",
       "    <tr>\n",
       "      <th>...</th>\n",
       "      <td>...</td>\n",
       "      <td>...</td>\n",
       "      <td>...</td>\n",
       "      <td>...</td>\n",
       "      <td>...</td>\n",
       "      <td>...</td>\n",
       "      <td>...</td>\n",
       "      <td>...</td>\n",
       "      <td>...</td>\n",
       "      <td>...</td>\n",
       "      <td>...</td>\n",
       "    </tr>\n",
       "    <tr>\n",
       "      <th>1010556</th>\n",
       "      <td>/home/ben/Documents/research/repbrep/training_...</td>\n",
       "      <td>1.652724e+09</td>\n",
       "      <td>183</td>\n",
       "      <td>val_loss_epoch</td>\n",
       "      <td>2.213193</td>\n",
       "      <td>f360seg</td>\n",
       "      <td>ours</td>\n",
       "      <td>100</td>\n",
       "      <td>0</td>\n",
       "      <td>1.652724e+09</td>\n",
       "      <td>59.055521</td>\n",
       "    </tr>\n",
       "    <tr>\n",
       "      <th>1010557</th>\n",
       "      <td>/home/ben/Documents/research/repbrep/training_...</td>\n",
       "      <td>1.652724e+09</td>\n",
       "      <td>184</td>\n",
       "      <td>val_loss_epoch</td>\n",
       "      <td>2.225710</td>\n",
       "      <td>f360seg</td>\n",
       "      <td>ours</td>\n",
       "      <td>100</td>\n",
       "      <td>0</td>\n",
       "      <td>1.652724e+09</td>\n",
       "      <td>59.718734</td>\n",
       "    </tr>\n",
       "    <tr>\n",
       "      <th>1010558</th>\n",
       "      <td>/home/ben/Documents/research/repbrep/training_...</td>\n",
       "      <td>1.652724e+09</td>\n",
       "      <td>185</td>\n",
       "      <td>val_loss_epoch</td>\n",
       "      <td>2.238228</td>\n",
       "      <td>f360seg</td>\n",
       "      <td>ours</td>\n",
       "      <td>100</td>\n",
       "      <td>0</td>\n",
       "      <td>1.652724e+09</td>\n",
       "      <td>60.049240</td>\n",
       "    </tr>\n",
       "    <tr>\n",
       "      <th>1010559</th>\n",
       "      <td>/home/ben/Documents/research/repbrep/training_...</td>\n",
       "      <td>1.652724e+09</td>\n",
       "      <td>186</td>\n",
       "      <td>val_loss_epoch</td>\n",
       "      <td>2.251573</td>\n",
       "      <td>f360seg</td>\n",
       "      <td>ours</td>\n",
       "      <td>100</td>\n",
       "      <td>0</td>\n",
       "      <td>1.652724e+09</td>\n",
       "      <td>60.349135</td>\n",
       "    </tr>\n",
       "    <tr>\n",
       "      <th>1010560</th>\n",
       "      <td>/home/ben/Documents/research/repbrep/training_...</td>\n",
       "      <td>1.652724e+09</td>\n",
       "      <td>187</td>\n",
       "      <td>val_loss_epoch</td>\n",
       "      <td>2.265360</td>\n",
       "      <td>f360seg</td>\n",
       "      <td>ours</td>\n",
       "      <td>100</td>\n",
       "      <td>0</td>\n",
       "      <td>1.652724e+09</td>\n",
       "      <td>60.645835</td>\n",
       "    </tr>\n",
       "  </tbody>\n",
       "</table>\n",
       "<p>188 rows × 11 columns</p>\n",
       "</div>"
      ],
      "text/plain": [
       "                                                   logfile     wall_time  \\\n",
       "1010373  /home/ben/Documents/research/repbrep/training_...  1.652724e+09   \n",
       "1010374  /home/ben/Documents/research/repbrep/training_...  1.652724e+09   \n",
       "1010375  /home/ben/Documents/research/repbrep/training_...  1.652724e+09   \n",
       "1010376  /home/ben/Documents/research/repbrep/training_...  1.652724e+09   \n",
       "1010377  /home/ben/Documents/research/repbrep/training_...  1.652724e+09   \n",
       "...                                                    ...           ...   \n",
       "1010556  /home/ben/Documents/research/repbrep/training_...  1.652724e+09   \n",
       "1010557  /home/ben/Documents/research/repbrep/training_...  1.652724e+09   \n",
       "1010558  /home/ben/Documents/research/repbrep/training_...  1.652724e+09   \n",
       "1010559  /home/ben/Documents/research/repbrep/training_...  1.652724e+09   \n",
       "1010560  /home/ben/Documents/research/repbrep/training_...  1.652724e+09   \n",
       "\n",
       "         step          metric     value  dataset model  train_size  seed  \\\n",
       "1010373     0  val_loss_epoch  2.658961  f360seg  ours         100     0   \n",
       "1010374     1  val_loss_epoch  2.463522  f360seg  ours         100     0   \n",
       "1010375     2  val_loss_epoch  2.291942  f360seg  ours         100     0   \n",
       "1010376     3  val_loss_epoch  2.144808  f360seg  ours         100     0   \n",
       "1010377     4  val_loss_epoch  2.025117  f360seg  ours         100     0   \n",
       "...       ...             ...       ...      ...   ...         ...   ...   \n",
       "1010556   183  val_loss_epoch  2.213193  f360seg  ours         100     0   \n",
       "1010557   184  val_loss_epoch  2.225710  f360seg  ours         100     0   \n",
       "1010558   185  val_loss_epoch  2.238228  f360seg  ours         100     0   \n",
       "1010559   186  val_loss_epoch  2.251573  f360seg  ours         100     0   \n",
       "1010560   187  val_loss_epoch  2.265360  f360seg  ours         100     0   \n",
       "\n",
       "           start_time   rel_time  \n",
       "1010373  1.652724e+09   0.000000  \n",
       "1010374  1.652724e+09   0.260975  \n",
       "1010375  1.652724e+09   0.475332  \n",
       "1010376  1.652724e+09   0.644731  \n",
       "1010377  1.652724e+09   0.978386  \n",
       "...               ...        ...  \n",
       "1010556  1.652724e+09  59.055521  \n",
       "1010557  1.652724e+09  59.718734  \n",
       "1010558  1.652724e+09  60.049240  \n",
       "1010559  1.652724e+09  60.349135  \n",
       "1010560  1.652724e+09  60.645835  \n",
       "\n",
       "[188 rows x 11 columns]"
      ]
     },
     "execution_count": 124,
     "metadata": {},
     "output_type": "execute_result"
    }
   ],
   "source": [
    "edf[(edf.model == 'ours') & (edf.metric == 'val_loss_epoch') & (edf.seed == 0) & (edf.dataset == 'f360seg') & (edf.train_size == 100)]"
   ]
  },
  {
   "cell_type": "code",
   "execution_count": 116,
   "metadata": {},
   "outputs": [
    {
     "data": {
      "text/plain": [
       "array(['hp_metric', '_hparams_/experiment',\n",
       "       '_hparams_/session_start_info', '_hparams_/session_end_info',\n",
       "       'train_loss', 'train_iou', 'train_accuracy', 'epoch', 'val_loss',\n",
       "       'val_iou', 'val_accuracy', 'global_step', 'test/accuracy',\n",
       "       'test/mean_iou', 'test/ExtrudeSide_iou', 'test/ExtrudeEnd_iou',\n",
       "       'test/CutSide_iou', 'test/CutEnd_iou', 'test/Fillet_iou',\n",
       "       'test/Chamfer_iou', 'test/RevolveSide_iou', 'test/RevolveEnd_iou',\n",
       "       'validation/loss', 'validation/accuracy', 'validation/mean_iou',\n",
       "       'validation/ExtrudeSide_iou', 'validation/ExtrudeEnd_iou',\n",
       "       'validation/CutSide_iou', 'validation/CutEnd_iou',\n",
       "       'validation/Fillet_iou', 'validation/Chamfer_iou',\n",
       "       'validation/RevolveSide_iou', 'validation/RevolveEnd_iou',\n",
       "       'train/loss', 'train/accuracy', 'loss', 'train_acc', 'val_acc',\n",
       "       'validation/rectangular_through_slot_iou',\n",
       "       'validation/triangular_through_slot_iou',\n",
       "       'validation/rectangular_passage_iou',\n",
       "       'validation/triangular_passage_iou',\n",
       "       'validation/6sides_passage_iou',\n",
       "       'validation/rectangular_through_step_iou',\n",
       "       'validation/2sides_through_step_iou',\n",
       "       'validation/slanted_through_step_iou',\n",
       "       'validation/rectangular_blind_step_iou',\n",
       "       'validation/triangular_blind_step_iou',\n",
       "       'validation/rectangular_blind_slot_iou',\n",
       "       'validation/rectangular_pocket_iou',\n",
       "       'validation/triangular_pocket_iou', 'validation/6sides_pocket_iou',\n",
       "       'validation/chamfer_iou', 'validation/stock_iou',\n",
       "       'test/rectangular_through_slot_iou',\n",
       "       'test/triangular_through_slot_iou', 'test/rectangular_passage_iou',\n",
       "       'test/triangular_passage_iou', 'test/6sides_passage_iou',\n",
       "       'test/rectangular_through_step_iou',\n",
       "       'test/2sides_through_step_iou', 'test/slanted_through_step_iou',\n",
       "       'test/rectangular_blind_step_iou',\n",
       "       'test/triangular_blind_step_iou',\n",
       "       'test/rectangular_blind_slot_iou', 'test/rectangular_pocket_iou',\n",
       "       'test/triangular_pocket_iou', 'test/6sides_pocket_iou',\n",
       "       'test/chamfer_iou', 'test/stock_iou'], dtype=object)"
      ]
     },
     "execution_count": 116,
     "metadata": {},
     "output_type": "execute_result"
    }
   ],
   "source": [
    "edf[(edf.model != 'ours')].metric.unique()"
   ]
  },
  {
   "cell_type": "code",
   "execution_count": 110,
   "metadata": {},
   "outputs": [
    {
     "data": {
      "text/plain": [
       "ours       976670\n",
       "uvnet      259720\n",
       "brepnet     92434\n",
       "Name: model, dtype: int64"
      ]
     },
     "execution_count": 110,
     "metadata": {},
     "output_type": "execute_result"
    }
   ],
   "source": [
    "edf.model.value_counts()"
   ]
  },
  {
   "cell_type": "code",
   "execution_count": null,
   "metadata": {},
   "outputs": [],
   "source": []
  }
 ],
 "metadata": {
  "kernelspec": {
   "display_name": "Python 3.9.13 ('automate')",
   "language": "python",
   "name": "python3"
  },
  "language_info": {
   "codemirror_mode": {
    "name": "ipython",
    "version": 3
   },
   "file_extension": ".py",
   "mimetype": "text/x-python",
   "name": "python",
   "nbconvert_exporter": "python",
   "pygments_lexer": "ipython3",
   "version": "3.9.13"
  },
  "orig_nbformat": 4,
  "vscode": {
   "interpreter": {
    "hash": "40d348aabc84c65cf5454f47dd42764ee2f97f6b03d2b3fb68e7398f050dcdb8"
   }
  }
 },
 "nbformat": 4,
 "nbformat_minor": 2
}
